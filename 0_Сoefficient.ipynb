{
 "cells": [
  {
   "cell_type": "markdown",
   "metadata": {},
   "source": [
    "**Прогнозирование индекса потребительских цен товаров и услуг по Российской Федерации**"
   ]
  },
  {
   "cell_type": "markdown",
   "metadata": {},
   "source": [
    "*Индекс потребительских цен (ИПЦ)* - это индекс, измеряющий помесячную (поквартальную) динамику цен на потребительские товары и услуги. В первую очередь ИПЦ отражает уровень инфляции в стране и используется для его определения, а также для индексации заработных плат, социальных выплат, выплаты процентов, стоимости арендной платы, цен облигаций, товаров, работ, услуг закупаемых для государственных нужд и иных случаях в зависимости от поставленных задач.\n",
    "\n",
    "Таким образом, понимание тренда развития ИПЦ и его прогноз могут быть использованы при расчете планируемых цен и построении бизнес планов.\n",
    "\n",
    "В данной работе будут использованы открытые данные о ИПЦ с 2000 года, размещенные Федеральной службой государственной статистики на официальном сайте https://rosstat.gov.ru/."
   ]
  },
  {
   "cell_type": "markdown",
   "metadata": {},
   "source": [
    "***Загрузка используемых библиотек Python***"
   ]
  },
  {
   "cell_type": "code",
   "execution_count": 1,
   "metadata": {},
   "outputs": [],
   "source": [
    "from bs4 import BeautifulSoup as bs\n",
    "import requests\n",
    "import pandas as pd\n",
    "import numpy as np\n",
    "import matplotlib.pyplot as plt\n",
    "from datetime import date, timedelta, datetime\n",
    "from dateutil.relativedelta import relativedelta\n",
    "from statsmodels.tsa.stattools import adfuller\n",
    "import math\n",
    "from sklearn.preprocessing import StandardScaler\n",
    "from sklearn.model_selection import train_test_split\n",
    "\n",
    "from sklearn.linear_model import LinearRegression, Ridge\n",
    "from sklearn.ensemble import RandomForestRegressor\n",
    "from sklearn.svm import SVR\n",
    "\n",
    "#neural networks\n",
    "from tensorflow.keras.models import Sequential#Последовательная архитектура (слой за слоем)=\n",
    "from tensorflow.keras.layers import Dense, Dropout, BatchNormalization, LSTM  #Dense слои и нормализация батчей, и дропаут"
   ]
  },
  {
   "cell_type": "markdown",
   "metadata": {
    "id": "KrbWadohmKDW"
   },
   "source": [
    "**Загрузка данных**"
   ]
  },
  {
   "cell_type": "code",
   "execution_count": 2,
   "metadata": {},
   "outputs": [],
   "source": [
    "# основные переменные для получения информации с сайта Росстата \n",
    "url = 'https://rosstat.gov.ru/statistics/price'\n",
    "# будут использоваться индексы потребительских цен на товары и услуги по Российской Федерации (с 1991 г., помесячно)\n",
    "name_index = '\\n                Индексы потребительских цен на товары и услуги по Российской Федерации, месяцы (с 1991 г.)\\n            '"
   ]
  },
  {
   "cell_type": "code",
   "execution_count": 3,
   "metadata": {},
   "outputs": [],
   "source": [
    "# получение данных страницы с сайта Росстата\n",
    "response_url = requests.get(url, headers={'User-Agent': 'Custom'}, timeout=10)"
   ]
  },
  {
   "cell_type": "code",
   "execution_count": 4,
   "metadata": {},
   "outputs": [],
   "source": [
    "# получение ссылки на файл ИПЦ товаров и услуг с сайта Росстата\n",
    "index_ipc_url = bs(response_url.text, \"lxml\").find(text = name_index).find_previous('a')['href']"
   ]
  },
  {
   "cell_type": "code",
   "execution_count": 5,
   "metadata": {},
   "outputs": [
    {
     "data": {
      "text/plain": [
       "'https://rosstat.gov.ru/storage/mediabank/ipc_mes-9.xlsx'"
      ]
     },
     "execution_count": 5,
     "metadata": {},
     "output_type": "execute_result"
    }
   ],
   "source": [
    "# составление ссылки на требуемый файл\n",
    "url_file = str(\"https://rosstat.gov.ru\" + str(index_ipc_url))\n",
    "url_file"
   ]
  },
  {
   "cell_type": "code",
   "execution_count": 6,
   "metadata": {},
   "outputs": [],
   "source": [
    "# чтение(скачивание) файла и преобразование в DataFrame\n",
    "consumer_price_index = pd.read_excel(url_file, sheet_name='01').reset_index(drop=True)"
   ]
  },
  {
   "cell_type": "code",
   "execution_count": 7,
   "metadata": {},
   "outputs": [
    {
     "data": {
      "text/html": [
       "<div>\n",
       "<style scoped>\n",
       "    .dataframe tbody tr th:only-of-type {\n",
       "        vertical-align: middle;\n",
       "    }\n",
       "\n",
       "    .dataframe tbody tr th {\n",
       "        vertical-align: top;\n",
       "    }\n",
       "\n",
       "    .dataframe thead th {\n",
       "        text-align: right;\n",
       "    }\n",
       "</style>\n",
       "<table border=\"1\" class=\"dataframe\">\n",
       "  <thead>\n",
       "    <tr style=\"text-align: right;\">\n",
       "      <th></th>\n",
       "      <th>Индексы потребительских цен на товары и услуги1) по Российской Федерации в 1991-2023*)гг.</th>\n",
       "      <th>Unnamed: 1</th>\n",
       "      <th>Unnamed: 2</th>\n",
       "      <th>Unnamed: 3</th>\n",
       "      <th>Unnamed: 4</th>\n",
       "      <th>Unnamed: 5</th>\n",
       "      <th>Unnamed: 6</th>\n",
       "      <th>Unnamed: 7</th>\n",
       "      <th>Unnamed: 8</th>\n",
       "      <th>Unnamed: 9</th>\n",
       "      <th>...</th>\n",
       "      <th>Unnamed: 24</th>\n",
       "      <th>Unnamed: 25</th>\n",
       "      <th>Unnamed: 26</th>\n",
       "      <th>Unnamed: 27</th>\n",
       "      <th>Unnamed: 28</th>\n",
       "      <th>Unnamed: 29</th>\n",
       "      <th>Unnamed: 30</th>\n",
       "      <th>Unnamed: 31</th>\n",
       "      <th>Unnamed: 32</th>\n",
       "      <th>Unnamed: 33</th>\n",
       "    </tr>\n",
       "  </thead>\n",
       "  <tbody>\n",
       "    <tr>\n",
       "      <th>0</th>\n",
       "      <td>К содержанию</td>\n",
       "      <td>NaN</td>\n",
       "      <td>NaN</td>\n",
       "      <td>NaN</td>\n",
       "      <td>NaN</td>\n",
       "      <td>NaN</td>\n",
       "      <td>NaN</td>\n",
       "      <td>NaN</td>\n",
       "      <td>NaN</td>\n",
       "      <td>NaN</td>\n",
       "      <td>...</td>\n",
       "      <td>NaN</td>\n",
       "      <td>NaN</td>\n",
       "      <td>NaN</td>\n",
       "      <td>NaN</td>\n",
       "      <td>NaN</td>\n",
       "      <td>NaN</td>\n",
       "      <td>NaN</td>\n",
       "      <td>NaN</td>\n",
       "      <td>NaN</td>\n",
       "      <td>NaN</td>\n",
       "    </tr>\n",
       "    <tr>\n",
       "      <th>1</th>\n",
       "      <td>NaN</td>\n",
       "      <td>NaN</td>\n",
       "      <td>NaN</td>\n",
       "      <td>NaN</td>\n",
       "      <td>NaN</td>\n",
       "      <td>NaN</td>\n",
       "      <td>NaN</td>\n",
       "      <td>NaN</td>\n",
       "      <td>NaN</td>\n",
       "      <td>NaN</td>\n",
       "      <td>...</td>\n",
       "      <td>NaN</td>\n",
       "      <td>NaN</td>\n",
       "      <td>NaN</td>\n",
       "      <td>NaN</td>\n",
       "      <td>NaN</td>\n",
       "      <td>NaN</td>\n",
       "      <td>NaN</td>\n",
       "      <td>на конец периода, в %</td>\n",
       "      <td>NaN</td>\n",
       "      <td>NaN</td>\n",
       "    </tr>\n",
       "    <tr>\n",
       "      <th>2</th>\n",
       "      <td>NaN</td>\n",
       "      <td>1991.0</td>\n",
       "      <td>1992.00</td>\n",
       "      <td>1993.00</td>\n",
       "      <td>1994.00</td>\n",
       "      <td>1995.00</td>\n",
       "      <td>1996.00</td>\n",
       "      <td>1997.00</td>\n",
       "      <td>1998.00</td>\n",
       "      <td>1999.00</td>\n",
       "      <td>...</td>\n",
       "      <td>2014.00</td>\n",
       "      <td>2015.00</td>\n",
       "      <td>2016.00</td>\n",
       "      <td>2017.00</td>\n",
       "      <td>2018.00</td>\n",
       "      <td>2019.00</td>\n",
       "      <td>2020.00</td>\n",
       "      <td>2021</td>\n",
       "      <td>2022.00</td>\n",
       "      <td>2023</td>\n",
       "    </tr>\n",
       "    <tr>\n",
       "      <th>3</th>\n",
       "      <td>к концу предыдущего месяца</td>\n",
       "      <td>NaN</td>\n",
       "      <td>NaN</td>\n",
       "      <td>NaN</td>\n",
       "      <td>NaN</td>\n",
       "      <td>NaN</td>\n",
       "      <td>NaN</td>\n",
       "      <td>NaN</td>\n",
       "      <td>NaN</td>\n",
       "      <td>NaN</td>\n",
       "      <td>...</td>\n",
       "      <td>NaN</td>\n",
       "      <td>NaN</td>\n",
       "      <td>NaN</td>\n",
       "      <td>NaN</td>\n",
       "      <td>NaN</td>\n",
       "      <td>NaN</td>\n",
       "      <td>NaN</td>\n",
       "      <td>NaN</td>\n",
       "      <td>NaN</td>\n",
       "      <td>NaN</td>\n",
       "    </tr>\n",
       "    <tr>\n",
       "      <th>4</th>\n",
       "      <td>январь</td>\n",
       "      <td>106.2</td>\n",
       "      <td>345.30</td>\n",
       "      <td>125.80</td>\n",
       "      <td>117.90</td>\n",
       "      <td>117.77</td>\n",
       "      <td>104.11</td>\n",
       "      <td>102.34</td>\n",
       "      <td>101.51</td>\n",
       "      <td>108.38</td>\n",
       "      <td>...</td>\n",
       "      <td>100.59</td>\n",
       "      <td>103.85</td>\n",
       "      <td>100.96</td>\n",
       "      <td>100.62</td>\n",
       "      <td>100.31</td>\n",
       "      <td>101.01</td>\n",
       "      <td>100.40</td>\n",
       "      <td>100.67</td>\n",
       "      <td>100.99</td>\n",
       "      <td>100.84</td>\n",
       "    </tr>\n",
       "    <tr>\n",
       "      <th>5</th>\n",
       "      <td>февраль</td>\n",
       "      <td>104.8</td>\n",
       "      <td>138.00</td>\n",
       "      <td>124.70</td>\n",
       "      <td>110.82</td>\n",
       "      <td>111.02</td>\n",
       "      <td>102.79</td>\n",
       "      <td>101.54</td>\n",
       "      <td>100.89</td>\n",
       "      <td>104.13</td>\n",
       "      <td>...</td>\n",
       "      <td>100.70</td>\n",
       "      <td>102.22</td>\n",
       "      <td>100.63</td>\n",
       "      <td>100.22</td>\n",
       "      <td>100.21</td>\n",
       "      <td>100.44</td>\n",
       "      <td>100.33</td>\n",
       "      <td>100.78</td>\n",
       "      <td>101.17</td>\n",
       "      <td>100.46</td>\n",
       "    </tr>\n",
       "    <tr>\n",
       "      <th>6</th>\n",
       "      <td>март</td>\n",
       "      <td>106.3</td>\n",
       "      <td>129.90</td>\n",
       "      <td>120.10</td>\n",
       "      <td>107.41</td>\n",
       "      <td>108.94</td>\n",
       "      <td>102.80</td>\n",
       "      <td>101.43</td>\n",
       "      <td>100.64</td>\n",
       "      <td>102.79</td>\n",
       "      <td>...</td>\n",
       "      <td>101.02</td>\n",
       "      <td>101.21</td>\n",
       "      <td>100.46</td>\n",
       "      <td>100.13</td>\n",
       "      <td>100.29</td>\n",
       "      <td>100.32</td>\n",
       "      <td>100.55</td>\n",
       "      <td>100.66</td>\n",
       "      <td>107.61</td>\n",
       "      <td>100.37</td>\n",
       "    </tr>\n",
       "    <tr>\n",
       "      <th>7</th>\n",
       "      <td>апрель</td>\n",
       "      <td>163.5</td>\n",
       "      <td>121.70</td>\n",
       "      <td>118.70</td>\n",
       "      <td>108.49</td>\n",
       "      <td>108.47</td>\n",
       "      <td>102.16</td>\n",
       "      <td>100.96</td>\n",
       "      <td>100.38</td>\n",
       "      <td>103.03</td>\n",
       "      <td>...</td>\n",
       "      <td>100.90</td>\n",
       "      <td>100.46</td>\n",
       "      <td>100.44</td>\n",
       "      <td>100.33</td>\n",
       "      <td>100.38</td>\n",
       "      <td>100.29</td>\n",
       "      <td>100.83</td>\n",
       "      <td>100.58</td>\n",
       "      <td>101.56</td>\n",
       "      <td>100.38</td>\n",
       "    </tr>\n",
       "    <tr>\n",
       "      <th>8</th>\n",
       "      <td>май</td>\n",
       "      <td>103.0</td>\n",
       "      <td>111.90</td>\n",
       "      <td>118.10</td>\n",
       "      <td>106.91</td>\n",
       "      <td>107.93</td>\n",
       "      <td>101.60</td>\n",
       "      <td>100.94</td>\n",
       "      <td>100.50</td>\n",
       "      <td>102.22</td>\n",
       "      <td>...</td>\n",
       "      <td>100.90</td>\n",
       "      <td>100.35</td>\n",
       "      <td>100.41</td>\n",
       "      <td>100.37</td>\n",
       "      <td>100.38</td>\n",
       "      <td>100.34</td>\n",
       "      <td>100.27</td>\n",
       "      <td>100.74</td>\n",
       "      <td>100.12</td>\n",
       "      <td>100.31</td>\n",
       "    </tr>\n",
       "    <tr>\n",
       "      <th>9</th>\n",
       "      <td>июнь</td>\n",
       "      <td>101.2</td>\n",
       "      <td>119.10</td>\n",
       "      <td>119.90</td>\n",
       "      <td>106.00</td>\n",
       "      <td>106.66</td>\n",
       "      <td>101.17</td>\n",
       "      <td>101.10</td>\n",
       "      <td>100.08</td>\n",
       "      <td>101.91</td>\n",
       "      <td>...</td>\n",
       "      <td>100.62</td>\n",
       "      <td>100.19</td>\n",
       "      <td>100.36</td>\n",
       "      <td>100.61</td>\n",
       "      <td>100.49</td>\n",
       "      <td>100.04</td>\n",
       "      <td>100.22</td>\n",
       "      <td>100.69</td>\n",
       "      <td>99.65</td>\n",
       "      <td>100.37</td>\n",
       "    </tr>\n",
       "    <tr>\n",
       "      <th>10</th>\n",
       "      <td>июль</td>\n",
       "      <td>100.6</td>\n",
       "      <td>110.60</td>\n",
       "      <td>122.39</td>\n",
       "      <td>105.33</td>\n",
       "      <td>105.38</td>\n",
       "      <td>100.72</td>\n",
       "      <td>100.93</td>\n",
       "      <td>100.17</td>\n",
       "      <td>102.82</td>\n",
       "      <td>...</td>\n",
       "      <td>100.49</td>\n",
       "      <td>100.80</td>\n",
       "      <td>100.54</td>\n",
       "      <td>100.07</td>\n",
       "      <td>100.27</td>\n",
       "      <td>100.20</td>\n",
       "      <td>100.35</td>\n",
       "      <td>100.31</td>\n",
       "      <td>99.61</td>\n",
       "      <td>100.63</td>\n",
       "    </tr>\n",
       "    <tr>\n",
       "      <th>11</th>\n",
       "      <td>август</td>\n",
       "      <td>100.5</td>\n",
       "      <td>108.60</td>\n",
       "      <td>126.00</td>\n",
       "      <td>104.62</td>\n",
       "      <td>104.56</td>\n",
       "      <td>99.79</td>\n",
       "      <td>99.86</td>\n",
       "      <td>103.67</td>\n",
       "      <td>101.16</td>\n",
       "      <td>...</td>\n",
       "      <td>100.24</td>\n",
       "      <td>100.35</td>\n",
       "      <td>100.01</td>\n",
       "      <td>99.46</td>\n",
       "      <td>100.01</td>\n",
       "      <td>99.76</td>\n",
       "      <td>99.96</td>\n",
       "      <td>100.17</td>\n",
       "      <td>99.48</td>\n",
       "      <td>100.28</td>\n",
       "    </tr>\n",
       "    <tr>\n",
       "      <th>12</th>\n",
       "      <td>сентябрь</td>\n",
       "      <td>101.1</td>\n",
       "      <td>111.50</td>\n",
       "      <td>123.00</td>\n",
       "      <td>107.96</td>\n",
       "      <td>104.46</td>\n",
       "      <td>100.33</td>\n",
       "      <td>99.70</td>\n",
       "      <td>138.43</td>\n",
       "      <td>101.48</td>\n",
       "      <td>...</td>\n",
       "      <td>100.65</td>\n",
       "      <td>100.57</td>\n",
       "      <td>100.17</td>\n",
       "      <td>99.85</td>\n",
       "      <td>100.16</td>\n",
       "      <td>99.84</td>\n",
       "      <td>99.93</td>\n",
       "      <td>100.6</td>\n",
       "      <td>100.05</td>\n",
       "      <td>100.87</td>\n",
       "    </tr>\n",
       "    <tr>\n",
       "      <th>13</th>\n",
       "      <td>октябрь</td>\n",
       "      <td>103.5</td>\n",
       "      <td>122.90</td>\n",
       "      <td>119.50</td>\n",
       "      <td>115.00</td>\n",
       "      <td>104.72</td>\n",
       "      <td>101.20</td>\n",
       "      <td>100.17</td>\n",
       "      <td>104.54</td>\n",
       "      <td>101.37</td>\n",
       "      <td>...</td>\n",
       "      <td>100.82</td>\n",
       "      <td>100.74</td>\n",
       "      <td>100.43</td>\n",
       "      <td>100.20</td>\n",
       "      <td>100.35</td>\n",
       "      <td>100.13</td>\n",
       "      <td>100.43</td>\n",
       "      <td>101.11</td>\n",
       "      <td>100.18</td>\n",
       "      <td>NaN</td>\n",
       "    </tr>\n",
       "    <tr>\n",
       "      <th>14</th>\n",
       "      <td>ноябрь</td>\n",
       "      <td>108.9</td>\n",
       "      <td>126.10</td>\n",
       "      <td>116.39</td>\n",
       "      <td>114.61</td>\n",
       "      <td>104.56</td>\n",
       "      <td>101.88</td>\n",
       "      <td>100.61</td>\n",
       "      <td>105.67</td>\n",
       "      <td>101.23</td>\n",
       "      <td>...</td>\n",
       "      <td>101.28</td>\n",
       "      <td>100.75</td>\n",
       "      <td>100.44</td>\n",
       "      <td>100.22</td>\n",
       "      <td>100.50</td>\n",
       "      <td>100.28</td>\n",
       "      <td>100.71</td>\n",
       "      <td>100.96</td>\n",
       "      <td>100.37</td>\n",
       "      <td>NaN</td>\n",
       "    </tr>\n",
       "    <tr>\n",
       "      <th>15</th>\n",
       "      <td>декабрь</td>\n",
       "      <td>112.1</td>\n",
       "      <td>125.20</td>\n",
       "      <td>112.50</td>\n",
       "      <td>116.44</td>\n",
       "      <td>103.20</td>\n",
       "      <td>101.42</td>\n",
       "      <td>100.96</td>\n",
       "      <td>111.61</td>\n",
       "      <td>101.26</td>\n",
       "      <td>...</td>\n",
       "      <td>102.62</td>\n",
       "      <td>100.77</td>\n",
       "      <td>100.40</td>\n",
       "      <td>100.42</td>\n",
       "      <td>100.84</td>\n",
       "      <td>100.36</td>\n",
       "      <td>100.83</td>\n",
       "      <td>100.82</td>\n",
       "      <td>100.78</td>\n",
       "      <td>NaN</td>\n",
       "    </tr>\n",
       "    <tr>\n",
       "      <th>16</th>\n",
       "      <td>к декабрю предыдущего года</td>\n",
       "      <td>NaN</td>\n",
       "      <td>NaN</td>\n",
       "      <td>NaN</td>\n",
       "      <td>NaN</td>\n",
       "      <td>NaN</td>\n",
       "      <td>NaN</td>\n",
       "      <td>NaN</td>\n",
       "      <td>NaN</td>\n",
       "      <td>NaN</td>\n",
       "      <td>...</td>\n",
       "      <td>NaN</td>\n",
       "      <td>NaN</td>\n",
       "      <td>NaN</td>\n",
       "      <td>NaN</td>\n",
       "      <td>NaN</td>\n",
       "      <td>NaN</td>\n",
       "      <td>NaN</td>\n",
       "      <td>NaN</td>\n",
       "      <td>NaN</td>\n",
       "      <td>NaN</td>\n",
       "    </tr>\n",
       "    <tr>\n",
       "      <th>17</th>\n",
       "      <td>декабрь</td>\n",
       "      <td>260.4</td>\n",
       "      <td>2608.84</td>\n",
       "      <td>939.90</td>\n",
       "      <td>315.14</td>\n",
       "      <td>231.30</td>\n",
       "      <td>121.81</td>\n",
       "      <td>111.03</td>\n",
       "      <td>184.43</td>\n",
       "      <td>136.53</td>\n",
       "      <td>...</td>\n",
       "      <td>111.35</td>\n",
       "      <td>112.91</td>\n",
       "      <td>105.39</td>\n",
       "      <td>102.51</td>\n",
       "      <td>104.26</td>\n",
       "      <td>103.04</td>\n",
       "      <td>104.91</td>\n",
       "      <td>108.39</td>\n",
       "      <td>111.94</td>\n",
       "      <td>104,602)</td>\n",
       "    </tr>\n",
       "    <tr>\n",
       "      <th>18</th>\n",
       "      <td>1)в соответствии с Федеральным планом ...</td>\n",
       "      <td>NaN</td>\n",
       "      <td>NaN</td>\n",
       "      <td>NaN</td>\n",
       "      <td>NaN</td>\n",
       "      <td>NaN</td>\n",
       "      <td>NaN</td>\n",
       "      <td>NaN</td>\n",
       "      <td>NaN</td>\n",
       "      <td>NaN</td>\n",
       "      <td>...</td>\n",
       "      <td>NaN</td>\n",
       "      <td>NaN</td>\n",
       "      <td>NaN</td>\n",
       "      <td>NaN</td>\n",
       "      <td>NaN</td>\n",
       "      <td>NaN</td>\n",
       "      <td>NaN</td>\n",
       "      <td>NaN</td>\n",
       "      <td>NaN</td>\n",
       "      <td>NaN</td>\n",
       "    </tr>\n",
       "    <tr>\n",
       "      <th>19</th>\n",
       "      <td>NaN</td>\n",
       "      <td>NaN</td>\n",
       "      <td>NaN</td>\n",
       "      <td>NaN</td>\n",
       "      <td>NaN</td>\n",
       "      <td>NaN</td>\n",
       "      <td>NaN</td>\n",
       "      <td>NaN</td>\n",
       "      <td>NaN</td>\n",
       "      <td>NaN</td>\n",
       "      <td>...</td>\n",
       "      <td>NaN</td>\n",
       "      <td>NaN</td>\n",
       "      <td>NaN</td>\n",
       "      <td>NaN</td>\n",
       "      <td>NaN</td>\n",
       "      <td>NaN</td>\n",
       "      <td>NaN</td>\n",
       "      <td>NaN</td>\n",
       "      <td>NaN</td>\n",
       "      <td>NaN</td>\n",
       "    </tr>\n",
       "    <tr>\n",
       "      <th>20</th>\n",
       "      <td>*)Без учета статистической информации по Донец...</td>\n",
       "      <td>NaN</td>\n",
       "      <td>NaN</td>\n",
       "      <td>NaN</td>\n",
       "      <td>NaN</td>\n",
       "      <td>NaN</td>\n",
       "      <td>NaN</td>\n",
       "      <td>NaN</td>\n",
       "      <td>NaN</td>\n",
       "      <td>NaN</td>\n",
       "      <td>...</td>\n",
       "      <td>NaN</td>\n",
       "      <td>NaN</td>\n",
       "      <td>NaN</td>\n",
       "      <td>NaN</td>\n",
       "      <td>NaN</td>\n",
       "      <td>NaN</td>\n",
       "      <td>NaN</td>\n",
       "      <td>NaN</td>\n",
       "      <td>NaN</td>\n",
       "      <td>NaN</td>\n",
       "    </tr>\n",
       "  </tbody>\n",
       "</table>\n",
       "<p>21 rows × 34 columns</p>\n",
       "</div>"
      ],
      "text/plain": [
       "   Индексы потребительских цен на товары и услуги1) по Российской Федерации в 1991-2023*)гг.  \\\n",
       "0                                        К содержанию                                          \n",
       "1                                                 NaN                                          \n",
       "2                                                 NaN                                          \n",
       "3                          к концу предыдущего месяца                                          \n",
       "4                                              январь                                          \n",
       "5                                             февраль                                          \n",
       "6                                                март                                          \n",
       "7                                              апрель                                          \n",
       "8                                                 май                                          \n",
       "9                                                июнь                                          \n",
       "10                                               июль                                          \n",
       "11                                             август                                          \n",
       "12                                           сентябрь                                          \n",
       "13                                            октябрь                                          \n",
       "14                                             ноябрь                                          \n",
       "15                                            декабрь                                          \n",
       "16                         к декабрю предыдущего года                                          \n",
       "17                                            декабрь                                          \n",
       "18          1)в соответствии с Федеральным планом ...                                          \n",
       "19                                                NaN                                          \n",
       "20  *)Без учета статистической информации по Донец...                                          \n",
       "\n",
       "    Unnamed: 1  Unnamed: 2  Unnamed: 3  Unnamed: 4  Unnamed: 5  Unnamed: 6  \\\n",
       "0          NaN         NaN         NaN         NaN         NaN         NaN   \n",
       "1          NaN         NaN         NaN         NaN         NaN         NaN   \n",
       "2       1991.0     1992.00     1993.00     1994.00     1995.00     1996.00   \n",
       "3          NaN         NaN         NaN         NaN         NaN         NaN   \n",
       "4        106.2      345.30      125.80      117.90      117.77      104.11   \n",
       "5        104.8      138.00      124.70      110.82      111.02      102.79   \n",
       "6        106.3      129.90      120.10      107.41      108.94      102.80   \n",
       "7        163.5      121.70      118.70      108.49      108.47      102.16   \n",
       "8        103.0      111.90      118.10      106.91      107.93      101.60   \n",
       "9        101.2      119.10      119.90      106.00      106.66      101.17   \n",
       "10       100.6      110.60      122.39      105.33      105.38      100.72   \n",
       "11       100.5      108.60      126.00      104.62      104.56       99.79   \n",
       "12       101.1      111.50      123.00      107.96      104.46      100.33   \n",
       "13       103.5      122.90      119.50      115.00      104.72      101.20   \n",
       "14       108.9      126.10      116.39      114.61      104.56      101.88   \n",
       "15       112.1      125.20      112.50      116.44      103.20      101.42   \n",
       "16         NaN         NaN         NaN         NaN         NaN         NaN   \n",
       "17       260.4     2608.84      939.90      315.14      231.30      121.81   \n",
       "18         NaN         NaN         NaN         NaN         NaN         NaN   \n",
       "19         NaN         NaN         NaN         NaN         NaN         NaN   \n",
       "20         NaN         NaN         NaN         NaN         NaN         NaN   \n",
       "\n",
       "    Unnamed: 7  Unnamed: 8  Unnamed: 9  ...  Unnamed: 24  Unnamed: 25  \\\n",
       "0          NaN         NaN         NaN  ...          NaN          NaN   \n",
       "1          NaN         NaN         NaN  ...          NaN          NaN   \n",
       "2      1997.00     1998.00     1999.00  ...      2014.00      2015.00   \n",
       "3          NaN         NaN         NaN  ...          NaN          NaN   \n",
       "4       102.34      101.51      108.38  ...       100.59       103.85   \n",
       "5       101.54      100.89      104.13  ...       100.70       102.22   \n",
       "6       101.43      100.64      102.79  ...       101.02       101.21   \n",
       "7       100.96      100.38      103.03  ...       100.90       100.46   \n",
       "8       100.94      100.50      102.22  ...       100.90       100.35   \n",
       "9       101.10      100.08      101.91  ...       100.62       100.19   \n",
       "10      100.93      100.17      102.82  ...       100.49       100.80   \n",
       "11       99.86      103.67      101.16  ...       100.24       100.35   \n",
       "12       99.70      138.43      101.48  ...       100.65       100.57   \n",
       "13      100.17      104.54      101.37  ...       100.82       100.74   \n",
       "14      100.61      105.67      101.23  ...       101.28       100.75   \n",
       "15      100.96      111.61      101.26  ...       102.62       100.77   \n",
       "16         NaN         NaN         NaN  ...          NaN          NaN   \n",
       "17      111.03      184.43      136.53  ...       111.35       112.91   \n",
       "18         NaN         NaN         NaN  ...          NaN          NaN   \n",
       "19         NaN         NaN         NaN  ...          NaN          NaN   \n",
       "20         NaN         NaN         NaN  ...          NaN          NaN   \n",
       "\n",
       "    Unnamed: 26  Unnamed: 27  Unnamed: 28  Unnamed: 29  Unnamed: 30  \\\n",
       "0           NaN          NaN          NaN          NaN          NaN   \n",
       "1           NaN          NaN          NaN          NaN          NaN   \n",
       "2       2016.00      2017.00      2018.00      2019.00      2020.00   \n",
       "3           NaN          NaN          NaN          NaN          NaN   \n",
       "4        100.96       100.62       100.31       101.01       100.40   \n",
       "5        100.63       100.22       100.21       100.44       100.33   \n",
       "6        100.46       100.13       100.29       100.32       100.55   \n",
       "7        100.44       100.33       100.38       100.29       100.83   \n",
       "8        100.41       100.37       100.38       100.34       100.27   \n",
       "9        100.36       100.61       100.49       100.04       100.22   \n",
       "10       100.54       100.07       100.27       100.20       100.35   \n",
       "11       100.01        99.46       100.01        99.76        99.96   \n",
       "12       100.17        99.85       100.16        99.84        99.93   \n",
       "13       100.43       100.20       100.35       100.13       100.43   \n",
       "14       100.44       100.22       100.50       100.28       100.71   \n",
       "15       100.40       100.42       100.84       100.36       100.83   \n",
       "16          NaN          NaN          NaN          NaN          NaN   \n",
       "17       105.39       102.51       104.26       103.04       104.91   \n",
       "18          NaN          NaN          NaN          NaN          NaN   \n",
       "19          NaN          NaN          NaN          NaN          NaN   \n",
       "20          NaN          NaN          NaN          NaN          NaN   \n",
       "\n",
       "              Unnamed: 31  Unnamed: 32  Unnamed: 33  \n",
       "0                     NaN          NaN          NaN  \n",
       "1   на конец периода, в %          NaN          NaN  \n",
       "2                    2021      2022.00         2023  \n",
       "3                     NaN          NaN          NaN  \n",
       "4                  100.67       100.99       100.84  \n",
       "5                  100.78       101.17       100.46  \n",
       "6                  100.66       107.61       100.37  \n",
       "7                  100.58       101.56       100.38  \n",
       "8                  100.74       100.12       100.31  \n",
       "9                  100.69        99.65       100.37  \n",
       "10                 100.31        99.61       100.63  \n",
       "11                 100.17        99.48       100.28  \n",
       "12                  100.6       100.05       100.87  \n",
       "13                 101.11       100.18          NaN  \n",
       "14                 100.96       100.37          NaN  \n",
       "15                 100.82       100.78          NaN  \n",
       "16                    NaN          NaN          NaN  \n",
       "17                 108.39       111.94     104,602)  \n",
       "18                    NaN          NaN          NaN  \n",
       "19                    NaN          NaN          NaN  \n",
       "20                    NaN          NaN          NaN  \n",
       "\n",
       "[21 rows x 34 columns]"
      ]
     },
     "execution_count": 7,
     "metadata": {},
     "output_type": "execute_result"
    }
   ],
   "source": [
    "# посмотрим что скачалось\n",
    "consumer_price_index"
   ]
  },
  {
   "cell_type": "code",
   "execution_count": 8,
   "metadata": {},
   "outputs": [
    {
     "data": {
      "text/html": [
       "<div>\n",
       "<style scoped>\n",
       "    .dataframe tbody tr th:only-of-type {\n",
       "        vertical-align: middle;\n",
       "    }\n",
       "\n",
       "    .dataframe tbody tr th {\n",
       "        vertical-align: top;\n",
       "    }\n",
       "\n",
       "    .dataframe thead th {\n",
       "        text-align: right;\n",
       "    }\n",
       "</style>\n",
       "<table border=\"1\" class=\"dataframe\">\n",
       "  <thead>\n",
       "    <tr style=\"text-align: right;\">\n",
       "      <th></th>\n",
       "      <th>0</th>\n",
       "      <th>1</th>\n",
       "      <th>2</th>\n",
       "      <th>3</th>\n",
       "      <th>4</th>\n",
       "      <th>5</th>\n",
       "      <th>6</th>\n",
       "      <th>7</th>\n",
       "      <th>8</th>\n",
       "      <th>9</th>\n",
       "      <th>...</th>\n",
       "      <th>14</th>\n",
       "      <th>15</th>\n",
       "      <th>16</th>\n",
       "      <th>17</th>\n",
       "      <th>18</th>\n",
       "      <th>19</th>\n",
       "      <th>20</th>\n",
       "      <th>21</th>\n",
       "      <th>22</th>\n",
       "      <th>23</th>\n",
       "    </tr>\n",
       "  </thead>\n",
       "  <tbody>\n",
       "    <tr>\n",
       "      <th>0</th>\n",
       "      <td>102.33</td>\n",
       "      <td>102.76</td>\n",
       "      <td>103.09</td>\n",
       "      <td>102.40</td>\n",
       "      <td>101.75</td>\n",
       "      <td>102.62</td>\n",
       "      <td>102.43</td>\n",
       "      <td>101.68</td>\n",
       "      <td>102.31</td>\n",
       "      <td>102.37</td>\n",
       "      <td>...</td>\n",
       "      <td>100.59</td>\n",
       "      <td>103.85</td>\n",
       "      <td>100.96</td>\n",
       "      <td>100.62</td>\n",
       "      <td>100.31</td>\n",
       "      <td>101.01</td>\n",
       "      <td>100.40</td>\n",
       "      <td>100.67</td>\n",
       "      <td>100.99</td>\n",
       "      <td>100.84</td>\n",
       "    </tr>\n",
       "    <tr>\n",
       "      <th>1</th>\n",
       "      <td>101.04</td>\n",
       "      <td>102.28</td>\n",
       "      <td>101.16</td>\n",
       "      <td>101.63</td>\n",
       "      <td>100.99</td>\n",
       "      <td>101.23</td>\n",
       "      <td>101.66</td>\n",
       "      <td>101.11</td>\n",
       "      <td>101.20</td>\n",
       "      <td>101.65</td>\n",
       "      <td>...</td>\n",
       "      <td>100.70</td>\n",
       "      <td>102.22</td>\n",
       "      <td>100.63</td>\n",
       "      <td>100.22</td>\n",
       "      <td>100.21</td>\n",
       "      <td>100.44</td>\n",
       "      <td>100.33</td>\n",
       "      <td>100.78</td>\n",
       "      <td>101.17</td>\n",
       "      <td>100.46</td>\n",
       "    </tr>\n",
       "    <tr>\n",
       "      <th>2</th>\n",
       "      <td>100.64</td>\n",
       "      <td>101.86</td>\n",
       "      <td>101.08</td>\n",
       "      <td>101.05</td>\n",
       "      <td>100.75</td>\n",
       "      <td>101.34</td>\n",
       "      <td>100.82</td>\n",
       "      <td>100.59</td>\n",
       "      <td>101.20</td>\n",
       "      <td>101.31</td>\n",
       "      <td>...</td>\n",
       "      <td>101.02</td>\n",
       "      <td>101.21</td>\n",
       "      <td>100.46</td>\n",
       "      <td>100.13</td>\n",
       "      <td>100.29</td>\n",
       "      <td>100.32</td>\n",
       "      <td>100.55</td>\n",
       "      <td>100.66</td>\n",
       "      <td>107.61</td>\n",
       "      <td>100.37</td>\n",
       "    </tr>\n",
       "    <tr>\n",
       "      <th>3</th>\n",
       "      <td>100.89</td>\n",
       "      <td>101.79</td>\n",
       "      <td>101.16</td>\n",
       "      <td>101.02</td>\n",
       "      <td>100.99</td>\n",
       "      <td>101.12</td>\n",
       "      <td>100.35</td>\n",
       "      <td>100.57</td>\n",
       "      <td>101.42</td>\n",
       "      <td>100.69</td>\n",
       "      <td>...</td>\n",
       "      <td>100.90</td>\n",
       "      <td>100.46</td>\n",
       "      <td>100.44</td>\n",
       "      <td>100.33</td>\n",
       "      <td>100.38</td>\n",
       "      <td>100.29</td>\n",
       "      <td>100.83</td>\n",
       "      <td>100.58</td>\n",
       "      <td>101.56</td>\n",
       "      <td>100.38</td>\n",
       "    </tr>\n",
       "    <tr>\n",
       "      <th>4</th>\n",
       "      <td>101.75</td>\n",
       "      <td>101.78</td>\n",
       "      <td>101.69</td>\n",
       "      <td>100.80</td>\n",
       "      <td>100.74</td>\n",
       "      <td>100.80</td>\n",
       "      <td>100.48</td>\n",
       "      <td>100.63</td>\n",
       "      <td>101.35</td>\n",
       "      <td>100.57</td>\n",
       "      <td>...</td>\n",
       "      <td>100.90</td>\n",
       "      <td>100.35</td>\n",
       "      <td>100.41</td>\n",
       "      <td>100.37</td>\n",
       "      <td>100.38</td>\n",
       "      <td>100.34</td>\n",
       "      <td>100.27</td>\n",
       "      <td>100.74</td>\n",
       "      <td>100.12</td>\n",
       "      <td>100.31</td>\n",
       "    </tr>\n",
       "    <tr>\n",
       "      <th>5</th>\n",
       "      <td>102.55</td>\n",
       "      <td>101.62</td>\n",
       "      <td>100.53</td>\n",
       "      <td>100.80</td>\n",
       "      <td>100.78</td>\n",
       "      <td>100.64</td>\n",
       "      <td>100.28</td>\n",
       "      <td>100.95</td>\n",
       "      <td>100.97</td>\n",
       "      <td>100.60</td>\n",
       "      <td>...</td>\n",
       "      <td>100.62</td>\n",
       "      <td>100.19</td>\n",
       "      <td>100.36</td>\n",
       "      <td>100.61</td>\n",
       "      <td>100.49</td>\n",
       "      <td>100.04</td>\n",
       "      <td>100.22</td>\n",
       "      <td>100.69</td>\n",
       "      <td>99.65</td>\n",
       "      <td>100.37</td>\n",
       "    </tr>\n",
       "    <tr>\n",
       "      <th>6</th>\n",
       "      <td>101.79</td>\n",
       "      <td>100.45</td>\n",
       "      <td>100.72</td>\n",
       "      <td>100.71</td>\n",
       "      <td>100.92</td>\n",
       "      <td>100.46</td>\n",
       "      <td>100.67</td>\n",
       "      <td>100.87</td>\n",
       "      <td>100.51</td>\n",
       "      <td>100.63</td>\n",
       "      <td>...</td>\n",
       "      <td>100.49</td>\n",
       "      <td>100.80</td>\n",
       "      <td>100.54</td>\n",
       "      <td>100.07</td>\n",
       "      <td>100.27</td>\n",
       "      <td>100.20</td>\n",
       "      <td>100.35</td>\n",
       "      <td>100.31</td>\n",
       "      <td>99.61</td>\n",
       "      <td>100.63</td>\n",
       "    </tr>\n",
       "    <tr>\n",
       "      <th>7</th>\n",
       "      <td>100.98</td>\n",
       "      <td>100.01</td>\n",
       "      <td>100.09</td>\n",
       "      <td>99.59</td>\n",
       "      <td>100.42</td>\n",
       "      <td>99.86</td>\n",
       "      <td>100.19</td>\n",
       "      <td>100.09</td>\n",
       "      <td>100.36</td>\n",
       "      <td>100.00</td>\n",
       "      <td>...</td>\n",
       "      <td>100.24</td>\n",
       "      <td>100.35</td>\n",
       "      <td>100.01</td>\n",
       "      <td>99.46</td>\n",
       "      <td>100.01</td>\n",
       "      <td>99.76</td>\n",
       "      <td>99.96</td>\n",
       "      <td>100.17</td>\n",
       "      <td>99.48</td>\n",
       "      <td>100.28</td>\n",
       "    </tr>\n",
       "    <tr>\n",
       "      <th>8</th>\n",
       "      <td>101.32</td>\n",
       "      <td>100.60</td>\n",
       "      <td>100.40</td>\n",
       "      <td>100.34</td>\n",
       "      <td>100.43</td>\n",
       "      <td>100.25</td>\n",
       "      <td>100.09</td>\n",
       "      <td>100.79</td>\n",
       "      <td>100.80</td>\n",
       "      <td>99.97</td>\n",
       "      <td>...</td>\n",
       "      <td>100.65</td>\n",
       "      <td>100.57</td>\n",
       "      <td>100.17</td>\n",
       "      <td>99.85</td>\n",
       "      <td>100.16</td>\n",
       "      <td>99.84</td>\n",
       "      <td>99.93</td>\n",
       "      <td>100.6</td>\n",
       "      <td>100.05</td>\n",
       "      <td>100.87</td>\n",
       "    </tr>\n",
       "    <tr>\n",
       "      <th>9</th>\n",
       "      <td>102.11</td>\n",
       "      <td>101.09</td>\n",
       "      <td>101.07</td>\n",
       "      <td>101.00</td>\n",
       "      <td>101.14</td>\n",
       "      <td>100.55</td>\n",
       "      <td>100.28</td>\n",
       "      <td>101.64</td>\n",
       "      <td>100.91</td>\n",
       "      <td>100.00</td>\n",
       "      <td>...</td>\n",
       "      <td>100.82</td>\n",
       "      <td>100.74</td>\n",
       "      <td>100.43</td>\n",
       "      <td>100.20</td>\n",
       "      <td>100.35</td>\n",
       "      <td>100.13</td>\n",
       "      <td>100.43</td>\n",
       "      <td>101.11</td>\n",
       "      <td>100.18</td>\n",
       "      <td>NaN</td>\n",
       "    </tr>\n",
       "    <tr>\n",
       "      <th>10</th>\n",
       "      <td>101.52</td>\n",
       "      <td>101.36</td>\n",
       "      <td>101.61</td>\n",
       "      <td>100.96</td>\n",
       "      <td>101.11</td>\n",
       "      <td>100.74</td>\n",
       "      <td>100.63</td>\n",
       "      <td>101.23</td>\n",
       "      <td>100.83</td>\n",
       "      <td>100.29</td>\n",
       "      <td>...</td>\n",
       "      <td>101.28</td>\n",
       "      <td>100.75</td>\n",
       "      <td>100.44</td>\n",
       "      <td>100.22</td>\n",
       "      <td>100.50</td>\n",
       "      <td>100.28</td>\n",
       "      <td>100.71</td>\n",
       "      <td>100.96</td>\n",
       "      <td>100.37</td>\n",
       "      <td>NaN</td>\n",
       "    </tr>\n",
       "    <tr>\n",
       "      <th>11</th>\n",
       "      <td>101.64</td>\n",
       "      <td>101.60</td>\n",
       "      <td>101.54</td>\n",
       "      <td>101.10</td>\n",
       "      <td>101.14</td>\n",
       "      <td>100.82</td>\n",
       "      <td>100.79</td>\n",
       "      <td>101.13</td>\n",
       "      <td>100.69</td>\n",
       "      <td>100.41</td>\n",
       "      <td>...</td>\n",
       "      <td>102.62</td>\n",
       "      <td>100.77</td>\n",
       "      <td>100.40</td>\n",
       "      <td>100.42</td>\n",
       "      <td>100.84</td>\n",
       "      <td>100.36</td>\n",
       "      <td>100.83</td>\n",
       "      <td>100.82</td>\n",
       "      <td>100.78</td>\n",
       "      <td>NaN</td>\n",
       "    </tr>\n",
       "  </tbody>\n",
       "</table>\n",
       "<p>12 rows × 24 columns</p>\n",
       "</div>"
      ],
      "text/plain": [
       "        0       1       2       3       4       5       6       7       8   \\\n",
       "0   102.33  102.76  103.09  102.40  101.75  102.62  102.43  101.68  102.31   \n",
       "1   101.04  102.28  101.16  101.63  100.99  101.23  101.66  101.11  101.20   \n",
       "2   100.64  101.86  101.08  101.05  100.75  101.34  100.82  100.59  101.20   \n",
       "3   100.89  101.79  101.16  101.02  100.99  101.12  100.35  100.57  101.42   \n",
       "4   101.75  101.78  101.69  100.80  100.74  100.80  100.48  100.63  101.35   \n",
       "5   102.55  101.62  100.53  100.80  100.78  100.64  100.28  100.95  100.97   \n",
       "6   101.79  100.45  100.72  100.71  100.92  100.46  100.67  100.87  100.51   \n",
       "7   100.98  100.01  100.09   99.59  100.42   99.86  100.19  100.09  100.36   \n",
       "8   101.32  100.60  100.40  100.34  100.43  100.25  100.09  100.79  100.80   \n",
       "9   102.11  101.09  101.07  101.00  101.14  100.55  100.28  101.64  100.91   \n",
       "10  101.52  101.36  101.61  100.96  101.11  100.74  100.63  101.23  100.83   \n",
       "11  101.64  101.60  101.54  101.10  101.14  100.82  100.79  101.13  100.69   \n",
       "\n",
       "        9   ...      14      15      16      17      18      19      20  \\\n",
       "0   102.37  ...  100.59  103.85  100.96  100.62  100.31  101.01  100.40   \n",
       "1   101.65  ...  100.70  102.22  100.63  100.22  100.21  100.44  100.33   \n",
       "2   101.31  ...  101.02  101.21  100.46  100.13  100.29  100.32  100.55   \n",
       "3   100.69  ...  100.90  100.46  100.44  100.33  100.38  100.29  100.83   \n",
       "4   100.57  ...  100.90  100.35  100.41  100.37  100.38  100.34  100.27   \n",
       "5   100.60  ...  100.62  100.19  100.36  100.61  100.49  100.04  100.22   \n",
       "6   100.63  ...  100.49  100.80  100.54  100.07  100.27  100.20  100.35   \n",
       "7   100.00  ...  100.24  100.35  100.01   99.46  100.01   99.76   99.96   \n",
       "8    99.97  ...  100.65  100.57  100.17   99.85  100.16   99.84   99.93   \n",
       "9   100.00  ...  100.82  100.74  100.43  100.20  100.35  100.13  100.43   \n",
       "10  100.29  ...  101.28  100.75  100.44  100.22  100.50  100.28  100.71   \n",
       "11  100.41  ...  102.62  100.77  100.40  100.42  100.84  100.36  100.83   \n",
       "\n",
       "        21      22      23  \n",
       "0   100.67  100.99  100.84  \n",
       "1   100.78  101.17  100.46  \n",
       "2   100.66  107.61  100.37  \n",
       "3   100.58  101.56  100.38  \n",
       "4   100.74  100.12  100.31  \n",
       "5   100.69   99.65  100.37  \n",
       "6   100.31   99.61  100.63  \n",
       "7   100.17   99.48  100.28  \n",
       "8    100.6  100.05  100.87  \n",
       "9   101.11  100.18     NaN  \n",
       "10  100.96  100.37     NaN  \n",
       "11  100.82  100.78     NaN  \n",
       "\n",
       "[12 rows x 24 columns]"
      ]
     },
     "execution_count": 8,
     "metadata": {},
     "output_type": "execute_result"
    }
   ],
   "source": [
    "# получение стартового значения индекса месяца\n",
    "start_index = consumer_price_index.iloc[:,:1][consumer_price_index.iloc[:,:1] == 'январь']\\\n",
    "                                                                                    .dropna().index[0]\n",
    "\n",
    "# получение кол-ва лет с текущим до 2000 года (включительно)\n",
    "number_years = int(datetime.now().year) - 1999\n",
    "\n",
    "# получение значений индексов по месячно и по годам\n",
    "table_index = (consumer_price_index.iloc[:, -number_years:].loc[start_index:(start_index + 11)])\\\n",
    "                                                                               .reset_index(drop=True)\n",
    "\n",
    "# замена названий в таблице (с 2000 года)\n",
    "table_index.columns = [int(_) for _ in range(number_years)]\n",
    "\n",
    "table_index"
   ]
  },
  {
   "cell_type": "code",
   "execution_count": 9,
   "metadata": {},
   "outputs": [
    {
     "data": {
      "text/plain": [
       "0      102.33\n",
       "1      101.04\n",
       "2      100.64\n",
       "3      100.89\n",
       "4      101.75\n",
       "        ...  \n",
       "280    100.31\n",
       "281    100.37\n",
       "282    100.63\n",
       "283    100.28\n",
       "284    100.87\n",
       "Length: 285, dtype: object"
      ]
     },
     "execution_count": 9,
     "metadata": {},
     "output_type": "execute_result"
    }
   ],
   "source": [
    "# составление списка индексов в виде одномерного массива (вектора)\n",
    "list_index = (pd.concat([table_index[_] for _ in range(number_years)])).reset_index(drop=True).dropna()\n",
    "list_index"
   ]
  },
  {
   "cell_type": "markdown",
   "metadata": {},
   "source": [
    "**Подготовка датасета**"
   ]
  },
  {
   "cell_type": "code",
   "execution_count": 10,
   "metadata": {},
   "outputs": [
    {
     "data": {
      "text/plain": [
       "[datetime.date(2023, 6, 1),\n",
       " datetime.date(2023, 7, 1),\n",
       " datetime.date(2023, 8, 1),\n",
       " datetime.date(2023, 9, 1),\n",
       " datetime.date(2023, 10, 1)]"
      ]
     },
     "execution_count": 10,
     "metadata": {},
     "output_type": "execute_result"
    }
   ],
   "source": [
    "# определение даты построения прогнозной модели\n",
    "current_date = date.today()\n",
    "\n",
    "# создание списка дат помесячно начиная с 2000 года \n",
    "list_date = []\n",
    "starting_date = date(2000, 1, 1)\n",
    "while starting_date <= current_date:\n",
    "    list_date.append(starting_date)\n",
    "    starting_date += relativedelta(months=1)\n",
    "\n",
    "# посмотрим на последние 5 элементов списка\n",
    "list_date[-5:]"
   ]
  },
  {
   "cell_type": "code",
   "execution_count": 11,
   "metadata": {},
   "outputs": [
    {
     "data": {
      "text/html": [
       "<div>\n",
       "<style scoped>\n",
       "    .dataframe tbody tr th:only-of-type {\n",
       "        vertical-align: middle;\n",
       "    }\n",
       "\n",
       "    .dataframe tbody tr th {\n",
       "        vertical-align: top;\n",
       "    }\n",
       "\n",
       "    .dataframe thead th {\n",
       "        text-align: right;\n",
       "    }\n",
       "</style>\n",
       "<table border=\"1\" class=\"dataframe\">\n",
       "  <thead>\n",
       "    <tr style=\"text-align: right;\">\n",
       "      <th></th>\n",
       "      <th>Date</th>\n",
       "      <th>IPC</th>\n",
       "    </tr>\n",
       "  </thead>\n",
       "  <tbody>\n",
       "    <tr>\n",
       "      <th>280</th>\n",
       "      <td>2023-05-01</td>\n",
       "      <td>100.309998</td>\n",
       "    </tr>\n",
       "    <tr>\n",
       "      <th>281</th>\n",
       "      <td>2023-06-01</td>\n",
       "      <td>100.370003</td>\n",
       "    </tr>\n",
       "    <tr>\n",
       "      <th>282</th>\n",
       "      <td>2023-07-01</td>\n",
       "      <td>100.629997</td>\n",
       "    </tr>\n",
       "    <tr>\n",
       "      <th>283</th>\n",
       "      <td>2023-08-01</td>\n",
       "      <td>100.279999</td>\n",
       "    </tr>\n",
       "    <tr>\n",
       "      <th>284</th>\n",
       "      <td>2023-09-01</td>\n",
       "      <td>100.870003</td>\n",
       "    </tr>\n",
       "  </tbody>\n",
       "</table>\n",
       "</div>"
      ],
      "text/plain": [
       "           Date         IPC\n",
       "280  2023-05-01  100.309998\n",
       "281  2023-06-01  100.370003\n",
       "282  2023-07-01  100.629997\n",
       "283  2023-08-01  100.279999\n",
       "284  2023-09-01  100.870003"
      ]
     },
     "execution_count": 11,
     "metadata": {},
     "output_type": "execute_result"
    }
   ],
   "source": [
    "# создание основного датасета\n",
    "df = pd.DataFrame(columns=['Date', 'IPC'], data = list(zip(list_date[:len(list_index):], \\\n",
    "                                                   list_index.astype('float32'))))\n",
    "df.tail()"
   ]
  },
  {
   "cell_type": "code",
   "execution_count": 12,
   "metadata": {},
   "outputs": [
    {
     "data": {
      "text/html": [
       "<div>\n",
       "<style scoped>\n",
       "    .dataframe tbody tr th:only-of-type {\n",
       "        vertical-align: middle;\n",
       "    }\n",
       "\n",
       "    .dataframe tbody tr th {\n",
       "        vertical-align: top;\n",
       "    }\n",
       "\n",
       "    .dataframe thead th {\n",
       "        text-align: right;\n",
       "    }\n",
       "</style>\n",
       "<table border=\"1\" class=\"dataframe\">\n",
       "  <thead>\n",
       "    <tr style=\"text-align: right;\">\n",
       "      <th></th>\n",
       "      <th>IPC</th>\n",
       "    </tr>\n",
       "    <tr>\n",
       "      <th>Date</th>\n",
       "      <th></th>\n",
       "    </tr>\n",
       "  </thead>\n",
       "  <tbody>\n",
       "    <tr>\n",
       "      <th>2022-11-01</th>\n",
       "      <td>100.370003</td>\n",
       "    </tr>\n",
       "    <tr>\n",
       "      <th>2022-12-01</th>\n",
       "      <td>100.779999</td>\n",
       "    </tr>\n",
       "    <tr>\n",
       "      <th>2023-01-01</th>\n",
       "      <td>100.839996</td>\n",
       "    </tr>\n",
       "    <tr>\n",
       "      <th>2023-02-01</th>\n",
       "      <td>100.459999</td>\n",
       "    </tr>\n",
       "    <tr>\n",
       "      <th>2023-03-01</th>\n",
       "      <td>100.370003</td>\n",
       "    </tr>\n",
       "    <tr>\n",
       "      <th>2023-04-01</th>\n",
       "      <td>100.379997</td>\n",
       "    </tr>\n",
       "    <tr>\n",
       "      <th>2023-05-01</th>\n",
       "      <td>100.309998</td>\n",
       "    </tr>\n",
       "    <tr>\n",
       "      <th>2023-06-01</th>\n",
       "      <td>100.370003</td>\n",
       "    </tr>\n",
       "    <tr>\n",
       "      <th>2023-07-01</th>\n",
       "      <td>100.629997</td>\n",
       "    </tr>\n",
       "    <tr>\n",
       "      <th>2023-08-01</th>\n",
       "      <td>100.279999</td>\n",
       "    </tr>\n",
       "    <tr>\n",
       "      <th>2023-09-01</th>\n",
       "      <td>100.870003</td>\n",
       "    </tr>\n",
       "  </tbody>\n",
       "</table>\n",
       "</div>"
      ],
      "text/plain": [
       "                   IPC\n",
       "Date                  \n",
       "2022-11-01  100.370003\n",
       "2022-12-01  100.779999\n",
       "2023-01-01  100.839996\n",
       "2023-02-01  100.459999\n",
       "2023-03-01  100.370003\n",
       "2023-04-01  100.379997\n",
       "2023-05-01  100.309998\n",
       "2023-06-01  100.370003\n",
       "2023-07-01  100.629997\n",
       "2023-08-01  100.279999\n",
       "2023-09-01  100.870003"
      ]
     },
     "execution_count": 12,
     "metadata": {},
     "output_type": "execute_result"
    }
   ],
   "source": [
    "# исключаются индексы строк и заменяются датами\n",
    "df.set_index('Date', inplace=True)\n",
    "df.index = pd.to_datetime(df.index)\n",
    "# посмотрим на данные за прошедший год\n",
    "df[(current_date - relativedelta(months=12)) : current_date]"
   ]
  },
  {
   "cell_type": "markdown",
   "metadata": {},
   "source": [
    "**Визуализация данных**"
   ]
  },
  {
   "cell_type": "code",
   "execution_count": 13,
   "metadata": {},
   "outputs": [
    {
     "data": {
      "image/png": "[encoded data removed]",
      "text/plain": [
       "<Figure size 1008x576 with 1 Axes>"
      ]
     },
     "metadata": {
      "needs_background": "light"
     },
     "output_type": "display_data"
    }
   ],
   "source": [
    "# построение графика динамики изменения ИПЦ по месячно начиная с 2000 года\n",
    "plt.figure(figsize = (14, 8))\n",
    "plt.plot(df, label = 'ИПЦ', color = 'LightSkyBlue') # steelblue slategray gainsboro darkgray LightSkyBlue\n",
    "plt.plot(df.rolling(window = 9).mean(), label = 'Скользящее среднее за 9 месяцев', color = 'magenta')\n",
    "plt.legend(loc = 'upper left', fontsize = 14)\n",
    "plt.xlabel('Год', fontsize = 12)\n",
    "plt.ylabel('Значение ИПЦ', fontsize = 12)\n",
    "plt.title('График изменения ИПЦ', fontsize = 14)\n",
    "plt.show()"
   ]
  },
  {
   "cell_type": "code",
   "execution_count": 14,
   "metadata": {},
   "outputs": [
    {
     "name": "stdout",
     "output_type": "stream",
     "text": [
      "p-value = 0.012807085529583855\n"
     ]
    }
   ],
   "source": [
    "# передадим ей столбец с данными о перевозках и поместим результат в adf_test\n",
    "adf_test = adfuller(df['IPC'])\n",
    " \n",
    "# выведем p-value\n",
    "print('p-value = ' + str(adf_test[1]))"
   ]
  },
  {
   "cell_type": "markdown",
   "metadata": {},
   "source": [
    "Как видно из графика до 2011 года наблюдается определенная сезонность (различные по значению волны имеющие примерно равные промежутки времени), но с 2012 года такая закономерность на графике отсутствует. Вероятность нулевой гипотезы (временной ряд не стационарен) расчитанная тестом Дики-Фуллера менее 5%, таким образом временной ряд стационарен (тренд и сезонность отсутствуют), что также следует из построеного графика."
   ]
  },
  {
   "cell_type": "code",
   "execution_count": 15,
   "metadata": {},
   "outputs": [
    {
     "data": {
      "image/png": "[encoded data removed]",
      "text/plain": [
       "<Figure size 576x360 with 1 Axes>"
      ]
     },
     "metadata": {
      "needs_background": "light"
     },
     "output_type": "display_data"
    }
   ],
   "source": [
    "# построим на \"ящик с усами\"\n",
    "df.boxplot(column=['IPC'], vert = False, figsize=(8, 5))\n",
    "plt.show()"
   ]
  },
  {
   "cell_type": "code",
   "execution_count": 16,
   "metadata": {},
   "outputs": [
    {
     "data": {
      "text/html": [
       "<div>\n",
       "<style scoped>\n",
       "    .dataframe tbody tr th:only-of-type {\n",
       "        vertical-align: middle;\n",
       "    }\n",
       "\n",
       "    .dataframe tbody tr th {\n",
       "        vertical-align: top;\n",
       "    }\n",
       "\n",
       "    .dataframe thead th {\n",
       "        text-align: right;\n",
       "    }\n",
       "</style>\n",
       "<table border=\"1\" class=\"dataframe\">\n",
       "  <thead>\n",
       "    <tr style=\"text-align: right;\">\n",
       "      <th></th>\n",
       "      <th>IPC</th>\n",
       "    </tr>\n",
       "  </thead>\n",
       "  <tbody>\n",
       "    <tr>\n",
       "      <th>count</th>\n",
       "      <td>285.000000</td>\n",
       "    </tr>\n",
       "    <tr>\n",
       "      <th>mean</th>\n",
       "      <td>100.764807</td>\n",
       "    </tr>\n",
       "    <tr>\n",
       "      <th>std</th>\n",
       "      <td>0.751446</td>\n",
       "    </tr>\n",
       "    <tr>\n",
       "      <th>min</th>\n",
       "      <td>99.459999</td>\n",
       "    </tr>\n",
       "    <tr>\n",
       "      <th>25%</th>\n",
       "      <td>100.349998</td>\n",
       "    </tr>\n",
       "    <tr>\n",
       "      <th>50%</th>\n",
       "      <td>100.610001</td>\n",
       "    </tr>\n",
       "    <tr>\n",
       "      <th>75%</th>\n",
       "      <td>100.989998</td>\n",
       "    </tr>\n",
       "    <tr>\n",
       "      <th>max</th>\n",
       "      <td>107.610001</td>\n",
       "    </tr>\n",
       "  </tbody>\n",
       "</table>\n",
       "</div>"
      ],
      "text/plain": [
       "              IPC\n",
       "count  285.000000\n",
       "mean   100.764807\n",
       "std      0.751446\n",
       "min     99.459999\n",
       "25%    100.349998\n",
       "50%    100.610001\n",
       "75%    100.989998\n",
       "max    107.610001"
      ]
     },
     "execution_count": 16,
     "metadata": {},
     "output_type": "execute_result"
    }
   ],
   "source": [
    "# получение общих статистик по датасету\n",
    "df.describe()"
   ]
  },
  {
   "cell_type": "code",
   "execution_count": 17,
   "metadata": {},
   "outputs": [
    {
     "name": "stdout",
     "output_type": "stream",
     "text": [
      "                   IPC\n",
      "Date                  \n",
      "2000-01-01  102.330002\n",
      "2000-06-01  102.550003\n",
      "2000-10-01  102.110001\n",
      "2001-01-01  102.760002\n",
      "2001-02-01  102.279999\n",
      "2002-01-01  103.089996\n",
      "2003-01-01  102.400002\n",
      "2005-01-01  102.620003\n",
      "2006-01-01  102.430000\n",
      "2008-01-01  102.309998\n",
      "2009-01-01  102.370003\n",
      "2011-01-01  102.370003\n",
      "2014-12-01  102.620003\n",
      "2015-01-01  103.849998\n",
      "2015-02-01  102.220001\n",
      "2022-03-01  107.610001\n"
     ]
    },
    {
     "data": {
      "text/plain": [
       "16"
      ]
     },
     "execution_count": 17,
     "metadata": {},
     "output_type": "execute_result"
    }
   ],
   "source": [
    "# количество элементов которые превышают 101.9 (16 будут заменены из 285 (5,61%)\n",
    "print(df.loc[df['IPC'] > 101.9])\n",
    "len(df.loc[df['IPC'] > 101.9])"
   ]
  },
  {
   "cell_type": "markdown",
   "metadata": {},
   "source": [
    "Как видно из графиков набор данных обладает значительными выбросами (случайными колебаниями), что может привести к искажениям и ухудшению прогноза. Также видно, что основная масса таких выбросов приходится на начало и конец года, что вероятнее всего связано с формированием бюджета страны, выплатами крупных компаний, также ряд выбросов привязаны к определенным историческим событиям. Общее количество таких событий 16 из 285 т.е. 5,61 процента. Исходя из этого в целях повышения качества предсказания заменим выбросы на максимальные значения из генеральной совокупности, что позволит сохранить их как максимальные, но при этом все значения будут находится в одном диапазоне. При получение значений предсказаний близких к 102.00 необходимо понимать, что это значение может быть и выше."
   ]
  },
  {
   "cell_type": "code",
   "execution_count": 18,
   "metadata": {},
   "outputs": [],
   "source": [
    "# сохранение первоначального набора данных\n",
    "df_original = df.copy()"
   ]
  },
  {
   "cell_type": "code",
   "execution_count": 32,
   "metadata": {},
   "outputs": [],
   "source": [
    "# df = df_original.copy()"
   ]
  },
  {
   "cell_type": "code",
   "execution_count": 19,
   "metadata": {},
   "outputs": [],
   "source": [
    "# замена значений выбросов на максимально возможное значение\n",
    "df.loc[df['IPC'] > 101.9] = 101.9"
   ]
  },
  {
   "cell_type": "code",
   "execution_count": 20,
   "metadata": {},
   "outputs": [
    {
     "data": {
      "text/plain": [
       "<matplotlib.legend.Legend at 0x237dd0118a0>"
      ]
     },
     "execution_count": 20,
     "metadata": {},
     "output_type": "execute_result"
    },
    {
     "data": {
      "image/png": "[encoded data removed]",
      "text/plain": [
       "<Figure size 1440x864 with 1 Axes>"
      ]
     },
     "metadata": {
      "needs_background": "light"
     },
     "output_type": "display_data"
    }
   ],
   "source": [
    "# построение графика динамики изменения ИПЦ по месячно начиная с 2000 года (после замены выбросов)\n",
    "# зададим размер графика\n",
    "plt.figure(figsize = (20,12))\n",
    " \n",
    "# поочередно зададим кривые (перевозки и скользящее среднее) с подписями и цветом\n",
    "plt.plot(df, label = 'ИПЦ', color = 'LightSkyBlue') # steelblue   slategray  gainsboro\n",
    "plt.plot(df.rolling(window = 3).mean(), label = 'Скользящее среднее за 9 месяцев', color = 'magenta')\n",
    "\n",
    "    \n",
    "# добавим легенду, ее положение на графике и размер шрифта\n",
    "plt.legend(title = '', loc = 'upper left', fontsize = 14)\n",
    " \n",
    "# добавим подписи к осям и заголовки\n",
    "plt.xlabel('Год', fontsize = 16)\n",
    "plt.ylabel('Значение ИПЦ', fontsize = 16)\n",
    "plt.title('График изменения ИПЦ', fontsize = 18)\n",
    " \n",
    "# выведем обе кривые на одном графике\n",
    "# plt.show()\n",
    "plt.legend(loc='upper right')"
   ]
  },
  {
   "cell_type": "code",
   "execution_count": 21,
   "metadata": {},
   "outputs": [
    {
     "data": {
      "text/plain": [
       "<AxesSubplot:>"
      ]
     },
     "execution_count": 21,
     "metadata": {},
     "output_type": "execute_result"
    },
    {
     "data": {
      "image/png": "[encoded data removed]",
      "text/plain": [
       "<Figure size 576x360 with 1 Axes>"
      ]
     },
     "metadata": {
      "needs_background": "light"
     },
     "output_type": "display_data"
    }
   ],
   "source": [
    "# посмотрим на \"ящик с усами\" СРЕДНЕЕ\n",
    "df.rolling(window = 3).mean().boxplot(column=['IPC'], vert = False, figsize=(8, 5))"
   ]
  },
  {
   "cell_type": "code",
   "execution_count": 22,
   "metadata": {},
   "outputs": [
    {
     "data": {
      "image/png": "[encoded data removed]",
      "text/plain": [
       "<Figure size 576x360 with 1 Axes>"
      ]
     },
     "metadata": {
      "needs_background": "light"
     },
     "output_type": "display_data"
    }
   ],
   "source": [
    "# посмотрим на \"ящик с усами\"\n",
    "df.boxplot(column=['IPC'], vert = False, figsize=(8, 5))\n",
    "plt.show()"
   ]
  },
  {
   "cell_type": "code",
   "execution_count": 23,
   "metadata": {},
   "outputs": [
    {
     "data": {
      "text/html": [
       "<div>\n",
       "<style scoped>\n",
       "    .dataframe tbody tr th:only-of-type {\n",
       "        vertical-align: middle;\n",
       "    }\n",
       "\n",
       "    .dataframe tbody tr th {\n",
       "        vertical-align: top;\n",
       "    }\n",
       "\n",
       "    .dataframe thead th {\n",
       "        text-align: right;\n",
       "    }\n",
       "</style>\n",
       "<table border=\"1\" class=\"dataframe\">\n",
       "  <thead>\n",
       "    <tr style=\"text-align: right;\">\n",
       "      <th></th>\n",
       "      <th>IPC</th>\n",
       "    </tr>\n",
       "  </thead>\n",
       "  <tbody>\n",
       "    <tr>\n",
       "      <th>count</th>\n",
       "      <td>285.000000</td>\n",
       "    </tr>\n",
       "    <tr>\n",
       "      <th>mean</th>\n",
       "      <td>100.710351</td>\n",
       "    </tr>\n",
       "    <tr>\n",
       "      <th>std</th>\n",
       "      <td>0.539453</td>\n",
       "    </tr>\n",
       "    <tr>\n",
       "      <th>min</th>\n",
       "      <td>99.459999</td>\n",
       "    </tr>\n",
       "    <tr>\n",
       "      <th>25%</th>\n",
       "      <td>100.349998</td>\n",
       "    </tr>\n",
       "    <tr>\n",
       "      <th>50%</th>\n",
       "      <td>100.610001</td>\n",
       "    </tr>\n",
       "    <tr>\n",
       "      <th>75%</th>\n",
       "      <td>100.989998</td>\n",
       "    </tr>\n",
       "    <tr>\n",
       "      <th>max</th>\n",
       "      <td>101.900000</td>\n",
       "    </tr>\n",
       "  </tbody>\n",
       "</table>\n",
       "</div>"
      ],
      "text/plain": [
       "              IPC\n",
       "count  285.000000\n",
       "mean   100.710351\n",
       "std      0.539453\n",
       "min     99.459999\n",
       "25%    100.349998\n",
       "50%    100.610001\n",
       "75%    100.989998\n",
       "max    101.900000"
      ]
     },
     "execution_count": 23,
     "metadata": {},
     "output_type": "execute_result"
    }
   ],
   "source": [
    "# получение общих статистик по датасету\n",
    "df.describe()"
   ]
  },
  {
   "cell_type": "code",
   "execution_count": 84,
   "metadata": {},
   "outputs": [],
   "source": [
    "df_ppp = df.rolling(window = 3).mean()[2:]"
   ]
  },
  {
   "cell_type": "code",
   "execution_count": null,
   "metadata": {},
   "outputs": [],
   "source": []
  },
  {
   "cell_type": "code",
   "execution_count": null,
   "metadata": {},
   "outputs": [],
   "source": []
  },
  {
   "cell_type": "code",
   "execution_count": 26,
   "metadata": {},
   "outputs": [],
   "source": [
    "# df.index = pd.to_datetime(df.index)"
   ]
  },
  {
   "cell_type": "markdown",
   "metadata": {},
   "source": [
    "Во-вторых, введем важное понятие временного лага (lag), т.е. запаздывания по сравнению с заданным периодом."
   ]
  },
  {
   "cell_type": "code",
   "execution_count": null,
   "metadata": {},
   "outputs": [],
   "source": []
  },
  {
   "cell_type": "code",
   "execution_count": 24,
   "metadata": {},
   "outputs": [
    {
     "name": "stdout",
     "output_type": "stream",
     "text": [
      "3\n"
     ]
    }
   ],
   "source": [
    "# смещение данных для предсказания\n",
    "forecast_out = int(math.ceil(0.01 * len(df))) # forcasting out 5% of the entire dataset\n",
    "print(forecast_out)"
   ]
  },
  {
   "cell_type": "code",
   "execution_count": 25,
   "metadata": {},
   "outputs": [],
   "source": [
    "# устанавливаю смещение в 3 месяцев\n",
    "forecast_out = 3\n",
    "df['label'] = df['IPC'].shift(-forecast_out)"
   ]
  },
  {
   "cell_type": "code",
   "execution_count": 26,
   "metadata": {},
   "outputs": [
    {
     "data": {
      "text/html": [
       "<div>\n",
       "<style scoped>\n",
       "    .dataframe tbody tr th:only-of-type {\n",
       "        vertical-align: middle;\n",
       "    }\n",
       "\n",
       "    .dataframe tbody tr th {\n",
       "        vertical-align: top;\n",
       "    }\n",
       "\n",
       "    .dataframe thead th {\n",
       "        text-align: right;\n",
       "    }\n",
       "</style>\n",
       "<table border=\"1\" class=\"dataframe\">\n",
       "  <thead>\n",
       "    <tr style=\"text-align: right;\">\n",
       "      <th></th>\n",
       "      <th>IPC</th>\n",
       "      <th>label</th>\n",
       "    </tr>\n",
       "    <tr>\n",
       "      <th>Date</th>\n",
       "      <th></th>\n",
       "      <th></th>\n",
       "    </tr>\n",
       "  </thead>\n",
       "  <tbody>\n",
       "    <tr>\n",
       "      <th>2023-05-01</th>\n",
       "      <td>100.309998</td>\n",
       "      <td>100.279999</td>\n",
       "    </tr>\n",
       "    <tr>\n",
       "      <th>2023-06-01</th>\n",
       "      <td>100.370003</td>\n",
       "      <td>100.870003</td>\n",
       "    </tr>\n",
       "    <tr>\n",
       "      <th>2023-07-01</th>\n",
       "      <td>100.629997</td>\n",
       "      <td>NaN</td>\n",
       "    </tr>\n",
       "    <tr>\n",
       "      <th>2023-08-01</th>\n",
       "      <td>100.279999</td>\n",
       "      <td>NaN</td>\n",
       "    </tr>\n",
       "    <tr>\n",
       "      <th>2023-09-01</th>\n",
       "      <td>100.870003</td>\n",
       "      <td>NaN</td>\n",
       "    </tr>\n",
       "  </tbody>\n",
       "</table>\n",
       "</div>"
      ],
      "text/plain": [
       "                   IPC       label\n",
       "Date                              \n",
       "2023-05-01  100.309998  100.279999\n",
       "2023-06-01  100.370003  100.870003\n",
       "2023-07-01  100.629997         NaN\n",
       "2023-08-01  100.279999         NaN\n",
       "2023-09-01  100.870003         NaN"
      ]
     },
     "execution_count": 26,
     "metadata": {},
     "output_type": "execute_result"
    }
   ],
   "source": [
    "df.tail()"
   ]
  },
  {
   "cell_type": "code",
   "execution_count": 27,
   "metadata": {},
   "outputs": [
    {
     "name": "stderr",
     "output_type": "stream",
     "text": [
      "C:\\Users\\user\\AppData\\Local\\Temp\\ipykernel_6748\\1471771713.py:2: FutureWarning: In a future version of pandas all arguments of DataFrame.drop except for the argument 'labels' will be keyword-only.\n",
      "  X_row = np.array(df.drop(['label'], 1))\n"
     ]
    }
   ],
   "source": [
    "scaler = StandardScaler()\n",
    "X_row = np.array(df.drop(['label'], 1))\n",
    "scaler.fit(X_row)\n",
    "X_row_scaler = scaler.transform(X_row)"
   ]
  },
  {
   "cell_type": "code",
   "execution_count": 28,
   "metadata": {},
   "outputs": [],
   "source": [
    "X_Predictions = X_row_scaler[-forecast_out:]\n",
    "X = X_row_scaler[:-forecast_out]"
   ]
  },
  {
   "cell_type": "code",
   "execution_count": 32,
   "metadata": {},
   "outputs": [
    {
     "data": {
      "text/plain": [
       "array([[-0.14921566],\n",
       "       [-0.79915917],\n",
       "       [ 0.29647203]])"
      ]
     },
     "execution_count": 32,
     "metadata": {},
     "output_type": "execute_result"
    }
   ],
   "source": [
    "X_Predictions"
   ]
  },
  {
   "cell_type": "code",
   "execution_count": 29,
   "metadata": {},
   "outputs": [],
   "source": [
    "df.dropna(inplace=True)\n",
    "y = np.array(df['label'])"
   ]
  },
  {
   "cell_type": "code",
   "execution_count": 30,
   "metadata": {},
   "outputs": [],
   "source": [
    "X_train, X_test, y_train, y_test = train_test_split(X, y, test_size=0.2, random_state=42)"
   ]
  },
  {
   "cell_type": "code",
   "execution_count": 49,
   "metadata": {},
   "outputs": [
    {
     "data": {
      "text/plain": [
       "(225, 1)"
      ]
     },
     "execution_count": 49,
     "metadata": {},
     "output_type": "execute_result"
    }
   ],
   "source": [
    "X_train.shape"
   ]
  },
  {
   "cell_type": "code",
   "execution_count": null,
   "metadata": {},
   "outputs": [],
   "source": []
  },
  {
   "cell_type": "code",
   "execution_count": 51,
   "metadata": {},
   "outputs": [],
   "source": [
    "def predict_models(X_train, X_test, y_train, y_test):\n",
    "    #\n",
    "    lr = LinearRegression()\n",
    "    lr.fit(X_train, y_train)\n",
    "    lr_confidence = lr.score(X_test, y_test)\n",
    "    #\n",
    "    rf = RandomForestRegressor()\n",
    "    rf.fit(X_train, y_train)\n",
    "    rf_confidence = rf.score(X_test, y_test)\n",
    "    #\n",
    "    rg = Ridge()\n",
    "    rg.fit(X_train, y_train)\n",
    "    rg_confidence = rg.score(X_test, y_test)\n",
    "    #\n",
    "    svr = SVR()\n",
    "    svr.fit(X_train, y_train)\n",
    "    svr_confidence = svr.score(X_test, y_test)\n",
    "    # model perceptron\n",
    "    \n",
    "    # Build the model \n",
    "    model = Sequential()\n",
    "\n",
    "    model.add(LSTM(units = 100, return_sequences = True, input_shape = (X_train.shape[1], 1)))\n",
    "    # input_shape = (X_train.shape[1], 1)\n",
    "    model.add(Dropout(0.2))\n",
    "\n",
    "    model.add(LSTM(units = 100))\n",
    "    model.add(Dropout(0.2))\n",
    "\n",
    "    # Output layer\n",
    "    model.add(Dense(units = 1))\n",
    "\n",
    "    # Compiling the model\n",
    "    model.compile(optimizer = 'adam', loss = 'mean_squared_error') # mean_squared_error accuracy\n",
    "\n",
    "    # Fitting the model to the Training set\n",
    "    history_vr = model.fit(X_train.astype('float32'), y_train.astype('float32'), epochs = 200, batch_size = 4, validation_split=.20)\n",
    "\n",
    "        \n",
    "    score = [lr_confidence, rf_confidence, rg_confidence, svr_confidence, history_vr.history['val_loss'][-1]]\n",
    "    \n",
    "    \n",
    "    return lr, rf, rg, svr, model, score  "
   ]
  },
  {
   "cell_type": "code",
   "execution_count": 52,
   "metadata": {},
   "outputs": [
    {
     "name": "stdout",
     "output_type": "stream",
     "text": [
      "Epoch 1/200\n",
      "45/45 [==============================] - 3s 17ms/step - loss: 10114.1279 - val_loss: 10062.5938\n",
      "Epoch 2/200\n",
      "45/45 [==============================] - 0s 3ms/step - loss: 9886.8350 - val_loss: 9531.6553\n",
      "Epoch 3/200\n",
      "45/45 [==============================] - 0s 4ms/step - loss: 8704.6348 - val_loss: 7580.1641\n",
      "Epoch 4/200\n",
      "45/45 [==============================] - 0s 3ms/step - loss: 6531.4429 - val_loss: 5566.3535\n",
      "Epoch 5/200\n",
      "45/45 [==============================] - 0s 3ms/step - loss: 4969.5693 - val_loss: 4430.4141\n",
      "Epoch 6/200\n",
      "45/45 [==============================] - 0s 3ms/step - loss: 4041.7402 - val_loss: 3707.3167\n",
      "Epoch 7/200\n",
      "45/45 [==============================] - 0s 3ms/step - loss: 3450.8486 - val_loss: 3168.6421\n",
      "Epoch 8/200\n",
      "45/45 [==============================] - 0s 3ms/step - loss: 2978.7617 - val_loss: 2731.1023\n",
      "Epoch 9/200\n",
      "45/45 [==============================] - 0s 3ms/step - loss: 2569.0989 - val_loss: 2362.7959\n",
      "Epoch 10/200\n",
      "45/45 [==============================] - 0s 3ms/step - loss: 2214.8438 - val_loss: 2046.9169\n",
      "Epoch 11/200\n",
      "45/45 [==============================] - 0s 3ms/step - loss: 1907.0789 - val_loss: 1772.7090\n",
      "Epoch 12/200\n",
      "45/45 [==============================] - 0s 3ms/step - loss: 1685.0642 - val_loss: 1532.8962\n",
      "Epoch 13/200\n",
      "45/45 [==============================] - 0s 3ms/step - loss: 1461.5099 - val_loss: 1322.3914\n",
      "Epoch 14/200\n",
      "45/45 [==============================] - 0s 3ms/step - loss: 1263.1855 - val_loss: 1137.7355\n",
      "Epoch 15/200\n",
      "45/45 [==============================] - 0s 3ms/step - loss: 1060.4814 - val_loss: 976.6440\n",
      "Epoch 16/200\n",
      "45/45 [==============================] - 0s 3ms/step - loss: 923.6379 - val_loss: 835.0457\n",
      "Epoch 17/200\n",
      "45/45 [==============================] - 0s 3ms/step - loss: 760.0132 - val_loss: 712.5054\n",
      "Epoch 18/200\n",
      "45/45 [==============================] - 0s 3ms/step - loss: 672.8428 - val_loss: 605.2221\n",
      "Epoch 19/200\n",
      "45/45 [==============================] - 0s 3ms/step - loss: 570.0334 - val_loss: 511.5616\n",
      "Epoch 20/200\n",
      "45/45 [==============================] - 0s 3ms/step - loss: 458.1363 - val_loss: 431.6072\n",
      "Epoch 21/200\n",
      "45/45 [==============================] - 0s 3ms/step - loss: 407.0011 - val_loss: 362.6411\n",
      "Epoch 22/200\n",
      "45/45 [==============================] - 0s 3ms/step - loss: 360.6382 - val_loss: 301.9487\n",
      "Epoch 23/200\n",
      "45/45 [==============================] - 0s 3ms/step - loss: 294.3557 - val_loss: 250.3949\n",
      "Epoch 24/200\n",
      "45/45 [==============================] - 0s 3ms/step - loss: 264.6603 - val_loss: 205.7563\n",
      "Epoch 25/200\n",
      "45/45 [==============================] - 0s 3ms/step - loss: 198.9383 - val_loss: 168.7692\n",
      "Epoch 26/200\n",
      "45/45 [==============================] - 0s 3ms/step - loss: 179.4714 - val_loss: 137.4628\n",
      "Epoch 27/200\n",
      "45/45 [==============================] - 0s 3ms/step - loss: 138.7410 - val_loss: 111.6554\n",
      "Epoch 28/200\n",
      "45/45 [==============================] - 0s 3ms/step - loss: 130.4552 - val_loss: 90.0002\n",
      "Epoch 29/200\n",
      "45/45 [==============================] - 0s 3ms/step - loss: 92.9473 - val_loss: 72.8042\n",
      "Epoch 30/200\n",
      "45/45 [==============================] - 0s 3ms/step - loss: 85.5541 - val_loss: 58.2378\n",
      "Epoch 31/200\n",
      "45/45 [==============================] - 0s 3ms/step - loss: 73.4908 - val_loss: 46.1937\n",
      "Epoch 32/200\n",
      "45/45 [==============================] - 0s 3ms/step - loss: 65.3242 - val_loss: 36.3294\n",
      "Epoch 33/200\n",
      "45/45 [==============================] - 0s 3ms/step - loss: 59.2009 - val_loss: 28.6317\n",
      "Epoch 34/200\n",
      "45/45 [==============================] - 0s 3ms/step - loss: 55.8298 - val_loss: 21.9227\n",
      "Epoch 35/200\n",
      "45/45 [==============================] - 0s 3ms/step - loss: 43.4350 - val_loss: 16.6168\n",
      "Epoch 36/200\n",
      "45/45 [==============================] - 0s 3ms/step - loss: 39.4231 - val_loss: 13.2530\n",
      "Epoch 37/200\n",
      "45/45 [==============================] - 0s 3ms/step - loss: 31.3461 - val_loss: 10.3921\n",
      "Epoch 38/200\n",
      "45/45 [==============================] - 0s 3ms/step - loss: 30.2605 - val_loss: 7.8957\n",
      "Epoch 39/200\n",
      "45/45 [==============================] - 0s 3ms/step - loss: 31.5798 - val_loss: 6.1366\n",
      "Epoch 40/200\n",
      "45/45 [==============================] - 0s 3ms/step - loss: 30.5382 - val_loss: 4.8166\n",
      "Epoch 41/200\n",
      "45/45 [==============================] - 0s 3ms/step - loss: 29.2963 - val_loss: 3.5210\n",
      "Epoch 42/200\n",
      "45/45 [==============================] - 0s 3ms/step - loss: 22.8618 - val_loss: 2.8544\n",
      "Epoch 43/200\n",
      "45/45 [==============================] - 0s 3ms/step - loss: 31.9080 - val_loss: 2.1046\n",
      "Epoch 44/200\n",
      "45/45 [==============================] - 0s 3ms/step - loss: 29.0766 - val_loss: 1.6330\n",
      "Epoch 45/200\n",
      "45/45 [==============================] - 0s 3ms/step - loss: 24.7667 - val_loss: 1.2471\n",
      "Epoch 46/200\n",
      "45/45 [==============================] - 0s 3ms/step - loss: 29.9764 - val_loss: 0.9314\n",
      "Epoch 47/200\n",
      "45/45 [==============================] - 0s 3ms/step - loss: 24.5015 - val_loss: 0.6945\n",
      "Epoch 48/200\n",
      "45/45 [==============================] - 0s 4ms/step - loss: 24.8601 - val_loss: 0.6049\n",
      "Epoch 49/200\n",
      "45/45 [==============================] - 0s 3ms/step - loss: 21.5655 - val_loss: 0.5106\n",
      "Epoch 50/200\n",
      "45/45 [==============================] - 0s 3ms/step - loss: 19.1980 - val_loss: 0.4231\n",
      "Epoch 51/200\n",
      "45/45 [==============================] - 0s 3ms/step - loss: 17.4368 - val_loss: 0.3672\n",
      "Epoch 52/200\n",
      "45/45 [==============================] - 0s 3ms/step - loss: 28.8453 - val_loss: 0.3219\n",
      "Epoch 53/200\n",
      "45/45 [==============================] - 0s 3ms/step - loss: 23.6781 - val_loss: 0.3125\n",
      "Epoch 54/200\n",
      "45/45 [==============================] - 0s 3ms/step - loss: 28.2578 - val_loss: 0.3164\n",
      "Epoch 55/200\n",
      "45/45 [==============================] - 0s 3ms/step - loss: 28.6050 - val_loss: 0.2957\n",
      "Epoch 56/200\n",
      "45/45 [==============================] - 0s 3ms/step - loss: 23.5021 - val_loss: 0.3041\n",
      "Epoch 57/200\n",
      "45/45 [==============================] - 0s 3ms/step - loss: 24.1719 - val_loss: 0.2784\n",
      "Epoch 58/200\n",
      "45/45 [==============================] - 0s 3ms/step - loss: 21.4135 - val_loss: 0.2896\n",
      "Epoch 59/200\n",
      "45/45 [==============================] - 0s 3ms/step - loss: 26.7515 - val_loss: 0.2959\n",
      "Epoch 60/200\n",
      "45/45 [==============================] - 0s 3ms/step - loss: 26.6467 - val_loss: 0.2845\n",
      "Epoch 61/200\n",
      "45/45 [==============================] - 0s 3ms/step - loss: 26.7826 - val_loss: 0.2804\n",
      "Epoch 62/200\n",
      "45/45 [==============================] - 0s 3ms/step - loss: 23.2747 - val_loss: 0.3171\n",
      "Epoch 63/200\n",
      "45/45 [==============================] - 0s 3ms/step - loss: 22.4249 - val_loss: 0.3548\n",
      "Epoch 64/200\n",
      "45/45 [==============================] - 0s 3ms/step - loss: 25.3342 - val_loss: 0.3368\n",
      "Epoch 65/200\n",
      "45/45 [==============================] - 0s 3ms/step - loss: 26.9380 - val_loss: 0.2919\n",
      "Epoch 66/200\n",
      "45/45 [==============================] - 0s 3ms/step - loss: 24.0819 - val_loss: 0.3474\n",
      "Epoch 67/200\n",
      "45/45 [==============================] - 0s 3ms/step - loss: 32.4767 - val_loss: 0.3134\n",
      "Epoch 68/200\n",
      "45/45 [==============================] - 0s 3ms/step - loss: 23.7607 - val_loss: 0.2739\n",
      "Epoch 69/200\n",
      "45/45 [==============================] - 0s 3ms/step - loss: 21.8974 - val_loss: 0.2975\n",
      "Epoch 70/200\n",
      "45/45 [==============================] - 0s 3ms/step - loss: 23.9202 - val_loss: 0.3230\n",
      "Epoch 71/200\n",
      "45/45 [==============================] - 0s 3ms/step - loss: 23.3289 - val_loss: 0.3118\n",
      "Epoch 72/200\n",
      "45/45 [==============================] - 0s 3ms/step - loss: 23.6620 - val_loss: 0.3683\n",
      "Epoch 73/200\n",
      "45/45 [==============================] - 0s 3ms/step - loss: 25.5624 - val_loss: 0.2680\n",
      "Epoch 74/200\n",
      "45/45 [==============================] - 0s 3ms/step - loss: 22.5388 - val_loss: 0.2650\n",
      "Epoch 75/200\n",
      "45/45 [==============================] - 0s 3ms/step - loss: 26.8621 - val_loss: 0.2300\n",
      "Epoch 76/200\n",
      "45/45 [==============================] - 0s 3ms/step - loss: 26.0853 - val_loss: 0.2789\n",
      "Epoch 77/200\n",
      "45/45 [==============================] - 0s 3ms/step - loss: 29.9013 - val_loss: 0.3336\n",
      "Epoch 78/200\n",
      "45/45 [==============================] - 0s 3ms/step - loss: 30.8281 - val_loss: 0.3337\n",
      "Epoch 79/200\n",
      "45/45 [==============================] - 0s 4ms/step - loss: 24.6272 - val_loss: 0.3365\n",
      "Epoch 80/200\n",
      "45/45 [==============================] - 0s 3ms/step - loss: 22.3204 - val_loss: 0.2541\n"
     ]
    },
    {
     "name": "stdout",
     "output_type": "stream",
     "text": [
      "Epoch 81/200\n",
      "45/45 [==============================] - 0s 3ms/step - loss: 30.3004 - val_loss: 0.2371\n",
      "Epoch 82/200\n",
      "45/45 [==============================] - 0s 3ms/step - loss: 24.3110 - val_loss: 0.2881\n",
      "Epoch 83/200\n",
      "45/45 [==============================] - 0s 3ms/step - loss: 27.2169 - val_loss: 0.2946\n",
      "Epoch 84/200\n",
      "45/45 [==============================] - 0s 3ms/step - loss: 27.1954 - val_loss: 0.3290\n",
      "Epoch 85/200\n",
      "45/45 [==============================] - 0s 3ms/step - loss: 25.2955 - val_loss: 0.2609\n",
      "Epoch 86/200\n",
      "45/45 [==============================] - 0s 3ms/step - loss: 21.5007 - val_loss: 0.2984\n",
      "Epoch 87/200\n",
      "45/45 [==============================] - 0s 3ms/step - loss: 21.9418 - val_loss: 0.3333\n",
      "Epoch 88/200\n",
      "45/45 [==============================] - 0s 3ms/step - loss: 26.4369 - val_loss: 0.3633\n",
      "Epoch 89/200\n",
      "45/45 [==============================] - 0s 3ms/step - loss: 29.8651 - val_loss: 0.2861\n",
      "Epoch 90/200\n",
      "45/45 [==============================] - 0s 3ms/step - loss: 22.9164 - val_loss: 0.3582\n",
      "Epoch 91/200\n",
      "45/45 [==============================] - 0s 3ms/step - loss: 29.2259 - val_loss: 0.2931\n",
      "Epoch 92/200\n",
      "45/45 [==============================] - 0s 3ms/step - loss: 26.5394 - val_loss: 0.2363\n",
      "Epoch 93/200\n",
      "45/45 [==============================] - 0s 3ms/step - loss: 21.9921 - val_loss: 0.2288\n",
      "Epoch 94/200\n",
      "45/45 [==============================] - 0s 3ms/step - loss: 25.7723 - val_loss: 0.2372\n",
      "Epoch 95/200\n",
      "45/45 [==============================] - 0s 3ms/step - loss: 27.3662 - val_loss: 0.2441\n",
      "Epoch 96/200\n",
      "45/45 [==============================] - 0s 3ms/step - loss: 24.2714 - val_loss: 0.2445\n",
      "Epoch 97/200\n",
      "45/45 [==============================] - 0s 3ms/step - loss: 25.2357 - val_loss: 0.5264\n",
      "Epoch 98/200\n",
      "45/45 [==============================] - 0s 3ms/step - loss: 22.6714 - val_loss: 0.4582\n",
      "Epoch 99/200\n",
      "45/45 [==============================] - 0s 3ms/step - loss: 21.9634 - val_loss: 0.5255\n",
      "Epoch 100/200\n",
      "45/45 [==============================] - 0s 3ms/step - loss: 29.0356 - val_loss: 0.7787\n",
      "Epoch 101/200\n",
      "45/45 [==============================] - 0s 3ms/step - loss: 25.9881 - val_loss: 0.3120\n",
      "Epoch 102/200\n",
      "45/45 [==============================] - 0s 3ms/step - loss: 24.4432 - val_loss: 0.2542\n",
      "Epoch 103/200\n",
      "45/45 [==============================] - 0s 3ms/step - loss: 23.7921 - val_loss: 0.2634\n",
      "Epoch 104/200\n",
      "45/45 [==============================] - 0s 3ms/step - loss: 26.5442 - val_loss: 0.2953\n",
      "Epoch 105/200\n",
      "45/45 [==============================] - 0s 3ms/step - loss: 30.0611 - val_loss: 0.2873\n",
      "Epoch 106/200\n",
      "45/45 [==============================] - 0s 3ms/step - loss: 21.9910 - val_loss: 0.2574\n",
      "Epoch 107/200\n",
      "45/45 [==============================] - 0s 3ms/step - loss: 27.1733 - val_loss: 0.2525\n",
      "Epoch 108/200\n",
      "45/45 [==============================] - 0s 3ms/step - loss: 27.4115 - val_loss: 0.2577\n",
      "Epoch 109/200\n",
      "45/45 [==============================] - 0s 3ms/step - loss: 25.1993 - val_loss: 0.2602\n",
      "Epoch 110/200\n",
      "45/45 [==============================] - 0s 3ms/step - loss: 25.1721 - val_loss: 0.3875\n",
      "Epoch 111/200\n",
      "45/45 [==============================] - 0s 3ms/step - loss: 24.5013 - val_loss: 0.2282\n",
      "Epoch 112/200\n",
      "45/45 [==============================] - 0s 3ms/step - loss: 26.3584 - val_loss: 0.3806\n",
      "Epoch 113/200\n",
      "45/45 [==============================] - 0s 3ms/step - loss: 25.7402 - val_loss: 0.4521\n",
      "Epoch 114/200\n",
      "45/45 [==============================] - 0s 4ms/step - loss: 23.5445 - val_loss: 0.3283\n",
      "Epoch 115/200\n",
      "45/45 [==============================] - 0s 3ms/step - loss: 26.9481 - val_loss: 0.2274\n",
      "Epoch 116/200\n",
      "45/45 [==============================] - 0s 3ms/step - loss: 25.3879 - val_loss: 0.2487\n",
      "Epoch 117/200\n",
      "45/45 [==============================] - 0s 3ms/step - loss: 26.4056 - val_loss: 0.2272\n",
      "Epoch 118/200\n",
      "45/45 [==============================] - 0s 3ms/step - loss: 23.0548 - val_loss: 0.2369\n",
      "Epoch 119/200\n",
      "45/45 [==============================] - 0s 3ms/step - loss: 29.2499 - val_loss: 0.2489\n",
      "Epoch 120/200\n",
      "45/45 [==============================] - 0s 3ms/step - loss: 24.0070 - val_loss: 0.3640\n",
      "Epoch 121/200\n",
      "45/45 [==============================] - 0s 3ms/step - loss: 25.4802 - val_loss: 0.3598\n",
      "Epoch 122/200\n",
      "45/45 [==============================] - 0s 3ms/step - loss: 27.2786 - val_loss: 0.4344\n",
      "Epoch 123/200\n",
      "45/45 [==============================] - 0s 3ms/step - loss: 24.6116 - val_loss: 0.3893\n",
      "Epoch 124/200\n",
      "45/45 [==============================] - 0s 3ms/step - loss: 25.8908 - val_loss: 0.3911\n",
      "Epoch 125/200\n",
      "45/45 [==============================] - 0s 3ms/step - loss: 25.8435 - val_loss: 0.2773\n",
      "Epoch 126/200\n",
      "45/45 [==============================] - 0s 3ms/step - loss: 23.7367 - val_loss: 0.2767\n",
      "Epoch 127/200\n",
      "45/45 [==============================] - 0s 3ms/step - loss: 20.4078 - val_loss: 0.2579\n",
      "Epoch 128/200\n",
      "45/45 [==============================] - 0s 3ms/step - loss: 27.6067 - val_loss: 0.2984\n",
      "Epoch 129/200\n",
      "45/45 [==============================] - 0s 3ms/step - loss: 25.2576 - val_loss: 0.2475\n",
      "Epoch 130/200\n",
      "45/45 [==============================] - 0s 3ms/step - loss: 28.0098 - val_loss: 0.4530\n",
      "Epoch 131/200\n",
      "45/45 [==============================] - 0s 3ms/step - loss: 23.5048 - val_loss: 0.2317\n",
      "Epoch 132/200\n",
      "45/45 [==============================] - 0s 3ms/step - loss: 28.8470 - val_loss: 0.4681\n",
      "Epoch 133/200\n",
      "45/45 [==============================] - 0s 3ms/step - loss: 25.2081 - val_loss: 0.3168\n",
      "Epoch 134/200\n",
      "45/45 [==============================] - 0s 3ms/step - loss: 26.8859 - val_loss: 0.2846\n",
      "Epoch 135/200\n",
      "45/45 [==============================] - 0s 3ms/step - loss: 25.2448 - val_loss: 0.3587\n",
      "Epoch 136/200\n",
      "45/45 [==============================] - 0s 3ms/step - loss: 31.9055 - val_loss: 0.2306\n",
      "Epoch 137/200\n",
      "45/45 [==============================] - 0s 3ms/step - loss: 23.0520 - val_loss: 0.4005\n",
      "Epoch 138/200\n",
      "45/45 [==============================] - 0s 3ms/step - loss: 22.9966 - val_loss: 0.4887\n",
      "Epoch 139/200\n",
      "45/45 [==============================] - 0s 3ms/step - loss: 25.4848 - val_loss: 0.3488\n",
      "Epoch 140/200\n",
      "45/45 [==============================] - 0s 3ms/step - loss: 27.4108 - val_loss: 0.2417\n",
      "Epoch 141/200\n",
      "45/45 [==============================] - 0s 3ms/step - loss: 25.9751 - val_loss: 0.2270\n",
      "Epoch 142/200\n",
      "45/45 [==============================] - 0s 3ms/step - loss: 23.7878 - val_loss: 0.2783\n",
      "Epoch 143/200\n",
      "45/45 [==============================] - 0s 3ms/step - loss: 27.3545 - val_loss: 0.2417\n",
      "Epoch 144/200\n",
      "45/45 [==============================] - 0s 3ms/step - loss: 27.6034 - val_loss: 0.3299\n",
      "Epoch 145/200\n",
      "45/45 [==============================] - 0s 3ms/step - loss: 26.9465 - val_loss: 0.3211\n",
      "Epoch 146/200\n",
      "45/45 [==============================] - 0s 3ms/step - loss: 24.8621 - val_loss: 0.2288\n",
      "Epoch 147/200\n",
      "45/45 [==============================] - 0s 3ms/step - loss: 27.1141 - val_loss: 0.2638\n",
      "Epoch 148/200\n",
      "45/45 [==============================] - 0s 3ms/step - loss: 25.8725 - val_loss: 0.2457\n",
      "Epoch 149/200\n",
      "45/45 [==============================] - 0s 3ms/step - loss: 22.5542 - val_loss: 0.3168\n",
      "Epoch 150/200\n",
      "45/45 [==============================] - 0s 3ms/step - loss: 22.1663 - val_loss: 0.2274\n",
      "Epoch 151/200\n",
      "45/45 [==============================] - 0s 3ms/step - loss: 26.5229 - val_loss: 0.2381\n",
      "Epoch 152/200\n",
      "45/45 [==============================] - 0s 3ms/step - loss: 21.8351 - val_loss: 0.3303\n",
      "Epoch 153/200\n",
      "45/45 [==============================] - 0s 3ms/step - loss: 22.2461 - val_loss: 0.5822\n",
      "Epoch 154/200\n",
      "45/45 [==============================] - 0s 3ms/step - loss: 24.7963 - val_loss: 0.8919\n",
      "Epoch 155/200\n",
      "45/45 [==============================] - 0s 3ms/step - loss: 30.4432 - val_loss: 0.2491\n",
      "Epoch 156/200\n",
      "45/45 [==============================] - 0s 3ms/step - loss: 22.9619 - val_loss: 0.6148\n",
      "Epoch 157/200\n",
      "45/45 [==============================] - 0s 3ms/step - loss: 23.3802 - val_loss: 0.2257\n",
      "Epoch 158/200\n",
      "45/45 [==============================] - 0s 3ms/step - loss: 22.5220 - val_loss: 0.2324\n",
      "Epoch 159/200\n",
      "45/45 [==============================] - 0s 3ms/step - loss: 25.4124 - val_loss: 0.3284\n",
      "Epoch 160/200\n",
      "45/45 [==============================] - 0s 3ms/step - loss: 28.7127 - val_loss: 0.2253\n",
      "Epoch 161/200\n",
      "45/45 [==============================] - 0s 3ms/step - loss: 28.1210 - val_loss: 0.2389\n",
      "Epoch 162/200\n",
      "45/45 [==============================] - 0s 3ms/step - loss: 21.4661 - val_loss: 0.4569\n",
      "Epoch 163/200\n",
      "45/45 [==============================] - 0s 3ms/step - loss: 22.3287 - val_loss: 0.3140\n",
      "Epoch 164/200\n",
      "45/45 [==============================] - 0s 3ms/step - loss: 24.4742 - val_loss: 0.4007\n",
      "Epoch 165/200\n",
      "45/45 [==============================] - 0s 3ms/step - loss: 25.2294 - val_loss: 0.2269\n",
      "Epoch 166/200\n",
      "45/45 [==============================] - 0s 3ms/step - loss: 24.9921 - val_loss: 0.3073\n",
      "Epoch 167/200\n",
      "45/45 [==============================] - 0s 3ms/step - loss: 27.1114 - val_loss: 0.2657\n",
      "Epoch 168/200\n",
      "45/45 [==============================] - 0s 3ms/step - loss: 20.5428 - val_loss: 0.3312\n",
      "Epoch 169/200\n",
      "45/45 [==============================] - 0s 3ms/step - loss: 23.1305 - val_loss: 0.2511\n",
      "Epoch 170/200\n",
      "45/45 [==============================] - 0s 3ms/step - loss: 23.9284 - val_loss: 0.2384\n",
      "Epoch 171/200\n",
      "45/45 [==============================] - 0s 3ms/step - loss: 25.2877 - val_loss: 0.3129\n",
      "Epoch 172/200\n",
      "45/45 [==============================] - 0s 3ms/step - loss: 25.4229 - val_loss: 0.4691\n",
      "Epoch 173/200\n",
      "45/45 [==============================] - 0s 3ms/step - loss: 24.8753 - val_loss: 0.2409\n",
      "Epoch 174/200\n",
      "45/45 [==============================] - 0s 3ms/step - loss: 27.1084 - val_loss: 0.2761\n",
      "Epoch 175/200\n",
      "45/45 [==============================] - 0s 3ms/step - loss: 27.5996 - val_loss: 0.2270\n",
      "Epoch 176/200\n",
      "45/45 [==============================] - 0s 3ms/step - loss: 30.5864 - val_loss: 0.2328\n",
      "Epoch 177/200\n",
      "45/45 [==============================] - 0s 3ms/step - loss: 21.4539 - val_loss: 0.3124\n",
      "Epoch 178/200\n",
      "45/45 [==============================] - 0s 3ms/step - loss: 24.8513 - val_loss: 0.2851\n",
      "Epoch 179/200\n",
      "45/45 [==============================] - 0s 3ms/step - loss: 27.8064 - val_loss: 0.3263\n",
      "Epoch 180/200\n",
      "45/45 [==============================] - 0s 3ms/step - loss: 26.1804 - val_loss: 0.2501\n",
      "Epoch 181/200\n",
      "45/45 [==============================] - 0s 3ms/step - loss: 24.5357 - val_loss: 0.2380\n",
      "Epoch 182/200\n",
      "45/45 [==============================] - 0s 3ms/step - loss: 23.4698 - val_loss: 0.3040\n",
      "Epoch 183/200\n",
      "45/45 [==============================] - 0s 3ms/step - loss: 26.1129 - val_loss: 0.6171\n",
      "Epoch 184/200\n",
      "45/45 [==============================] - 0s 3ms/step - loss: 24.0732 - val_loss: 0.2780\n",
      "Epoch 185/200\n",
      "45/45 [==============================] - 0s 3ms/step - loss: 21.5084 - val_loss: 0.2986\n",
      "Epoch 186/200\n",
      "45/45 [==============================] - 0s 3ms/step - loss: 26.1239 - val_loss: 0.3093\n",
      "Epoch 187/200\n",
      "45/45 [==============================] - 0s 3ms/step - loss: 24.6325 - val_loss: 0.2555\n",
      "Epoch 188/200\n",
      "45/45 [==============================] - 0s 3ms/step - loss: 22.4736 - val_loss: 0.7190\n",
      "Epoch 189/200\n",
      "45/45 [==============================] - 0s 3ms/step - loss: 22.5254 - val_loss: 0.4772\n",
      "Epoch 190/200\n",
      "45/45 [==============================] - 0s 3ms/step - loss: 24.3238 - val_loss: 0.4477\n",
      "Epoch 191/200\n",
      "45/45 [==============================] - 0s 3ms/step - loss: 30.4945 - val_loss: 1.2589\n",
      "Epoch 192/200\n",
      "45/45 [==============================] - 0s 3ms/step - loss: 29.1769 - val_loss: 0.7503\n",
      "Epoch 193/200\n",
      "45/45 [==============================] - 0s 3ms/step - loss: 18.8701 - val_loss: 0.4813\n",
      "Epoch 194/200\n",
      "45/45 [==============================] - 0s 3ms/step - loss: 23.7345 - val_loss: 0.4229\n",
      "Epoch 195/200\n",
      "45/45 [==============================] - 0s 3ms/step - loss: 22.0049 - val_loss: 0.3243\n",
      "Epoch 196/200\n",
      "45/45 [==============================] - 0s 3ms/step - loss: 29.2426 - val_loss: 0.3587\n",
      "Epoch 197/200\n",
      "45/45 [==============================] - 0s 4ms/step - loss: 30.2965 - val_loss: 0.2439\n",
      "Epoch 198/200\n",
      "45/45 [==============================] - 0s 3ms/step - loss: 24.2054 - val_loss: 0.2200\n",
      "Epoch 199/200\n",
      "45/45 [==============================] - 0s 3ms/step - loss: 27.2873 - val_loss: 0.4641\n",
      "Epoch 200/200\n",
      "45/45 [==============================] - 0s 3ms/step - loss: 23.6854 - val_loss: 0.6190\n"
     ]
    }
   ],
   "source": [
    "lr, rf, rg, svr, model, score = predict_models(X_train, X_test, y_train, y_test)\n",
    "score"
   ]
  },
  {
   "cell_type": "code",
   "execution_count": 53,
   "metadata": {},
   "outputs": [
    {
     "data": {
      "text/plain": [
       "[0.2166569130615722,\n",
       " -0.1822230848976767,\n",
       " 0.21583259884346362,\n",
       " 0.18314304911047208,\n",
       " 0.6190006136894226]"
      ]
     },
     "execution_count": 53,
     "metadata": {},
     "output_type": "execute_result"
    }
   ],
   "source": [
    "score"
   ]
  },
  {
   "cell_type": "code",
   "execution_count": 54,
   "metadata": {},
   "outputs": [
    {
     "name": "stdout",
     "output_type": "stream",
     "text": [
      "1/1 [==============================] - 1s 669ms/step\n"
     ]
    },
    {
     "data": {
      "text/plain": [
       "array([[100.05116],\n",
       "       [100.00809],\n",
       "       [100.0848 ]], dtype=float32)"
      ]
     },
     "execution_count": 54,
     "metadata": {},
     "output_type": "execute_result"
    }
   ],
   "source": [
    "# Предсказание\n",
    "forecast_set = model.predict(X_Predictions)\n",
    "forecast_set"
   ]
  },
  {
   "cell_type": "code",
   "execution_count": 55,
   "metadata": {},
   "outputs": [
    {
     "data": {
      "text/plain": [
       "[Timestamp('2023-07-01 00:00:00'),\n",
       " Timestamp('2023-08-01 00:00:00'),\n",
       " Timestamp('2023-09-01 00:00:00')]"
      ]
     },
     "execution_count": 55,
     "metadata": {},
     "output_type": "execute_result"
    }
   ],
   "source": [
    "[df.tail(1).index[0]+relativedelta(months=_) for _ in range(1, forecast_out+1)]"
   ]
  },
  {
   "cell_type": "code",
   "execution_count": 114,
   "metadata": {},
   "outputs": [
    {
     "data": {
      "text/html": [
       "<div>\n",
       "<style scoped>\n",
       "    .dataframe tbody tr th:only-of-type {\n",
       "        vertical-align: middle;\n",
       "    }\n",
       "\n",
       "    .dataframe tbody tr th {\n",
       "        vertical-align: top;\n",
       "    }\n",
       "\n",
       "    .dataframe thead th {\n",
       "        text-align: right;\n",
       "    }\n",
       "</style>\n",
       "<table border=\"1\" class=\"dataframe\">\n",
       "  <thead>\n",
       "    <tr style=\"text-align: right;\">\n",
       "      <th></th>\n",
       "      <th>IPC</th>\n",
       "      <th>label</th>\n",
       "    </tr>\n",
       "    <tr>\n",
       "      <th>Date</th>\n",
       "      <th></th>\n",
       "      <th></th>\n",
       "    </tr>\n",
       "  </thead>\n",
       "  <tbody>\n",
       "    <tr>\n",
       "      <th>2023-02-01</th>\n",
       "      <td>100.459999</td>\n",
       "      <td>100.309998</td>\n",
       "    </tr>\n",
       "    <tr>\n",
       "      <th>2023-03-01</th>\n",
       "      <td>100.370003</td>\n",
       "      <td>100.370003</td>\n",
       "    </tr>\n",
       "    <tr>\n",
       "      <th>2023-04-01</th>\n",
       "      <td>100.379997</td>\n",
       "      <td>100.629997</td>\n",
       "    </tr>\n",
       "    <tr>\n",
       "      <th>2023-05-01</th>\n",
       "      <td>100.309998</td>\n",
       "      <td>100.279999</td>\n",
       "    </tr>\n",
       "    <tr>\n",
       "      <th>2023-06-01</th>\n",
       "      <td>100.370003</td>\n",
       "      <td>100.870003</td>\n",
       "    </tr>\n",
       "  </tbody>\n",
       "</table>\n",
       "</div>"
      ],
      "text/plain": [
       "                   IPC       label\n",
       "Date                              \n",
       "2023-02-01  100.459999  100.309998\n",
       "2023-03-01  100.370003  100.370003\n",
       "2023-04-01  100.379997  100.629997\n",
       "2023-05-01  100.309998  100.279999\n",
       "2023-06-01  100.370003  100.870003"
      ]
     },
     "execution_count": 114,
     "metadata": {},
     "output_type": "execute_result"
    }
   ],
   "source": [
    "df.tail()"
   ]
  },
  {
   "cell_type": "code",
   "execution_count": 56,
   "metadata": {},
   "outputs": [],
   "source": [
    "next_date = [df.tail(1).index[0]+relativedelta(months=_) for _ in range(1, forecast_out+1)]\n"
   ]
  },
  {
   "cell_type": "code",
   "execution_count": 57,
   "metadata": {},
   "outputs": [
    {
     "data": {
      "text/plain": [
       "[Timestamp('2023-07-01 00:00:00'),\n",
       " Timestamp('2023-08-01 00:00:00'),\n",
       " Timestamp('2023-09-01 00:00:00')]"
      ]
     },
     "execution_count": 57,
     "metadata": {},
     "output_type": "execute_result"
    }
   ],
   "source": [
    "next_date"
   ]
  },
  {
   "cell_type": "code",
   "execution_count": 58,
   "metadata": {},
   "outputs": [
    {
     "data": {
      "text/plain": [
       "282"
      ]
     },
     "execution_count": 58,
     "metadata": {},
     "output_type": "execute_result"
    }
   ],
   "source": [
    "len(df.index)"
   ]
  },
  {
   "cell_type": "code",
   "execution_count": 60,
   "metadata": {},
   "outputs": [
    {
     "data": {
      "text/plain": [
       "IPC      100.370003\n",
       "label    100.870003\n",
       "Name: 2023-06-01, dtype: float64"
      ]
     },
     "execution_count": 60,
     "metadata": {},
     "output_type": "execute_result"
    }
   ],
   "source": [
    "df.loc[df.tail(1).index[0]]"
   ]
  },
  {
   "cell_type": "code",
   "execution_count": 61,
   "metadata": {},
   "outputs": [
    {
     "name": "stdout",
     "output_type": "stream",
     "text": [
      "1/1 [==============================] - 0s 14ms/step\n"
     ]
    }
   ],
   "source": [
    "forecast_set = model.predict(X_Predictions) \n",
    "next_date = [df.tail(1).index[0]+relativedelta(months=_) for _ in range(1, forecast_out+1)]\n",
    "df['Forecast'] = np.nan\n",
    "for i in range(forecast_out):\n",
    "    df.loc[next_date[i]] = [np.nan, np.nan, forecast_set[i][0]]\n",
    "    #df.loc[df.tail(1).index[0]] = [next_date[i], np.nan, np.nan, forecast_set[i][0]]\n",
    "    # df.loc[next_date[i]] = forecast_set[i]"
   ]
  },
  {
   "cell_type": "code",
   "execution_count": 66,
   "metadata": {},
   "outputs": [
    {
     "data": {
      "text/plain": [
       "[(datetime.date(2023, 10, 1), 100.72380018672142),\n",
       " (datetime.date(2023, 11, 1), 100.66876740587192),\n",
       " (datetime.date(2023, 12, 1), 100.76153797898222)]"
      ]
     },
     "execution_count": 66,
     "metadata": {},
     "output_type": "execute_result"
    }
   ],
   "source": [
    "list(zip(next_date, forecast_set_lr))"
   ]
  },
  {
   "cell_type": "code",
   "execution_count": 120,
   "metadata": {},
   "outputs": [
    {
     "data": {
      "text/html": [
       "<div>\n",
       "<style scoped>\n",
       "    .dataframe tbody tr th:only-of-type {\n",
       "        vertical-align: middle;\n",
       "    }\n",
       "\n",
       "    .dataframe tbody tr th {\n",
       "        vertical-align: top;\n",
       "    }\n",
       "\n",
       "    .dataframe thead th {\n",
       "        text-align: right;\n",
       "    }\n",
       "</style>\n",
       "<table border=\"1\" class=\"dataframe\">\n",
       "  <thead>\n",
       "    <tr style=\"text-align: right;\">\n",
       "      <th></th>\n",
       "      <th>IPC</th>\n",
       "      <th>label</th>\n",
       "      <th>Forecast</th>\n",
       "    </tr>\n",
       "    <tr>\n",
       "      <th>Date</th>\n",
       "      <th></th>\n",
       "      <th></th>\n",
       "      <th></th>\n",
       "    </tr>\n",
       "  </thead>\n",
       "  <tbody>\n",
       "    <tr>\n",
       "      <th>2023-05-01</th>\n",
       "      <td>100.309998</td>\n",
       "      <td>100.279999</td>\n",
       "      <td>NaN</td>\n",
       "    </tr>\n",
       "    <tr>\n",
       "      <th>2023-06-01</th>\n",
       "      <td>100.370003</td>\n",
       "      <td>100.870003</td>\n",
       "      <td>NaN</td>\n",
       "    </tr>\n",
       "    <tr>\n",
       "      <th>2023-07-01</th>\n",
       "      <td>NaN</td>\n",
       "      <td>NaN</td>\n",
       "      <td>98.450439</td>\n",
       "    </tr>\n",
       "    <tr>\n",
       "      <th>2023-08-01</th>\n",
       "      <td>NaN</td>\n",
       "      <td>NaN</td>\n",
       "      <td>98.469025</td>\n",
       "    </tr>\n",
       "    <tr>\n",
       "      <th>2023-09-01</th>\n",
       "      <td>NaN</td>\n",
       "      <td>NaN</td>\n",
       "      <td>98.441879</td>\n",
       "    </tr>\n",
       "  </tbody>\n",
       "</table>\n",
       "</div>"
      ],
      "text/plain": [
       "                   IPC       label   Forecast\n",
       "Date                                         \n",
       "2023-05-01  100.309998  100.279999        NaN\n",
       "2023-06-01  100.370003  100.870003        NaN\n",
       "2023-07-01         NaN         NaN  98.450439\n",
       "2023-08-01         NaN         NaN  98.469025\n",
       "2023-09-01         NaN         NaN  98.441879"
      ]
     },
     "execution_count": 120,
     "metadata": {},
     "output_type": "execute_result"
    }
   ],
   "source": [
    "df.tail()"
   ]
  },
  {
   "cell_type": "code",
   "execution_count": 62,
   "metadata": {},
   "outputs": [],
   "source": [
    "df_rez = df.copy()"
   ]
  },
  {
   "cell_type": "code",
   "execution_count": 63,
   "metadata": {},
   "outputs": [],
   "source": [
    "df = df_rez.copy()"
   ]
  },
  {
   "cell_type": "code",
   "execution_count": 64,
   "metadata": {},
   "outputs": [
    {
     "data": {
      "text/html": [
       "<div>\n",
       "<style scoped>\n",
       "    .dataframe tbody tr th:only-of-type {\n",
       "        vertical-align: middle;\n",
       "    }\n",
       "\n",
       "    .dataframe tbody tr th {\n",
       "        vertical-align: top;\n",
       "    }\n",
       "\n",
       "    .dataframe thead th {\n",
       "        text-align: right;\n",
       "    }\n",
       "</style>\n",
       "<table border=\"1\" class=\"dataframe\">\n",
       "  <thead>\n",
       "    <tr style=\"text-align: right;\">\n",
       "      <th></th>\n",
       "      <th>IPC</th>\n",
       "      <th>label</th>\n",
       "      <th>Forecast</th>\n",
       "    </tr>\n",
       "    <tr>\n",
       "      <th>Date</th>\n",
       "      <th></th>\n",
       "      <th></th>\n",
       "      <th></th>\n",
       "    </tr>\n",
       "  </thead>\n",
       "  <tbody>\n",
       "    <tr>\n",
       "      <th>2023-05-01</th>\n",
       "      <td>100.309998</td>\n",
       "      <td>100.279999</td>\n",
       "      <td>NaN</td>\n",
       "    </tr>\n",
       "    <tr>\n",
       "      <th>2023-06-01</th>\n",
       "      <td>100.370003</td>\n",
       "      <td>100.870003</td>\n",
       "      <td>NaN</td>\n",
       "    </tr>\n",
       "    <tr>\n",
       "      <th>2023-07-01</th>\n",
       "      <td>NaN</td>\n",
       "      <td>NaN</td>\n",
       "      <td>100.308434</td>\n",
       "    </tr>\n",
       "    <tr>\n",
       "      <th>2023-08-01</th>\n",
       "      <td>NaN</td>\n",
       "      <td>NaN</td>\n",
       "      <td>100.286400</td>\n",
       "    </tr>\n",
       "    <tr>\n",
       "      <th>2023-09-01</th>\n",
       "      <td>NaN</td>\n",
       "      <td>NaN</td>\n",
       "      <td>100.334175</td>\n",
       "    </tr>\n",
       "  </tbody>\n",
       "</table>\n",
       "</div>"
      ],
      "text/plain": [
       "                   IPC       label    Forecast\n",
       "Date                                          \n",
       "2023-05-01  100.309998  100.279999         NaN\n",
       "2023-06-01  100.370003  100.870003         NaN\n",
       "2023-07-01         NaN         NaN  100.308434\n",
       "2023-08-01         NaN         NaN  100.286400\n",
       "2023-09-01         NaN         NaN  100.334175"
      ]
     },
     "execution_count": 64,
     "metadata": {},
     "output_type": "execute_result"
    }
   ],
   "source": [
    "next_date = [df.tail(1).index[0]+relativedelta(months=_) for _ in range(1, forecast_out+1)]\n",
    "df.tail()"
   ]
  },
  {
   "cell_type": "code",
   "execution_count": 59,
   "metadata": {},
   "outputs": [
    {
     "data": {
      "text/plain": [
       "[nan, nan, nan, nan]"
      ]
     },
     "execution_count": 59,
     "metadata": {},
     "output_type": "execute_result"
    }
   ],
   "source": [
    "[np.nan for _ in range(4)]"
   ]
  },
  {
   "cell_type": "code",
   "execution_count": 60,
   "metadata": {},
   "outputs": [
    {
     "ename": "ValueError",
     "evalue": "Shape of passed values is (4, 1), indices imply (4, 4)",
     "output_type": "error",
     "traceback": [
      "\u001b[1;31m---------------------------------------------------------------------------\u001b[0m",
      "\u001b[1;31mValueError\u001b[0m                                Traceback (most recent call last)",
      "Input \u001b[1;32mIn [60]\u001b[0m, in \u001b[0;36m<cell line: 1>\u001b[1;34m()\u001b[0m\n\u001b[1;32m----> 1\u001b[0m \u001b[43mpd\u001b[49m\u001b[38;5;241;43m.\u001b[39;49m\u001b[43mDataFrame\u001b[49m\u001b[43m(\u001b[49m\u001b[43mcolumns\u001b[49m\u001b[38;5;241;43m=\u001b[39;49m\u001b[43m[\u001b[49m\u001b[38;5;124;43m'\u001b[39;49m\u001b[38;5;124;43mForecast_lr\u001b[39;49m\u001b[38;5;124;43m'\u001b[39;49m\u001b[43m,\u001b[49m\u001b[43m \u001b[49m\u001b[38;5;124;43m'\u001b[39;49m\u001b[38;5;124;43mForecast_rf\u001b[39;49m\u001b[38;5;124;43m'\u001b[39;49m\u001b[43m,\u001b[49m\u001b[43m \u001b[49m\u001b[38;5;124;43m'\u001b[39;49m\u001b[38;5;124;43mForecast_rg\u001b[39;49m\u001b[38;5;124;43m'\u001b[39;49m\u001b[43m,\u001b[49m\u001b[43m \u001b[49m\u001b[38;5;124;43m'\u001b[39;49m\u001b[38;5;124;43mForecast_svr\u001b[39;49m\u001b[38;5;124;43m'\u001b[39;49m\u001b[43m]\u001b[49m\u001b[43m,\u001b[49m\u001b[43m \u001b[49m\u001b[43mdata\u001b[49m\u001b[43m \u001b[49m\u001b[38;5;241;43m=\u001b[39;49m\u001b[43m \u001b[49m\u001b[43m[\u001b[49m\u001b[43mnp\u001b[49m\u001b[38;5;241;43m.\u001b[39;49m\u001b[43mnan\u001b[49m\u001b[43m \u001b[49m\u001b[38;5;28;43;01mfor\u001b[39;49;00m\u001b[43m \u001b[49m\u001b[43m_\u001b[49m\u001b[43m \u001b[49m\u001b[38;5;129;43;01min\u001b[39;49;00m\u001b[43m \u001b[49m\u001b[38;5;28;43mrange\u001b[39;49m\u001b[43m(\u001b[49m\u001b[38;5;241;43m4\u001b[39;49m\u001b[43m)\u001b[49m\u001b[43m]\u001b[49m\u001b[43m)\u001b[49m\n",
      "File \u001b[1;32mD:\\Programs\\Python3\\lib\\site-packages\\pandas\\core\\frame.py:762\u001b[0m, in \u001b[0;36mDataFrame.__init__\u001b[1;34m(self, data, index, columns, dtype, copy)\u001b[0m\n\u001b[0;32m    754\u001b[0m         mgr \u001b[38;5;241m=\u001b[39m arrays_to_mgr(\n\u001b[0;32m    755\u001b[0m             arrays,\n\u001b[0;32m    756\u001b[0m             columns,\n\u001b[1;32m   (...)\u001b[0m\n\u001b[0;32m    759\u001b[0m             typ\u001b[38;5;241m=\u001b[39mmanager,\n\u001b[0;32m    760\u001b[0m         )\n\u001b[0;32m    761\u001b[0m     \u001b[38;5;28;01melse\u001b[39;00m:\n\u001b[1;32m--> 762\u001b[0m         mgr \u001b[38;5;241m=\u001b[39m \u001b[43mndarray_to_mgr\u001b[49m\u001b[43m(\u001b[49m\n\u001b[0;32m    763\u001b[0m \u001b[43m            \u001b[49m\u001b[43mdata\u001b[49m\u001b[43m,\u001b[49m\n\u001b[0;32m    764\u001b[0m \u001b[43m            \u001b[49m\u001b[43mindex\u001b[49m\u001b[43m,\u001b[49m\n\u001b[0;32m    765\u001b[0m \u001b[43m            \u001b[49m\u001b[43mcolumns\u001b[49m\u001b[43m,\u001b[49m\n\u001b[0;32m    766\u001b[0m \u001b[43m            \u001b[49m\u001b[43mdtype\u001b[49m\u001b[38;5;241;43m=\u001b[39;49m\u001b[43mdtype\u001b[49m\u001b[43m,\u001b[49m\n\u001b[0;32m    767\u001b[0m \u001b[43m            \u001b[49m\u001b[43mcopy\u001b[49m\u001b[38;5;241;43m=\u001b[39;49m\u001b[43mcopy\u001b[49m\u001b[43m,\u001b[49m\n\u001b[0;32m    768\u001b[0m \u001b[43m            \u001b[49m\u001b[43mtyp\u001b[49m\u001b[38;5;241;43m=\u001b[39;49m\u001b[43mmanager\u001b[49m\u001b[43m,\u001b[49m\n\u001b[0;32m    769\u001b[0m \u001b[43m        \u001b[49m\u001b[43m)\u001b[49m\n\u001b[0;32m    770\u001b[0m \u001b[38;5;28;01melse\u001b[39;00m:\n\u001b[0;32m    771\u001b[0m     mgr \u001b[38;5;241m=\u001b[39m dict_to_mgr(\n\u001b[0;32m    772\u001b[0m         {},\n\u001b[0;32m    773\u001b[0m         index,\n\u001b[1;32m   (...)\u001b[0m\n\u001b[0;32m    776\u001b[0m         typ\u001b[38;5;241m=\u001b[39mmanager,\n\u001b[0;32m    777\u001b[0m     )\n",
      "File \u001b[1;32mD:\\Programs\\Python3\\lib\\site-packages\\pandas\\core\\internals\\construction.py:349\u001b[0m, in \u001b[0;36mndarray_to_mgr\u001b[1;34m(values, index, columns, dtype, copy, typ)\u001b[0m\n\u001b[0;32m    344\u001b[0m \u001b[38;5;66;03m# _prep_ndarraylike ensures that values.ndim == 2 at this point\u001b[39;00m\n\u001b[0;32m    345\u001b[0m index, columns \u001b[38;5;241m=\u001b[39m _get_axes(\n\u001b[0;32m    346\u001b[0m     values\u001b[38;5;241m.\u001b[39mshape[\u001b[38;5;241m0\u001b[39m], values\u001b[38;5;241m.\u001b[39mshape[\u001b[38;5;241m1\u001b[39m], index\u001b[38;5;241m=\u001b[39mindex, columns\u001b[38;5;241m=\u001b[39mcolumns\n\u001b[0;32m    347\u001b[0m )\n\u001b[1;32m--> 349\u001b[0m \u001b[43m_check_values_indices_shape_match\u001b[49m\u001b[43m(\u001b[49m\u001b[43mvalues\u001b[49m\u001b[43m,\u001b[49m\u001b[43m \u001b[49m\u001b[43mindex\u001b[49m\u001b[43m,\u001b[49m\u001b[43m \u001b[49m\u001b[43mcolumns\u001b[49m\u001b[43m)\u001b[49m\n\u001b[0;32m    351\u001b[0m \u001b[38;5;28;01mif\u001b[39;00m typ \u001b[38;5;241m==\u001b[39m \u001b[38;5;124m\"\u001b[39m\u001b[38;5;124marray\u001b[39m\u001b[38;5;124m\"\u001b[39m:\n\u001b[0;32m    353\u001b[0m     \u001b[38;5;28;01mif\u001b[39;00m \u001b[38;5;28missubclass\u001b[39m(values\u001b[38;5;241m.\u001b[39mdtype\u001b[38;5;241m.\u001b[39mtype, \u001b[38;5;28mstr\u001b[39m):\n",
      "File \u001b[1;32mD:\\Programs\\Python3\\lib\\site-packages\\pandas\\core\\internals\\construction.py:420\u001b[0m, in \u001b[0;36m_check_values_indices_shape_match\u001b[1;34m(values, index, columns)\u001b[0m\n\u001b[0;32m    418\u001b[0m passed \u001b[38;5;241m=\u001b[39m values\u001b[38;5;241m.\u001b[39mshape\n\u001b[0;32m    419\u001b[0m implied \u001b[38;5;241m=\u001b[39m (\u001b[38;5;28mlen\u001b[39m(index), \u001b[38;5;28mlen\u001b[39m(columns))\n\u001b[1;32m--> 420\u001b[0m \u001b[38;5;28;01mraise\u001b[39;00m \u001b[38;5;167;01mValueError\u001b[39;00m(\u001b[38;5;124mf\u001b[39m\u001b[38;5;124m\"\u001b[39m\u001b[38;5;124mShape of passed values is \u001b[39m\u001b[38;5;132;01m{\u001b[39;00mpassed\u001b[38;5;132;01m}\u001b[39;00m\u001b[38;5;124m, indices imply \u001b[39m\u001b[38;5;132;01m{\u001b[39;00mimplied\u001b[38;5;132;01m}\u001b[39;00m\u001b[38;5;124m\"\u001b[39m)\n",
      "\u001b[1;31mValueError\u001b[0m: Shape of passed values is (4, 1), indices imply (4, 4)"
     ]
    }
   ],
   "source": [
    "pd.DataFrame(columns=['Forecast_lr', 'Forecast_rf', 'Forecast_rg', 'Forecast_svr'], data = [np.nan for _ in range(4)])"
   ]
  },
  {
   "cell_type": "code",
   "execution_count": null,
   "metadata": {},
   "outputs": [],
   "source": [
    "def predict_models(X_Predictions):\n",
    "    # создание датасета функции\n",
    "    df_def = \n",
    "    df_def['Forecast_lr'] = np.nan\n",
    "    df['Forecast_rf'] = np.nan\n",
    "    df['Forecast_rg'] = np.nan\n",
    "    df['Forecast_svr'] = np.nan\n",
    "    \n",
    "    pd.DataFrame(columns=['Forecast_lr', 'Forecast_rf', 'Forecast_rg', 'Forecast_svr'], data = list(zip(list_date[:len(list_index):], \\\n",
    "                                                   list_index.astype('float32'))))\n",
    "    \n",
    "    \n",
    "    # Линейная регрессия\n",
    "    forecast_set_lr = lr.predict(X_Predictions) \n",
    "    next_date = [df.tail(1).index[0]+relativedelta(months=_) for _ in range(1, forecast_out+1)]\n",
    "    for i in range(forecast_out):\n",
    "        df.iloc[-1-i] = [np.nan, np.nan, df['Forecast'][-1-i], forecast_set_lr[i]]\n",
    "        \n",
    "    forecast_set_rf = rf.predict(X_Predictions) \n",
    "    for i in range(forecast_out):\n",
    "        df.iloc[-1-i] = [np.nan, np.nan, df['Forecast'][-1-i], df['Forecast_lr'][-1-i], forecast_set_rf[i]]\n",
    "    \n",
    "    forecast_set_rg = rg.predict(X_Predictions) \n",
    "    for i in range(forecast_out):\n",
    "        df.iloc[-1-i] = [np.nan, np.nan, df['Forecast'][-1-i], df['Forecast_lr'][-1-i], df['Forecast_rf'][-1-i], forecast_set_rg[i]]\n",
    "    \n",
    "    forecast_set_svr = svr.predict(X_Predictions) \n",
    "    for i in range(forecast_out):\n",
    "        df.iloc[-1-i] = [np.nan, np.nan, df['Forecast'][-1-i], df['Forecast_lr'][-1-i], df['Forecast_rf'][-1-i], df['Forecast_rg'][-1-i], forecast_set_svr[i]]\n",
    "    "
   ]
  },
  {
   "cell_type": "code",
   "execution_count": 65,
   "metadata": {},
   "outputs": [],
   "source": [
    "forecast_set_lr = lr.predict(X_Predictions) \n",
    "next_date = [df.tail(1).index[0]+relativedelta(months=_) for _ in range(1, forecast_out+1)]\n",
    "df['Forecast_lr'] = np.nan\n",
    "for i in range(forecast_out):\n",
    "    df.iloc[-1-i] = [np.nan, np.nan, df['Forecast'][-1-i], forecast_set_lr[i]]"
   ]
  },
  {
   "cell_type": "code",
   "execution_count": 66,
   "metadata": {},
   "outputs": [],
   "source": [
    "forecast_set_rf = rf.predict(X_Predictions) \n",
    "df['Forecast_rf'] = np.nan\n",
    "for i in range(forecast_out):\n",
    "    df.iloc[-1-i] = [np.nan, np.nan, df['Forecast'][-1-i], df['Forecast_lr'][-1-i], forecast_set_rf[i]]"
   ]
  },
  {
   "cell_type": "code",
   "execution_count": 67,
   "metadata": {},
   "outputs": [],
   "source": [
    "forecast_set_rg = rg.predict(X_Predictions) \n",
    "df['Forecast_rg'] = np.nan\n",
    "for i in range(forecast_out):\n",
    "    df.iloc[-1-i] = [np.nan, np.nan, df['Forecast'][-1-i], df['Forecast_lr'][-1-i], df['Forecast_rf'][-1-i], forecast_set_rg[i]]"
   ]
  },
  {
   "cell_type": "code",
   "execution_count": 68,
   "metadata": {},
   "outputs": [],
   "source": [
    "forecast_set_svr = svr.predict(X_Predictions) \n",
    "df['Forecast_svr'] = np.nan\n",
    "for i in range(forecast_out):\n",
    "    df.iloc[-1-i] = [np.nan, np.nan, df['Forecast'][-1-i], df['Forecast_lr'][-1-i], df['Forecast_rf'][-1-i], df['Forecast_rg'][-1-i], forecast_set_svr[i]]"
   ]
  },
  {
   "cell_type": "code",
   "execution_count": null,
   "metadata": {},
   "outputs": [],
   "source": []
  },
  {
   "cell_type": "code",
   "execution_count": null,
   "metadata": {},
   "outputs": [],
   "source": [
    "282    100.63\n",
    "283    100.28\n",
    "284    100.87"
   ]
  },
  {
   "cell_type": "code",
   "execution_count": 69,
   "metadata": {},
   "outputs": [
    {
     "data": {
      "text/html": [
       "<div>\n",
       "<style scoped>\n",
       "    .dataframe tbody tr th:only-of-type {\n",
       "        vertical-align: middle;\n",
       "    }\n",
       "\n",
       "    .dataframe tbody tr th {\n",
       "        vertical-align: top;\n",
       "    }\n",
       "\n",
       "    .dataframe thead th {\n",
       "        text-align: right;\n",
       "    }\n",
       "</style>\n",
       "<table border=\"1\" class=\"dataframe\">\n",
       "  <thead>\n",
       "    <tr style=\"text-align: right;\">\n",
       "      <th></th>\n",
       "      <th>IPC</th>\n",
       "      <th>label</th>\n",
       "      <th>Forecast</th>\n",
       "      <th>Forecast_lr</th>\n",
       "      <th>Forecast_rf</th>\n",
       "      <th>Forecast_rg</th>\n",
       "      <th>Forecast_svr</th>\n",
       "    </tr>\n",
       "    <tr>\n",
       "      <th>Date</th>\n",
       "      <th></th>\n",
       "      <th></th>\n",
       "      <th></th>\n",
       "      <th></th>\n",
       "      <th></th>\n",
       "      <th></th>\n",
       "      <th></th>\n",
       "    </tr>\n",
       "  </thead>\n",
       "  <tbody>\n",
       "    <tr>\n",
       "      <th>2023-05-01</th>\n",
       "      <td>100.309998</td>\n",
       "      <td>100.279999</td>\n",
       "      <td>NaN</td>\n",
       "      <td>NaN</td>\n",
       "      <td>NaN</td>\n",
       "      <td>NaN</td>\n",
       "      <td>NaN</td>\n",
       "    </tr>\n",
       "    <tr>\n",
       "      <th>2023-06-01</th>\n",
       "      <td>100.370003</td>\n",
       "      <td>100.870003</td>\n",
       "      <td>NaN</td>\n",
       "      <td>NaN</td>\n",
       "      <td>NaN</td>\n",
       "      <td>NaN</td>\n",
       "      <td>NaN</td>\n",
       "    </tr>\n",
       "    <tr>\n",
       "      <th>2023-07-01</th>\n",
       "      <td>NaN</td>\n",
       "      <td>NaN</td>\n",
       "      <td>100.308434</td>\n",
       "      <td>100.736376</td>\n",
       "      <td>100.674620</td>\n",
       "      <td>100.736245</td>\n",
       "      <td>100.656546</td>\n",
       "    </tr>\n",
       "    <tr>\n",
       "      <th>2023-08-01</th>\n",
       "      <td>NaN</td>\n",
       "      <td>NaN</td>\n",
       "      <td>100.286400</td>\n",
       "      <td>100.620652</td>\n",
       "      <td>101.194588</td>\n",
       "      <td>100.621057</td>\n",
       "      <td>100.520107</td>\n",
       "    </tr>\n",
       "    <tr>\n",
       "      <th>2023-09-01</th>\n",
       "      <td>NaN</td>\n",
       "      <td>NaN</td>\n",
       "      <td>100.334175</td>\n",
       "      <td>100.689301</td>\n",
       "      <td>100.412450</td>\n",
       "      <td>100.689388</td>\n",
       "      <td>100.565284</td>\n",
       "    </tr>\n",
       "  </tbody>\n",
       "</table>\n",
       "</div>"
      ],
      "text/plain": [
       "                   IPC       label    Forecast  Forecast_lr  Forecast_rf  \\\n",
       "Date                                                                       \n",
       "2023-05-01  100.309998  100.279999         NaN          NaN          NaN   \n",
       "2023-06-01  100.370003  100.870003         NaN          NaN          NaN   \n",
       "2023-07-01         NaN         NaN  100.308434   100.736376   100.674620   \n",
       "2023-08-01         NaN         NaN  100.286400   100.620652   101.194588   \n",
       "2023-09-01         NaN         NaN  100.334175   100.689301   100.412450   \n",
       "\n",
       "            Forecast_rg  Forecast_svr  \n",
       "Date                                   \n",
       "2023-05-01          NaN           NaN  \n",
       "2023-06-01          NaN           NaN  \n",
       "2023-07-01   100.736245    100.656546  \n",
       "2023-08-01   100.621057    100.520107  \n",
       "2023-09-01   100.689388    100.565284  "
      ]
     },
     "execution_count": 69,
     "metadata": {},
     "output_type": "execute_result"
    }
   ],
   "source": [
    "df.tail()"
   ]
  },
  {
   "cell_type": "code",
   "execution_count": null,
   "metadata": {},
   "outputs": [],
   "source": []
  },
  {
   "cell_type": "code",
   "execution_count": 140,
   "metadata": {},
   "outputs": [],
   "source": [
    "df.iloc[-4] = [df['IPC'][-4], df['label'][-4], df['IPC'][-4], df['IPC'][-4]]"
   ]
  },
  {
   "cell_type": "code",
   "execution_count": 135,
   "metadata": {},
   "outputs": [
    {
     "data": {
      "text/html": [
       "<div>\n",
       "<style scoped>\n",
       "    .dataframe tbody tr th:only-of-type {\n",
       "        vertical-align: middle;\n",
       "    }\n",
       "\n",
       "    .dataframe tbody tr th {\n",
       "        vertical-align: top;\n",
       "    }\n",
       "\n",
       "    .dataframe thead th {\n",
       "        text-align: right;\n",
       "    }\n",
       "</style>\n",
       "<table border=\"1\" class=\"dataframe\">\n",
       "  <thead>\n",
       "    <tr style=\"text-align: right;\">\n",
       "      <th></th>\n",
       "      <th>IPC</th>\n",
       "      <th>label</th>\n",
       "      <th>Forecast</th>\n",
       "      <th>Forecast_lr</th>\n",
       "    </tr>\n",
       "    <tr>\n",
       "      <th>Date</th>\n",
       "      <th></th>\n",
       "      <th></th>\n",
       "      <th></th>\n",
       "      <th></th>\n",
       "    </tr>\n",
       "  </thead>\n",
       "  <tbody>\n",
       "    <tr>\n",
       "      <th>2023-05-01</th>\n",
       "      <td>100.309998</td>\n",
       "      <td>100.279999</td>\n",
       "      <td>NaN</td>\n",
       "      <td>NaN</td>\n",
       "    </tr>\n",
       "    <tr>\n",
       "      <th>2023-06-01</th>\n",
       "      <td>100.370003</td>\n",
       "      <td>100.870003</td>\n",
       "      <td>NaN</td>\n",
       "      <td>NaN</td>\n",
       "    </tr>\n",
       "    <tr>\n",
       "      <th>2023-07-01</th>\n",
       "      <td>NaN</td>\n",
       "      <td>NaN</td>\n",
       "      <td>98.450439</td>\n",
       "      <td>100.761162</td>\n",
       "    </tr>\n",
       "    <tr>\n",
       "      <th>2023-08-01</th>\n",
       "      <td>NaN</td>\n",
       "      <td>NaN</td>\n",
       "      <td>98.469025</td>\n",
       "      <td>100.666452</td>\n",
       "    </tr>\n",
       "    <tr>\n",
       "      <th>2023-09-01</th>\n",
       "      <td>NaN</td>\n",
       "      <td>NaN</td>\n",
       "      <td>98.441879</td>\n",
       "      <td>100.722635</td>\n",
       "    </tr>\n",
       "  </tbody>\n",
       "</table>\n",
       "</div>"
      ],
      "text/plain": [
       "                   IPC       label   Forecast  Forecast_lr\n",
       "Date                                                      \n",
       "2023-05-01  100.309998  100.279999        NaN          NaN\n",
       "2023-06-01  100.370003  100.870003        NaN          NaN\n",
       "2023-07-01         NaN         NaN  98.450439   100.761162\n",
       "2023-08-01         NaN         NaN  98.469025   100.666452\n",
       "2023-09-01         NaN         NaN  98.441879   100.722635"
      ]
     },
     "execution_count": 135,
     "metadata": {},
     "output_type": "execute_result"
    }
   ],
   "source": [
    "df.tail()"
   ]
  },
  {
   "cell_type": "code",
   "execution_count": 141,
   "metadata": {},
   "outputs": [
    {
     "data": {
      "text/html": [
       "<div>\n",
       "<style scoped>\n",
       "    .dataframe tbody tr th:only-of-type {\n",
       "        vertical-align: middle;\n",
       "    }\n",
       "\n",
       "    .dataframe tbody tr th {\n",
       "        vertical-align: top;\n",
       "    }\n",
       "\n",
       "    .dataframe thead th {\n",
       "        text-align: right;\n",
       "    }\n",
       "</style>\n",
       "<table border=\"1\" class=\"dataframe\">\n",
       "  <thead>\n",
       "    <tr style=\"text-align: right;\">\n",
       "      <th></th>\n",
       "      <th>IPC</th>\n",
       "      <th>label</th>\n",
       "      <th>Forecast</th>\n",
       "      <th>Forecast_lr</th>\n",
       "    </tr>\n",
       "    <tr>\n",
       "      <th>Date</th>\n",
       "      <th></th>\n",
       "      <th></th>\n",
       "      <th></th>\n",
       "      <th></th>\n",
       "    </tr>\n",
       "  </thead>\n",
       "  <tbody>\n",
       "    <tr>\n",
       "      <th>2023-05-01</th>\n",
       "      <td>100.309998</td>\n",
       "      <td>100.279999</td>\n",
       "      <td>NaN</td>\n",
       "      <td>NaN</td>\n",
       "    </tr>\n",
       "    <tr>\n",
       "      <th>2023-06-01</th>\n",
       "      <td>100.370003</td>\n",
       "      <td>100.870003</td>\n",
       "      <td>100.370003</td>\n",
       "      <td>100.370003</td>\n",
       "    </tr>\n",
       "    <tr>\n",
       "      <th>2023-07-01</th>\n",
       "      <td>NaN</td>\n",
       "      <td>NaN</td>\n",
       "      <td>98.450439</td>\n",
       "      <td>100.761162</td>\n",
       "    </tr>\n",
       "    <tr>\n",
       "      <th>2023-08-01</th>\n",
       "      <td>NaN</td>\n",
       "      <td>NaN</td>\n",
       "      <td>98.469025</td>\n",
       "      <td>100.666452</td>\n",
       "    </tr>\n",
       "    <tr>\n",
       "      <th>2023-09-01</th>\n",
       "      <td>NaN</td>\n",
       "      <td>NaN</td>\n",
       "      <td>98.441879</td>\n",
       "      <td>100.722635</td>\n",
       "    </tr>\n",
       "  </tbody>\n",
       "</table>\n",
       "</div>"
      ],
      "text/plain": [
       "                   IPC       label    Forecast  Forecast_lr\n",
       "Date                                                       \n",
       "2023-05-01  100.309998  100.279999         NaN          NaN\n",
       "2023-06-01  100.370003  100.870003  100.370003   100.370003\n",
       "2023-07-01         NaN         NaN   98.450439   100.761162\n",
       "2023-08-01         NaN         NaN   98.469025   100.666452\n",
       "2023-09-01         NaN         NaN   98.441879   100.722635"
      ]
     },
     "execution_count": 141,
     "metadata": {},
     "output_type": "execute_result"
    }
   ],
   "source": [
    "df.tail()"
   ]
  },
  {
   "cell_type": "code",
   "execution_count": null,
   "metadata": {},
   "outputs": [],
   "source": []
  },
  {
   "cell_type": "code",
   "execution_count": null,
   "metadata": {},
   "outputs": [],
   "source": []
  },
  {
   "cell_type": "code",
   "execution_count": 59,
   "metadata": {},
   "outputs": [
    {
     "ename": "AttributeError",
     "evalue": "'datetime.date' object has no attribute 'timestamp'",
     "output_type": "error",
     "traceback": [
      "\u001b[1;31m---------------------------------------------------------------------------\u001b[0m",
      "\u001b[1;31mAttributeError\u001b[0m                            Traceback (most recent call last)",
      "Input \u001b[1;32mIn [59]\u001b[0m, in \u001b[0;36m<cell line: 2>\u001b[1;34m()\u001b[0m\n\u001b[0;32m      1\u001b[0m last_date \u001b[38;5;241m=\u001b[39m date(\u001b[38;5;241m2023\u001b[39m, \u001b[38;5;241m6\u001b[39m, \u001b[38;5;241m1\u001b[39m) \u001b[38;5;66;03m#datetime.strptime('01.06.2023',\"%d.%m.%Y\") \u001b[39;00m\n\u001b[1;32m----> 2\u001b[0m last_unix \u001b[38;5;241m=\u001b[39m \u001b[43mlast_date\u001b[49m\u001b[38;5;241;43m.\u001b[39;49m\u001b[43mtimestamp\u001b[49m() \n\u001b[0;32m      3\u001b[0m one_day \u001b[38;5;241m=\u001b[39m \u001b[38;5;241m2592000\u001b[39m \u001b[38;5;66;03m# 86400 *30 *15 \u001b[39;00m\n\u001b[0;32m      4\u001b[0m next_unix \u001b[38;5;241m=\u001b[39m last_unix \u001b[38;5;241m+\u001b[39m one_day \n",
      "\u001b[1;31mAttributeError\u001b[0m: 'datetime.date' object has no attribute 'timestamp'"
     ]
    }
   ],
   "source": [
    "last_date = date(2023, 6, 1) #datetime.strptime('01.06.2023',\"%d.%m.%Y\") \n",
    "last_unix = last_date.timestamp() \n",
    "one_day = 2592000 # 86400 *30 *15 \n",
    "next_unix = last_unix + one_day \n",
    "forecast_set = model.predict(X_Predictions) \n",
    "df['Forecast'] = np.nan\n",
    "for i in forecast_set:\n",
    "    next_date = datetime.fromtimestamp(next_unix)#.strptime(\"%d.%m.%Y\")\n",
    "    next_unix += 2592000 # 86400\n",
    "    df.loc[next_date] = [np.nan for _ in range(len(df.columns)-1)]+[i]"
   ]
  },
  {
   "cell_type": "code",
   "execution_count": 66,
   "metadata": {},
   "outputs": [
    {
     "data": {
      "text/html": [
       "<div>\n",
       "<style scoped>\n",
       "    .dataframe tbody tr th:only-of-type {\n",
       "        vertical-align: middle;\n",
       "    }\n",
       "\n",
       "    .dataframe tbody tr th {\n",
       "        vertical-align: top;\n",
       "    }\n",
       "\n",
       "    .dataframe thead th {\n",
       "        text-align: right;\n",
       "    }\n",
       "</style>\n",
       "<table border=\"1\" class=\"dataframe\">\n",
       "  <thead>\n",
       "    <tr style=\"text-align: right;\">\n",
       "      <th></th>\n",
       "      <th>IPC</th>\n",
       "      <th>label</th>\n",
       "      <th>Forecast</th>\n",
       "    </tr>\n",
       "    <tr>\n",
       "      <th>Date</th>\n",
       "      <th></th>\n",
       "      <th></th>\n",
       "      <th></th>\n",
       "    </tr>\n",
       "  </thead>\n",
       "  <tbody>\n",
       "    <tr>\n",
       "      <th>2022-01-01</th>\n",
       "      <td>100.989998</td>\n",
       "      <td>101.559998</td>\n",
       "      <td>NaN</td>\n",
       "    </tr>\n",
       "    <tr>\n",
       "      <th>2022-02-01</th>\n",
       "      <td>101.169998</td>\n",
       "      <td>100.120003</td>\n",
       "      <td>NaN</td>\n",
       "    </tr>\n",
       "    <tr>\n",
       "      <th>2022-03-01</th>\n",
       "      <td>107.610001</td>\n",
       "      <td>99.650002</td>\n",
       "      <td>NaN</td>\n",
       "    </tr>\n",
       "    <tr>\n",
       "      <th>2022-04-01</th>\n",
       "      <td>101.559998</td>\n",
       "      <td>99.610001</td>\n",
       "      <td>NaN</td>\n",
       "    </tr>\n",
       "    <tr>\n",
       "      <th>2022-05-01</th>\n",
       "      <td>100.120003</td>\n",
       "      <td>99.480003</td>\n",
       "      <td>NaN</td>\n",
       "    </tr>\n",
       "    <tr>\n",
       "      <th>2022-06-01</th>\n",
       "      <td>99.650002</td>\n",
       "      <td>100.050003</td>\n",
       "      <td>NaN</td>\n",
       "    </tr>\n",
       "    <tr>\n",
       "      <th>2022-07-01</th>\n",
       "      <td>99.610001</td>\n",
       "      <td>100.180000</td>\n",
       "      <td>NaN</td>\n",
       "    </tr>\n",
       "    <tr>\n",
       "      <th>2022-08-01</th>\n",
       "      <td>99.480003</td>\n",
       "      <td>100.370003</td>\n",
       "      <td>NaN</td>\n",
       "    </tr>\n",
       "    <tr>\n",
       "      <th>2022-09-01</th>\n",
       "      <td>100.050003</td>\n",
       "      <td>100.779999</td>\n",
       "      <td>NaN</td>\n",
       "    </tr>\n",
       "    <tr>\n",
       "      <th>2022-10-01</th>\n",
       "      <td>100.180000</td>\n",
       "      <td>100.839996</td>\n",
       "      <td>NaN</td>\n",
       "    </tr>\n",
       "    <tr>\n",
       "      <th>2022-11-01</th>\n",
       "      <td>100.370003</td>\n",
       "      <td>100.459999</td>\n",
       "      <td>NaN</td>\n",
       "    </tr>\n",
       "    <tr>\n",
       "      <th>2022-12-01</th>\n",
       "      <td>100.779999</td>\n",
       "      <td>100.370003</td>\n",
       "      <td>NaN</td>\n",
       "    </tr>\n",
       "    <tr>\n",
       "      <th>2023-01-01</th>\n",
       "      <td>100.839996</td>\n",
       "      <td>100.379997</td>\n",
       "      <td>NaN</td>\n",
       "    </tr>\n",
       "    <tr>\n",
       "      <th>2023-02-01</th>\n",
       "      <td>100.459999</td>\n",
       "      <td>100.309998</td>\n",
       "      <td>NaN</td>\n",
       "    </tr>\n",
       "    <tr>\n",
       "      <th>2023-03-01</th>\n",
       "      <td>100.370003</td>\n",
       "      <td>100.370003</td>\n",
       "      <td>NaN</td>\n",
       "    </tr>\n",
       "    <tr>\n",
       "      <th>2023-04-01</th>\n",
       "      <td>100.379997</td>\n",
       "      <td>100.629997</td>\n",
       "      <td>NaN</td>\n",
       "    </tr>\n",
       "    <tr>\n",
       "      <th>2023-05-01</th>\n",
       "      <td>100.309998</td>\n",
       "      <td>100.279999</td>\n",
       "      <td>NaN</td>\n",
       "    </tr>\n",
       "    <tr>\n",
       "      <th>2023-06-01</th>\n",
       "      <td>NaN</td>\n",
       "      <td>NaN</td>\n",
       "      <td>98.532967</td>\n",
       "    </tr>\n",
       "    <tr>\n",
       "      <th>2023-07-01</th>\n",
       "      <td>NaN</td>\n",
       "      <td>NaN</td>\n",
       "      <td>98.519897</td>\n",
       "    </tr>\n",
       "    <tr>\n",
       "      <th>2023-08-01</th>\n",
       "      <td>NaN</td>\n",
       "      <td>NaN</td>\n",
       "      <td>98.537590</td>\n",
       "    </tr>\n",
       "  </tbody>\n",
       "</table>\n",
       "</div>"
      ],
      "text/plain": [
       "                   IPC       label   Forecast\n",
       "Date                                         \n",
       "2022-01-01  100.989998  101.559998        NaN\n",
       "2022-02-01  101.169998  100.120003        NaN\n",
       "2022-03-01  107.610001   99.650002        NaN\n",
       "2022-04-01  101.559998   99.610001        NaN\n",
       "2022-05-01  100.120003   99.480003        NaN\n",
       "2022-06-01   99.650002  100.050003        NaN\n",
       "2022-07-01   99.610001  100.180000        NaN\n",
       "2022-08-01   99.480003  100.370003        NaN\n",
       "2022-09-01  100.050003  100.779999        NaN\n",
       "2022-10-01  100.180000  100.839996        NaN\n",
       "2022-11-01  100.370003  100.459999        NaN\n",
       "2022-12-01  100.779999  100.370003        NaN\n",
       "2023-01-01  100.839996  100.379997        NaN\n",
       "2023-02-01  100.459999  100.309998        NaN\n",
       "2023-03-01  100.370003  100.370003        NaN\n",
       "2023-04-01  100.379997  100.629997        NaN\n",
       "2023-05-01  100.309998  100.279999        NaN\n",
       "2023-06-01         NaN         NaN  98.532967\n",
       "2023-07-01         NaN         NaN  98.519897\n",
       "2023-08-01         NaN         NaN  98.537590"
      ]
     },
     "execution_count": 66,
     "metadata": {},
     "output_type": "execute_result"
    }
   ],
   "source": [
    "df.tail(20)"
   ]
  },
  {
   "cell_type": "code",
   "execution_count": 142,
   "metadata": {},
   "outputs": [
    {
     "data": {
      "image/png": "[encoded data removed]",
      "text/plain": [
       "<Figure size 1296x576 with 1 Axes>"
      ]
     },
     "metadata": {
      "needs_background": "light"
     },
     "output_type": "display_data"
    }
   ],
   "source": [
    "plt.figure(figsize=(18, 8))\n",
    "df['IPC'].plot(label='Текущая динамика')\n",
    "df['Forecast_lr'].plot(label='Прогнозируемая динамика')\n",
    "plt.legend(loc=3)\n",
    "plt.title('Динамика цены, с учетом прогноза')\n",
    "plt.xlabel('Дата')\n",
    "plt.ylabel('Цена')\n",
    "plt.show()"
   ]
  },
  {
   "cell_type": "code",
   "execution_count": 143,
   "metadata": {},
   "outputs": [
    {
     "data": {
      "image/png": "[encoded data removed]",
      "text/plain": [
       "<Figure size 1296x576 with 1 Axes>"
      ]
     },
     "metadata": {
      "needs_background": "light"
     },
     "output_type": "display_data"
    }
   ],
   "source": [
    "plt.figure(figsize=(18, 8))\n",
    "df['IPC'].plot(label='Текущая динамика')\n",
    "df['Forecast'].plot(label='Прогнозируемая динамика')\n",
    "plt.legend(loc=3)\n",
    "plt.title('Динамика цены, с учетом прогноза')\n",
    "plt.xlabel('Дата')\n",
    "plt.ylabel('Цена')\n",
    "plt.show()"
   ]
  },
  {
   "cell_type": "code",
   "execution_count": null,
   "metadata": {},
   "outputs": [],
   "source": [
    "# сохраню модели\n",
    "filepath_model = r'D:/Documents/model_row_model_vrem_ryd.pkl'\n",
    "pickle.dump(model, open(filepath_model, 'wb'))"
   ]
  },
  {
   "cell_type": "code",
   "execution_count": null,
   "metadata": {},
   "outputs": [],
   "source": []
  },
  {
   "cell_type": "code",
   "execution_count": null,
   "metadata": {},
   "outputs": [],
   "source": []
  },
  {
   "cell_type": "code",
   "execution_count": null,
   "metadata": {},
   "outputs": [],
   "source": []
  },
  {
   "cell_type": "code",
   "execution_count": null,
   "metadata": {},
   "outputs": [],
   "source": []
  },
  {
   "cell_type": "code",
   "execution_count": null,
   "metadata": {},
   "outputs": [],
   "source": []
  },
  {
   "cell_type": "code",
   "execution_count": null,
   "metadata": {},
   "outputs": [],
   "source": []
  },
  {
   "cell_type": "code",
   "execution_count": null,
   "metadata": {},
   "outputs": [],
   "source": []
  },
  {
   "cell_type": "code",
   "execution_count": null,
   "metadata": {},
   "outputs": [],
   "source": []
  },
  {
   "cell_type": "code",
   "execution_count": null,
   "metadata": {},
   "outputs": [],
   "source": []
  },
  {
   "cell_type": "code",
   "execution_count": null,
   "metadata": {},
   "outputs": [],
   "source": []
  },
  {
   "cell_type": "code",
   "execution_count": null,
   "metadata": {},
   "outputs": [],
   "source": []
  },
  {
   "cell_type": "code",
   "execution_count": null,
   "metadata": {},
   "outputs": [],
   "source": []
  },
  {
   "cell_type": "code",
   "execution_count": null,
   "metadata": {},
   "outputs": [],
   "source": []
  },
  {
   "cell_type": "code",
   "execution_count": null,
   "metadata": {},
   "outputs": [],
   "source": []
  },
  {
   "cell_type": "code",
   "execution_count": null,
   "metadata": {},
   "outputs": [],
   "source": []
  },
  {
   "cell_type": "code",
   "execution_count": null,
   "metadata": {},
   "outputs": [],
   "source": []
  },
  {
   "cell_type": "code",
   "execution_count": null,
   "metadata": {},
   "outputs": [],
   "source": []
  },
  {
   "cell_type": "code",
   "execution_count": 77,
   "metadata": {},
   "outputs": [],
   "source": [
    "start_index = int((pd.DataFrame(data=consumer_price_index.iloc[:, 0:1].values)[0]) \\\n",
    "                      [pd.DataFrame(data=consumer_price_index.iloc[:, 0:1].values)[0] == 'январь'].index[0])\n",
    "\n",
    "# получение кол-ва лет с текущим до 2014\n",
    "number_years = int(datetime.now().year) - 2013\n",
    "\n",
    "# получение значений индексов по месячно и по годам\n",
    "table_index = (consumer_price_index.iloc[:, -number_years:].loc[start_index:(start_index + 11)]).reset_index(\n",
    "    drop=True)\n",
    "# замена названий в таблице\n",
    "table_index.columns = [int(_) for _ in range(number_years)]\n",
    "# составление списка индексов\n",
    "list_index = (pd.concat([table_index[_] for _ in range(number_years)])).reset_index(drop=True).dropna()\n",
    "# вычитание из индексов 100 и фильтр от новых к старым 2014 года\n",
    "list_index = list_index.subtract(pd.Series(100, index=range(len(list_index))))[::-1]\n",
    "# последовательное прибавление предыдущих значений\n",
    "list_index = pd.Series([round(sum(list_index[:(i + 1)]), 4) for i in range(len(list_index))])\n",
    "# прибавление ко всем значеним 100\n",
    "list_index = list_index.subtract(pd.Series(-100, index=range(len(list_index))))\n",
    "# деление всех значений на 100\n",
    "list_index = round(list_index/pd.Series([100] * len(list_index)), 4)\n",
    "# получение списка месяцев и лет\n",
    "u = []\n",
    "# m = ('01', '02', '03', '04', '05', '06', '07', '08', '09', '10', '11', '12')\n",
    "m = ('1', '2', '3', '4', '5', '6', '7', '8', '9', '10', '11', '12')\n",
    "y = [str(_) for _ in range(2014, 2014 + number_years, 1)]\n",
    "for j in y:\n",
    "    for x in m: u.append(x + '_' + j)\n",
    "u = pd.Series(u[:len(list_index)][::-1])\n",
    "\n",
    "if datetime.strptime(u[0], '%m_%Y').month < current_date.month:\n",
    "    number_months = current_date.month - datetime.strptime(u[0], '%m_%Y').month\n",
    "    month = current_date.strftime(\"%m\").replace('0', '')\n",
    "    u = pd.concat([pd.Series([tt.strftime(\"%m\").replace('0', '') + tt.strftime(\"_%Y\") for tt in\n",
    "                    [(current_date - pd.DateOffset(months=m)) for m in range(number_months)]]), u]).reset_index(drop=True)\n",
    "    list_index = pd.concat([pd.Series([1]*number_months), list_index]).reset_index(drop=True)\n",
    "data = dict(zip(u, list_index))"
   ]
  },
  {
   "cell_type": "code",
   "execution_count": 78,
   "metadata": {},
   "outputs": [
    {
     "data": {
      "text/plain": [
       "{'9_2023': 1.0,\n",
       " '8_2023': 1.0028,\n",
       " '7_2023': 1.0091,\n",
       " '6_2023': 1.0128,\n",
       " '5_2023': 1.0159,\n",
       " '4_2023': 1.0197,\n",
       " '3_2023': 1.0234,\n",
       " '2_2023': 1.028,\n",
       " '1_2023': 1.0364,\n",
       " '12_2022': 1.0442,\n",
       " '11_2022': 1.0479,\n",
       " '10_2022': 1.0497,\n",
       " '9_2022': 1.0502,\n",
       " '8_2022': 1.045,\n",
       " '7_2022': 1.0411,\n",
       " '6_2022': 1.0376,\n",
       " '5_2022': 1.0388,\n",
       " '4_2022': 1.0544,\n",
       " '3_2022': 1.1305,\n",
       " '2_2022': 1.1422,\n",
       " '1_2022': 1.1521,\n",
       " '12_2021': 1.1603,\n",
       " '11_2021': 1.1699,\n",
       " '10_2021': 1.181,\n",
       " '9_2021': 1.187,\n",
       " '8_2021': 1.1887,\n",
       " '7_2021': 1.1918,\n",
       " '6_2021': 1.1987,\n",
       " '5_2021': 1.2061,\n",
       " '4_2021': 1.2119,\n",
       " '3_2021': 1.2185,\n",
       " '2_2021': 1.2263,\n",
       " '1_2021': 1.233,\n",
       " '12_2020': 1.2413,\n",
       " '11_2020': 1.2484,\n",
       " '10_2020': 1.2527,\n",
       " '9_2020': 1.252,\n",
       " '8_2020': 1.2516,\n",
       " '7_2020': 1.2551,\n",
       " '6_2020': 1.2573,\n",
       " '5_2020': 1.26,\n",
       " '4_2020': 1.2683,\n",
       " '3_2020': 1.2738,\n",
       " '2_2020': 1.2771,\n",
       " '1_2020': 1.2811,\n",
       " '12_2019': 1.2847,\n",
       " '11_2019': 1.2875,\n",
       " '10_2019': 1.2888,\n",
       " '9_2019': 1.2872,\n",
       " '8_2019': 1.2848,\n",
       " '7_2019': 1.2868,\n",
       " '6_2019': 1.2872,\n",
       " '5_2019': 1.2906,\n",
       " '4_2019': 1.2935,\n",
       " '3_2019': 1.2967,\n",
       " '2_2019': 1.3011,\n",
       " '1_2019': 1.3112,\n",
       " '12_2018': 1.3196,\n",
       " '11_2018': 1.3246,\n",
       " '10_2018': 1.3281,\n",
       " '9_2018': 1.3297,\n",
       " '8_2018': 1.3298,\n",
       " '7_2018': 1.3325,\n",
       " '6_2018': 1.3374,\n",
       " '5_2018': 1.3412,\n",
       " '4_2018': 1.345,\n",
       " '3_2018': 1.3479,\n",
       " '2_2018': 1.35,\n",
       " '1_2018': 1.3531,\n",
       " '12_2017': 1.3573,\n",
       " '11_2017': 1.3595,\n",
       " '10_2017': 1.3615,\n",
       " '9_2017': 1.36,\n",
       " '8_2017': 1.3546,\n",
       " '7_2017': 1.3553,\n",
       " '6_2017': 1.3614,\n",
       " '5_2017': 1.3651,\n",
       " '4_2017': 1.3684,\n",
       " '3_2017': 1.3697,\n",
       " '2_2017': 1.3719,\n",
       " '1_2017': 1.3781,\n",
       " '12_2016': 1.3821,\n",
       " '11_2016': 1.3865,\n",
       " '10_2016': 1.3908,\n",
       " '9_2016': 1.3925,\n",
       " '8_2016': 1.3926,\n",
       " '7_2016': 1.398,\n",
       " '6_2016': 1.4016,\n",
       " '5_2016': 1.4057,\n",
       " '4_2016': 1.4101,\n",
       " '3_2016': 1.4147,\n",
       " '2_2016': 1.421,\n",
       " '1_2016': 1.4306,\n",
       " '12_2015': 1.4383,\n",
       " '11_2015': 1.4458,\n",
       " '10_2015': 1.4532,\n",
       " '9_2015': 1.4589,\n",
       " '8_2015': 1.4624,\n",
       " '7_2015': 1.4704,\n",
       " '6_2015': 1.4723,\n",
       " '5_2015': 1.4758,\n",
       " '4_2015': 1.4804,\n",
       " '3_2015': 1.4925,\n",
       " '2_2015': 1.5147,\n",
       " '1_2015': 1.5532,\n",
       " '12_2014': 1.5794,\n",
       " '11_2014': 1.5922,\n",
       " '10_2014': 1.6004,\n",
       " '9_2014': 1.6069,\n",
       " '8_2014': 1.6093,\n",
       " '7_2014': 1.6142,\n",
       " '6_2014': 1.6204,\n",
       " '5_2014': 1.6294,\n",
       " '4_2014': 1.6384,\n",
       " '3_2014': 1.6486,\n",
       " '2_2014': 1.6556,\n",
       " '1_2014': 1.6615}"
      ]
     },
     "execution_count": 78,
     "metadata": {},
     "output_type": "execute_result"
    }
   ],
   "source": [
    "data"
   ]
  },
  {
   "cell_type": "code",
   "execution_count": null,
   "metadata": {},
   "outputs": [],
   "source": [
    "df = {\"date\": u,\n",
    "        \"list_index\": list_index}\n",
    "df = pd.concat(df, axis=1)\n",
    "print(\"Таблица с данными по контракту\")\n",
    "df.to_excel(r'D:\\Documents\\eis_contract\\prob\\my_index.xlsx', index=False)"
   ]
  },
  {
   "cell_type": "code",
   "execution_count": null,
   "metadata": {},
   "outputs": [],
   "source": []
  },
  {
   "cell_type": "code",
   "execution_count": null,
   "metadata": {},
   "outputs": [],
   "source": []
  },
  {
   "cell_type": "code",
   "execution_count": null,
   "metadata": {},
   "outputs": [],
   "source": []
  },
  {
   "cell_type": "code",
   "execution_count": null,
   "metadata": {},
   "outputs": [],
   "source": []
  },
  {
   "cell_type": "code",
   "execution_count": null,
   "metadata": {},
   "outputs": [],
   "source": []
  },
  {
   "cell_type": "code",
   "execution_count": null,
   "metadata": {},
   "outputs": [],
   "source": []
  },
  {
   "cell_type": "code",
   "execution_count": null,
   "metadata": {},
   "outputs": [],
   "source": []
  },
  {
   "cell_type": "code",
   "execution_count": null,
   "metadata": {},
   "outputs": [],
   "source": []
  },
  {
   "cell_type": "code",
   "execution_count": null,
   "metadata": {},
   "outputs": [],
   "source": []
  },
  {
   "cell_type": "code",
   "execution_count": null,
   "metadata": {},
   "outputs": [],
   "source": []
  },
  {
   "cell_type": "code",
   "execution_count": null,
   "metadata": {},
   "outputs": [],
   "source": []
  },
  {
   "cell_type": "code",
   "execution_count": null,
   "metadata": {},
   "outputs": [],
   "source": []
  },
  {
   "cell_type": "code",
   "execution_count": 30,
   "metadata": {},
   "outputs": [
    {
     "ename": "AttributeError",
     "evalue": "ResultSet object has no attribute 'find_all'. You're probably treating a list of elements like a single element. Did you call find_all() when you meant to call find()?",
     "output_type": "error",
     "traceback": [
      "\u001b[1;31m---------------------------------------------------------------------------\u001b[0m",
      "\u001b[1;31mAttributeError\u001b[0m                            Traceback (most recent call last)",
      "Input \u001b[1;32mIn [30]\u001b[0m, in \u001b[0;36m<cell line: 1>\u001b[1;34m()\u001b[0m\n\u001b[1;32m----> 1\u001b[0m \u001b[43mregistry_entries_list\u001b[49m\u001b[38;5;241;43m.\u001b[39;49m\u001b[43mfind_all\u001b[49m(\u001b[38;5;124m'\u001b[39m\u001b[38;5;124mdiv\u001b[39m\u001b[38;5;124m'\u001b[39m, {\u001b[38;5;124m'\u001b[39m\u001b[38;5;124mclass\u001b[39m\u001b[38;5;124m'\u001b[39m: [\u001b[38;5;124m'\u001b[39m\u001b[38;5;124mbtn btn-icon btn-white btn-br btn-sm\u001b[39m\u001b[38;5;124m'\u001b[39m]})\n",
      "File \u001b[1;32mD:\\Programs\\Python3\\lib\\site-packages\\bs4\\element.py:2289\u001b[0m, in \u001b[0;36mResultSet.__getattr__\u001b[1;34m(self, key)\u001b[0m\n\u001b[0;32m   2287\u001b[0m \u001b[38;5;28;01mdef\u001b[39;00m \u001b[38;5;21m__getattr__\u001b[39m(\u001b[38;5;28mself\u001b[39m, key):\n\u001b[0;32m   2288\u001b[0m     \u001b[38;5;124;03m\"\"\"Raise a helpful exception to explain a common code fix.\"\"\"\u001b[39;00m\n\u001b[1;32m-> 2289\u001b[0m     \u001b[38;5;28;01mraise\u001b[39;00m \u001b[38;5;167;01mAttributeError\u001b[39;00m(\n\u001b[0;32m   2290\u001b[0m         \u001b[38;5;124m\"\u001b[39m\u001b[38;5;124mResultSet object has no attribute \u001b[39m\u001b[38;5;124m'\u001b[39m\u001b[38;5;132;01m%s\u001b[39;00m\u001b[38;5;124m'\u001b[39m\u001b[38;5;124m. You\u001b[39m\u001b[38;5;124m'\u001b[39m\u001b[38;5;124mre probably treating a list of elements like a single element. Did you call find_all() when you meant to call find()?\u001b[39m\u001b[38;5;124m\"\u001b[39m \u001b[38;5;241m%\u001b[39m key\n\u001b[0;32m   2291\u001b[0m     )\n",
      "\u001b[1;31mAttributeError\u001b[0m: ResultSet object has no attribute 'find_all'. You're probably treating a list of elements like a single element. Did you call find_all() when you meant to call find()?"
     ]
    }
   ],
   "source": [
    "registry_entries_list.find_all('div', {'class': ['btn btn-icon btn-white btn-br btn-sm']})"
   ]
  },
  {
   "cell_type": "code",
   "execution_count": 13,
   "metadata": {},
   "outputs": [
    {
     "ename": "AttributeError",
     "evalue": "ResultSet object has no attribute 'parent'. You're probably treating a list of elements like a single element. Did you call find_all() when you meant to call find()?",
     "output_type": "error",
     "traceback": [
      "\u001b[1;31m---------------------------------------------------------------------------\u001b[0m",
      "\u001b[1;31mAttributeError\u001b[0m                            Traceback (most recent call last)",
      "Input \u001b[1;32mIn [13]\u001b[0m, in \u001b[0;36m<cell line: 1>\u001b[1;34m()\u001b[0m\n\u001b[1;32m----> 1\u001b[0m table_execution_сontract \u001b[38;5;241m=\u001b[39m pd\u001b[38;5;241m.\u001b[39mread_html((\u001b[43m(\u001b[49m\u001b[43mregistry_entries_list\u001b[49m\u001b[43m)\u001b[49m\u001b[38;5;241;43m.\u001b[39;49m\u001b[43mparent\u001b[49m\u001b[38;5;241m.\u001b[39mfind_next_siblings()[\u001b[38;5;241m0\u001b[39m])\u001b[38;5;241m.\u001b[39mprettify(),\n\u001b[0;32m      2\u001b[0m                                             skiprows\u001b[38;5;241m=\u001b[39m\u001b[38;5;241m0\u001b[39m)[\u001b[38;5;241m0\u001b[39m]\n",
      "File \u001b[1;32mD:\\Programs\\Python3\\lib\\site-packages\\bs4\\element.py:2289\u001b[0m, in \u001b[0;36mResultSet.__getattr__\u001b[1;34m(self, key)\u001b[0m\n\u001b[0;32m   2287\u001b[0m \u001b[38;5;28;01mdef\u001b[39;00m \u001b[38;5;21m__getattr__\u001b[39m(\u001b[38;5;28mself\u001b[39m, key):\n\u001b[0;32m   2288\u001b[0m     \u001b[38;5;124;03m\"\"\"Raise a helpful exception to explain a common code fix.\"\"\"\u001b[39;00m\n\u001b[1;32m-> 2289\u001b[0m     \u001b[38;5;28;01mraise\u001b[39;00m \u001b[38;5;167;01mAttributeError\u001b[39;00m(\n\u001b[0;32m   2290\u001b[0m         \u001b[38;5;124m\"\u001b[39m\u001b[38;5;124mResultSet object has no attribute \u001b[39m\u001b[38;5;124m'\u001b[39m\u001b[38;5;132;01m%s\u001b[39;00m\u001b[38;5;124m'\u001b[39m\u001b[38;5;124m. You\u001b[39m\u001b[38;5;124m'\u001b[39m\u001b[38;5;124mre probably treating a list of elements like a single element. Did you call find_all() when you meant to call find()?\u001b[39m\u001b[38;5;124m\"\u001b[39m \u001b[38;5;241m%\u001b[39m key\n\u001b[0;32m   2291\u001b[0m     )\n",
      "\u001b[1;31mAttributeError\u001b[0m: ResultSet object has no attribute 'parent'. You're probably treating a list of elements like a single element. Did you call find_all() when you meant to call find()?"
     ]
    }
   ],
   "source": [
    "table_execution_сontract = pd.read_html(((registry_entries_list).parent.find_next_siblings()[0]).prettify(),\n",
    "                                            skiprows=0)[0]"
   ]
  },
  {
   "cell_type": "code",
   "execution_count": null,
   "metadata": {},
   "outputs": [],
   "source": []
  },
  {
   "cell_type": "code",
   "execution_count": null,
   "metadata": {},
   "outputs": [],
   "source": []
  },
  {
   "cell_type": "code",
   "execution_count": null,
   "metadata": {},
   "outputs": [],
   "source": []
  },
  {
   "cell_type": "code",
   "execution_count": null,
   "metadata": {},
   "outputs": [],
   "source": [
    "consumer_price_index = pd.read_excel('https://rosstat.gov.ru/storage/mediabank/Ipc_mes-6.xlsx',\n",
    "                                         sheet_name='01').reset_index(drop=True)"
   ]
  },
  {
   "cell_type": "code",
   "execution_count": null,
   "metadata": {},
   "outputs": [],
   "source": []
  },
  {
   "cell_type": "code",
   "execution_count": null,
   "metadata": {},
   "outputs": [],
   "source": []
  },
  {
   "cell_type": "code",
   "execution_count": null,
   "metadata": {},
   "outputs": [],
   "source": []
  },
  {
   "cell_type": "code",
   "execution_count": null,
   "metadata": {},
   "outputs": [],
   "source": []
  },
  {
   "cell_type": "code",
   "execution_count": null,
   "metadata": {},
   "outputs": [],
   "source": []
  },
  {
   "cell_type": "code",
   "execution_count": null,
   "metadata": {},
   "outputs": [],
   "source": []
  },
  {
   "cell_type": "code",
   "execution_count": null,
   "metadata": {},
   "outputs": [],
   "source": []
  },
  {
   "cell_type": "code",
   "execution_count": null,
   "metadata": {},
   "outputs": [],
   "source": []
  },
  {
   "cell_type": "code",
   "execution_count": null,
   "metadata": {},
   "outputs": [],
   "source": []
  },
  {
   "cell_type": "code",
   "execution_count": null,
   "metadata": {},
   "outputs": [],
   "source": []
  },
  {
   "cell_type": "code",
   "execution_count": null,
   "metadata": {},
   "outputs": [],
   "source": []
  },
  {
   "cell_type": "code",
   "execution_count": null,
   "metadata": {},
   "outputs": [],
   "source": []
  },
  {
   "cell_type": "code",
   "execution_count": null,
   "metadata": {},
   "outputs": [],
   "source": [
    "   start_index = int((pd.DataFrame(data=consumer_price_index.iloc[:, 0:1].values)[0]) \\\n",
    "                          [pd.DataFrame(data=consumer_price_index.iloc[:, 0:1].values)[0] == 'январь'].index[0])\n",
    "\n",
    "    # получение кол-ва лет с текущим до 2014\n",
    "    number_years = int(datetime.now().year) - 2013\n",
    "\n",
    "    # получение значений индексов по месячно и по годам\n",
    "    table_index = (consumer_price_index.iloc[:, -number_years:].loc[start_index:(start_index + 11)]).reset_index(\n",
    "        drop=True)\n",
    "    # замена названий в таблице\n",
    "    table_index.columns = [int(_) for _ in range(number_years)]\n",
    "    # составление списка индексов\n",
    "    list_index = (pd.concat([table_index[_] for _ in range(number_years)])).reset_index(drop=True).dropna()\n",
    "    # вычитание из индексов 100 и фильтр от новых к старым 2014 года\n",
    "    list_index = list_index.subtract(pd.Series(100, index=range(len(list_index))))[::-1]\n",
    "    # последовательное прибавление предыдущих значений\n",
    "    list_index = pd.Series([round(sum(list_index[:(i + 1)]), 4) for i in range(len(list_index))])\n",
    "    # прибавление ко всем значеним 100\n",
    "    list_index = list_index.subtract(pd.Series(-100, index=range(len(list_index))))\n",
    "    # деление всех значений на 100\n",
    "    list_index = round(list_index/pd.Series([100] * len(list_index)), 4)\n",
    "    # получение списка месяцев и лет\n",
    "    u = []\n",
    "    # m = ('01', '02', '03', '04', '05', '06', '07', '08', '09', '10', '11', '12')\n",
    "    m = ('1', '2', '3', '4', '5', '6', '7', '8', '9', '10', '11', '12')\n",
    "    y = [str(_) for _ in range(2014, 2014 + number_years, 1)]\n",
    "    for j in y:\n",
    "        for x in m: u.append(x + '_' + j)\n",
    "    u = pd.Series(u[:len(list_index)][::-1])\n",
    "\n",
    "    if datetime.strptime(u[0], '%m_%Y').month < current_date.month:\n",
    "        number_months = current_date.month - datetime.strptime(u[0], '%m_%Y').month\n",
    "        month = current_date.strftime(\"%m\").replace('0', '')\n",
    "        u = pd.concat([pd.Series([tt.strftime(\"%m\").replace('0', '') + tt.strftime(\"_%Y\") for tt in\n",
    "                        [(current_date - pd.DateOffset(months=m)) for m in range(number_months)]]), u]).reset_index(drop=True)\n",
    "        list_index = pd.concat([pd.Series([1]*number_months), list_index]).reset_index(drop=True)\n",
    "    data = dict(zip(u, list_index))\n",
    "    df = {\"date\": u,\n",
    "            \"list_index\": list_index}\n",
    "    df = pd.concat(df, axis=1)\n",
    "    print(\"Таблица с данными по контракту\")\n",
    "    df.to_excel(r'D:\\Documents\\eis_contract\\prob\\my_index.xlsx', index=False)"
   ]
  },
  {
   "cell_type": "code",
   "execution_count": null,
   "metadata": {},
   "outputs": [],
   "source": []
  },
  {
   "cell_type": "code",
   "execution_count": null,
   "metadata": {},
   "outputs": [],
   "source": []
  },
  {
   "cell_type": "code",
   "execution_count": null,
   "metadata": {},
   "outputs": [],
   "source": []
  },
  {
   "cell_type": "code",
   "execution_count": null,
   "metadata": {},
   "outputs": [],
   "source": []
  },
  {
   "cell_type": "code",
   "execution_count": null,
   "metadata": {},
   "outputs": [],
   "source": []
  },
  {
   "cell_type": "code",
   "execution_count": 1,
   "metadata": {
    "colab": {
     "base_uri": "https://localhost:8080/"
    },
    "id": "TFLjK7ROc3jE",
    "outputId": "a9872461-665f-4302-d616-453beeef29a3"
   },
   "outputs": [],
   "source": [
    "LOCAL_DATA_PATH_TRAIN = 'D:/data/2023.04.14/train.csv'\n",
    "LOCAL_DATA_PATH_TEST = 'D:/data/2023.04.14/test.csv'"
   ]
  },
  {
   "cell_type": "markdown",
   "metadata": {
    "id": "8u-60_4Pml3k"
   },
   "source": [
    "##import"
   ]
  },
  {
   "cell_type": "code",
   "execution_count": 2,
   "metadata": {
    "id": "9fjFACF8mkSc"
   },
   "outputs": [],
   "source": [
    "#общие\n",
    "import pandas as pd\n",
    "import numpy as np\n",
    "import matplotlib.pyplot as plt\n",
    "import seaborn as sns\n",
    "import datetime\n",
    "\n",
    "#ML \n",
    "from sklearn.linear_model import LinearRegression #лдинейная регрессия\n",
    "from sklearn.model_selection import train_test_split, GridSearchCV, cross_val_score, RepeatedKFold \n",
    "from sklearn.preprocessing import StandardScaler\n",
    "from sklearn.neighbors import KNeighborsRegressor  #регрессия на основе метода ближайших соседей\n",
    "from sklearn.ensemble import GradientBoostingRegressor, StackingRegressor \n",
    "from sklearn.svm import SVR\n",
    "from sklearn import preprocessing\n",
    "from sklearn.linear_model import LogisticRegression\n",
    "\n",
    "#metrics\n",
    "from sklearn.metrics import mean_absolute_error, mean_absolute_percentage_error, mean_squared_error\n",
    "\n",
    "sns.set_style('darkgrid')"
   ]
  },
  {
   "cell_type": "markdown",
   "metadata": {
    "id": "MjCQC1vnnd_U"
   },
   "source": [
    "##работа с данными"
   ]
  },
  {
   "cell_type": "code",
   "execution_count": 3,
   "metadata": {
    "colab": {
     "base_uri": "https://localhost:8080/",
     "height": 678
    },
    "id": "KHAnzYDynf67",
    "outputId": "14dee65a-a511-4237-8285-5cc9c0b779da"
   },
   "outputs": [
    {
     "data": {
      "text/html": [
       "<div>\n",
       "<style scoped>\n",
       "    .dataframe tbody tr th:only-of-type {\n",
       "        vertical-align: middle;\n",
       "    }\n",
       "\n",
       "    .dataframe tbody tr th {\n",
       "        vertical-align: top;\n",
       "    }\n",
       "\n",
       "    .dataframe thead th {\n",
       "        text-align: right;\n",
       "    }\n",
       "</style>\n",
       "<table border=\"1\" class=\"dataframe\">\n",
       "  <thead>\n",
       "    <tr style=\"text-align: right;\">\n",
       "      <th></th>\n",
       "      <th>row_id</th>\n",
       "      <th>user_id</th>\n",
       "      <th>timestamp</th>\n",
       "      <th>gate_id</th>\n",
       "    </tr>\n",
       "  </thead>\n",
       "  <tbody>\n",
       "    <tr>\n",
       "      <th>0</th>\n",
       "      <td>0</td>\n",
       "      <td>18</td>\n",
       "      <td>2022-07-29 09:08:54</td>\n",
       "      <td>7</td>\n",
       "    </tr>\n",
       "    <tr>\n",
       "      <th>1</th>\n",
       "      <td>1</td>\n",
       "      <td>18</td>\n",
       "      <td>2022-07-29 09:09:54</td>\n",
       "      <td>9</td>\n",
       "    </tr>\n",
       "    <tr>\n",
       "      <th>2</th>\n",
       "      <td>2</td>\n",
       "      <td>18</td>\n",
       "      <td>2022-07-29 09:09:54</td>\n",
       "      <td>9</td>\n",
       "    </tr>\n",
       "    <tr>\n",
       "      <th>3</th>\n",
       "      <td>3</td>\n",
       "      <td>18</td>\n",
       "      <td>2022-07-29 09:10:06</td>\n",
       "      <td>5</td>\n",
       "    </tr>\n",
       "    <tr>\n",
       "      <th>4</th>\n",
       "      <td>4</td>\n",
       "      <td>18</td>\n",
       "      <td>2022-07-29 09:10:08</td>\n",
       "      <td>5</td>\n",
       "    </tr>\n",
       "  </tbody>\n",
       "</table>\n",
       "</div>"
      ],
      "text/plain": [
       "   row_id  user_id            timestamp  gate_id\n",
       "0       0       18  2022-07-29 09:08:54        7\n",
       "1       1       18  2022-07-29 09:09:54        9\n",
       "2       2       18  2022-07-29 09:09:54        9\n",
       "3       3       18  2022-07-29 09:10:06        5\n",
       "4       4       18  2022-07-29 09:10:08        5"
      ]
     },
     "execution_count": 3,
     "metadata": {},
     "output_type": "execute_result"
    }
   ],
   "source": [
    "data = pd.read_csv(LOCAL_DATA_PATH_TRAIN) #, index_col = 0\n",
    "data.head()"
   ]
  },
  {
   "cell_type": "markdown",
   "metadata": {
    "id": "ngNKstRwoNdM"
   },
   "source": [
    "##Смотрим что загрузилось"
   ]
  },
  {
   "cell_type": "code",
   "execution_count": 5,
   "metadata": {
    "colab": {
     "base_uri": "https://localhost:8080/"
    },
    "id": "dyACaMxGoQzG",
    "outputId": "1be357d7-ca44-42a3-ee3c-2eb9739e0213"
   },
   "outputs": [
    {
     "name": "stdout",
     "output_type": "stream",
     "text": [
      "<class 'pandas.core.frame.DataFrame'>\n",
      "RangeIndex: 37518 entries, 0 to 37517\n",
      "Data columns (total 4 columns):\n",
      " #   Column     Non-Null Count  Dtype \n",
      "---  ------     --------------  ----- \n",
      " 0   row_id     37518 non-null  int64 \n",
      " 1   user_id    37518 non-null  int64 \n",
      " 2   timestamp  37518 non-null  object\n",
      " 3   gate_id    37518 non-null  int64 \n",
      "dtypes: int64(3), object(1)\n",
      "memory usage: 1.1+ MB\n"
     ]
    }
   ],
   "source": [
    "data.info()"
   ]
  },
  {
   "cell_type": "code",
   "execution_count": 6,
   "metadata": {
    "colab": {
     "base_uri": "https://localhost:8080/"
    },
    "id": "p2ux1faCofvt",
    "outputId": "58e2d35e-1f39-45a7-f349-632bd5d35d02"
   },
   "outputs": [
    {
     "data": {
      "text/plain": [
       "(37518, 4)"
      ]
     },
     "execution_count": 6,
     "metadata": {},
     "output_type": "execute_result"
    }
   ],
   "source": [
    "data.shape"
   ]
  },
  {
   "cell_type": "markdown",
   "metadata": {
    "id": "6ewkSN9HopdT"
   },
   "source": [
    "###смотрим пропуски"
   ]
  },
  {
   "cell_type": "code",
   "execution_count": 7,
   "metadata": {
    "colab": {
     "base_uri": "https://localhost:8080/"
    },
    "id": "EMbfWNzfoq8A",
    "outputId": "30db86e1-6d52-4d68-97d5-e84fa2c9b1ed"
   },
   "outputs": [
    {
     "data": {
      "image/png": "[encoded data removed]",
      "text/plain": [
       "<Figure size 432x288 with 1 Axes>"
      ]
     },
     "metadata": {
      "needs_background": "light"
     },
     "output_type": "display_data"
    }
   ],
   "source": [
    "sns.heatmap(data.isna(), cmap = 'viridis', cbar = False)\n",
    "plt.show()"
   ]
  },
  {
   "cell_type": "code",
   "execution_count": 8,
   "metadata": {
    "colab": {
     "base_uri": "https://localhost:8080/"
    },
    "id": "AIMCXL-MpEYY",
    "outputId": "67caf936-a1bc-4196-b27b-f13e881f9295"
   },
   "outputs": [
    {
     "data": {
      "text/plain": [
       "2022-10-20 16:31:33    4\n",
       "2022-09-19 19:05:22    3\n",
       "2022-10-24 14:23:28    3\n",
       "2022-12-08 09:14:24    3\n",
       "2022-09-21 13:53:08    3\n",
       "                      ..\n",
       "2022-09-08 09:34:54    1\n",
       "2022-09-08 09:34:20    1\n",
       "2022-09-08 09:33:59    1\n",
       "2022-09-08 09:33:57    1\n",
       "2022-09-28 20:23:17    1\n",
       "Name: timestamp, Length: 34068, dtype: int64"
      ]
     },
     "execution_count": 8,
     "metadata": {},
     "output_type": "execute_result"
    }
   ],
   "source": [
    "data['timestamp'].value_counts()"
   ]
  },
  {
   "cell_type": "markdown",
   "metadata": {
    "id": "RzZx24IvpPpY"
   },
   "source": [
    "###Заменяем Not available на NaN"
   ]
  },
  {
   "cell_type": "code",
   "execution_count": null,
   "metadata": {},
   "outputs": [],
   "source": []
  },
  {
   "cell_type": "code",
   "execution_count": null,
   "metadata": {},
   "outputs": [],
   "source": []
  },
  {
   "cell_type": "code",
   "execution_count": null,
   "metadata": {},
   "outputs": [],
   "source": []
  },
  {
   "cell_type": "code",
   "execution_count": null,
   "metadata": {},
   "outputs": [],
   "source": []
  },
  {
   "cell_type": "markdown",
   "metadata": {
    "id": "-tbgxyW2qCuZ"
   },
   "source": [
    "###пробуем преобразовать признаки во float"
   ]
  },
  {
   "cell_type": "code",
   "execution_count": null,
   "metadata": {
    "colab": {
     "base_uri": "https://localhost:8080/"
    },
    "id": "Q7A0fm8uqICf",
    "outputId": "98ef275b-bd50-4c59-b89f-6c937a52f3c5"
   },
   "outputs": [
    {
     "name": "stdout",
     "output_type": "stream",
     "text": [
      "УСПЕШНОЕ преобразование для :  Property Id\n",
      "ОШИБКА преобразования для :  Property Name\n",
      "ОШИБКА преобразования для :  Parent Property Id\n",
      "ОШИБКА преобразования для :  Parent Property Name\n",
      "ОШИБКА преобразования для :  BBL - 10 digits\n",
      "ОШИБКА преобразования для :  NYC Borough, Block and Lot (BBL) self-reported\n",
      "ОШИБКА преобразования для :  NYC Building Identification Number (BIN)\n",
      "ОШИБКА преобразования для :  Address 1 (self-reported)\n",
      "ОШИБКА преобразования для :  Address 2\n",
      "ОШИБКА преобразования для :  Postal Code\n",
      "ОШИБКА преобразования для :  Street Number\n",
      "ОШИБКА преобразования для :  Street Name\n",
      "ОШИБКА преобразования для :  Borough\n",
      "УСПЕШНОЕ преобразование для :  DOF Gross Floor Area\n",
      "ОШИБКА преобразования для :  Primary Property Type - Self Selected\n",
      "ОШИБКА преобразования для :  List of All Property Use Types at Property\n",
      "ОШИБКА преобразования для :  Largest Property Use Type\n",
      "УСПЕШНОЕ преобразование для :  Largest Property Use Type - Gross Floor Area (ft²)\n",
      "ОШИБКА преобразования для :  2nd Largest Property Use Type\n",
      "УСПЕШНОЕ преобразование для :  2nd Largest Property Use - Gross Floor Area (ft²)\n",
      "ОШИБКА преобразования для :  3rd Largest Property Use Type\n",
      "УСПЕШНОЕ преобразование для :  3rd Largest Property Use Type - Gross Floor Area (ft²)\n",
      "УСПЕШНОЕ преобразование для :  Year Built\n",
      "УСПЕШНОЕ преобразование для :  Number of Buildings - Self-reported\n",
      "УСПЕШНОЕ преобразование для :  Occupancy\n",
      "ОШИБКА преобразования для :  Metered Areas (Energy)\n",
      "ОШИБКА преобразования для :  Metered Areas  (Water)\n",
      "УСПЕШНОЕ преобразование для :  ENERGY STAR Score\n",
      "УСПЕШНОЕ преобразование для :  Site EUI (kBtu/ft²)\n",
      "УСПЕШНОЕ преобразование для :  Weather Normalized Site EUI (kBtu/ft²)\n",
      "УСПЕШНОЕ преобразование для :  Weather Normalized Site Electricity Intensity (kWh/ft²)\n",
      "УСПЕШНОЕ преобразование для :  Weather Normalized Site Natural Gas Intensity (therms/ft²)\n",
      "УСПЕШНОЕ преобразование для :  Weather Normalized Source EUI (kBtu/ft²)\n",
      "УСПЕШНОЕ преобразование для :  Fuel Oil #1 Use (kBtu)\n",
      "УСПЕШНОЕ преобразование для :  Fuel Oil #2 Use (kBtu)\n",
      "УСПЕШНОЕ преобразование для :  Fuel Oil #4 Use (kBtu)\n",
      "УСПЕШНОЕ преобразование для :  Fuel Oil #5 & 6 Use (kBtu)\n",
      "УСПЕШНОЕ преобразование для :  Diesel #2 Use (kBtu)\n",
      "УСПЕШНОЕ преобразование для :  District Steam Use (kBtu)\n",
      "УСПЕШНОЕ преобразование для :  Natural Gas Use (kBtu)\n",
      "УСПЕШНОЕ преобразование для :  Weather Normalized Site Natural Gas Use (therms)\n",
      "УСПЕШНОЕ преобразование для :  Electricity Use - Grid Purchase (kBtu)\n",
      "УСПЕШНОЕ преобразование для :  Weather Normalized Site Electricity (kWh)\n",
      "УСПЕШНОЕ преобразование для :  Total GHG Emissions (Metric Tons CO2e)\n",
      "УСПЕШНОЕ преобразование для :  Direct GHG Emissions (Metric Tons CO2e)\n",
      "УСПЕШНОЕ преобразование для :  Indirect GHG Emissions (Metric Tons CO2e)\n",
      "УСПЕШНОЕ преобразование для :  Property GFA - Self-Reported (ft²)\n",
      "УСПЕШНОЕ преобразование для :  Water Use (All Water Sources) (kgal)\n",
      "УСПЕШНОЕ преобразование для :  Water Intensity (All Water Sources) (gal/ft²)\n",
      "УСПЕШНОЕ преобразование для :  Source EUI (kBtu/ft²)\n",
      "ОШИБКА преобразования для :  Release Date\n",
      "ОШИБКА преобразования для :  Water Required?\n",
      "ОШИБКА преобразования для :  DOF Benchmarking Submission Status\n",
      "УСПЕШНОЕ преобразование для :  Latitude\n",
      "УСПЕШНОЕ преобразование для :  Longitude\n",
      "УСПЕШНОЕ преобразование для :  Community Board\n",
      "УСПЕШНОЕ преобразование для :  Council District\n",
      "УСПЕШНОЕ преобразование для :  Census Tract\n",
      "ОШИБКА преобразования для :  NTA\n"
     ]
    }
   ],
   "source": [
    "for col in data.columns.to_list():\n",
    "  try:\n",
    "    data[col] = data[col].astype('float64')\n",
    "    print('УСПЕШНОЕ преобразование для : ', col )\n",
    "  except:\n",
    "    print('ОШИБКА преобразования для : ', col )"
   ]
  },
  {
   "cell_type": "code",
   "execution_count": 4,
   "metadata": {
    "colab": {
     "base_uri": "https://localhost:8080/"
    },
    "id": "7bMjPYpurFBD",
    "outputId": "429474e9-9f3d-42d6-bef0-f529a0e3743a"
   },
   "outputs": [
    {
     "name": "stdout",
     "output_type": "stream",
     "text": [
      "<class 'pandas.core.frame.DataFrame'>\n",
      "RangeIndex: 37518 entries, 0 to 37517\n",
      "Data columns (total 4 columns):\n",
      " #   Column     Non-Null Count  Dtype \n",
      "---  ------     --------------  ----- \n",
      " 0   row_id     37518 non-null  int64 \n",
      " 1   user_id    37518 non-null  int64 \n",
      " 2   timestamp  37518 non-null  object\n",
      " 3   gate_id    37518 non-null  int64 \n",
      "dtypes: int64(3), object(1)\n",
      "memory usage: 1.1+ MB\n"
     ]
    }
   ],
   "source": [
    "data.info()"
   ]
  },
  {
   "cell_type": "markdown",
   "metadata": {
    "id": "nJOi2r0arUPO"
   },
   "source": [
    "##Обработка пропусков"
   ]
  },
  {
   "cell_type": "code",
   "execution_count": 9,
   "metadata": {
    "id": "bUdfjs5brW0Z"
   },
   "outputs": [],
   "source": [
    "#функция принимает датафрейм и возвращает датафрейм с пропусками с сорнтировкой по убыванию\n",
    "def get_missing_values(df):\n",
    "  #всего пропусков\n",
    "  mis_val = df.isna().sum()\n",
    "  #считаем в прцоентах\n",
    "  mis_val_percents = df.isna().sum() / df.shape[0] * 100\n",
    "  #объединение пропусков\n",
    "  mis_val_table = pd.concat([mis_val, mis_val_percents], axis = 1)\n",
    "\n",
    "  #создаём датафрейм\n",
    "  mis_val_df = mis_val_table.rename(columns = {0 : 'кол-во пропусков', \n",
    "                                               1 : '% пропусков'})\n",
    "  mis_val_df_sorted = mis_val_df[mis_val_df.iloc[:, 1] != 0 ].sort_values('% пропусков',\n",
    "                                                                          ascending = False)\n",
    "  #выводим статистику\n",
    "\n",
    "  print(f'Датасет содержит : {df.shape[1]} колонок')\n",
    "  print(f'из них {mis_val_df_sorted.shape[0]} колонок имеют пропуски')\n",
    "  \n",
    "  return mis_val_df_sorted"
   ]
  },
  {
   "cell_type": "code",
   "execution_count": 10,
   "metadata": {
    "colab": {
     "base_uri": "https://localhost:8080/"
    },
    "id": "86vOEq6GtTrF",
    "outputId": "705accf7-27ab-4ad7-8c61-9ccbe7190d01"
   },
   "outputs": [
    {
     "name": "stdout",
     "output_type": "stream",
     "text": [
      "Датасет содержит : 4 колонок\n",
      "из них 0 колонок имеют пропуски\n"
     ]
    },
    {
     "data": {
      "text/html": [
       "<div>\n",
       "<style scoped>\n",
       "    .dataframe tbody tr th:only-of-type {\n",
       "        vertical-align: middle;\n",
       "    }\n",
       "\n",
       "    .dataframe tbody tr th {\n",
       "        vertical-align: top;\n",
       "    }\n",
       "\n",
       "    .dataframe thead th {\n",
       "        text-align: right;\n",
       "    }\n",
       "</style>\n",
       "<table border=\"1\" class=\"dataframe\">\n",
       "  <thead>\n",
       "    <tr style=\"text-align: right;\">\n",
       "      <th></th>\n",
       "      <th>кол-во пропусков</th>\n",
       "      <th>% пропусков</th>\n",
       "    </tr>\n",
       "  </thead>\n",
       "  <tbody>\n",
       "  </tbody>\n",
       "</table>\n",
       "</div>"
      ],
      "text/plain": [
       "Empty DataFrame\n",
       "Columns: [кол-во пропусков, % пропусков]\n",
       "Index: []"
      ]
     },
     "execution_count": 10,
     "metadata": {},
     "output_type": "execute_result"
    }
   ],
   "source": [
    "get_missing_values(data)"
   ]
  },
  {
   "cell_type": "markdown",
   "metadata": {
    "id": "yCP03WOquUGV"
   },
   "source": [
    "###удаляем признаким с пропусками"
   ]
  },
  {
   "cell_type": "markdown",
   "metadata": {
    "id": "3WgaOpdsv9Jh"
   },
   "source": [
    "##изучаем целевую переменную\n"
   ]
  },
  {
   "cell_type": "markdown",
   "metadata": {},
   "source": [
    "row_id\tuser_id\ttimestamp\tgate_id"
   ]
  },
  {
   "cell_type": "code",
   "execution_count": 11,
   "metadata": {
    "colab": {
     "base_uri": "https://localhost:8080/"
    },
    "id": "2xTZ6-2ov_e1",
    "outputId": "f7891f86-60a1-4847-e627-88647f9b90a4"
   },
   "outputs": [
    {
     "data": {
      "text/plain": [
       "0        1\n",
       "25023    1\n",
       "25007    1\n",
       "25008    1\n",
       "25009    1\n",
       "        ..\n",
       "12507    1\n",
       "12508    1\n",
       "12509    1\n",
       "12510    1\n",
       "37517    1\n",
       "Name: row_id, Length: 37518, dtype: int64"
      ]
     },
     "execution_count": 11,
     "metadata": {},
     "output_type": "execute_result"
    }
   ],
   "source": [
    "data['row_id'].value_counts()"
   ]
  },
  {
   "cell_type": "code",
   "execution_count": 13,
   "metadata": {
    "colab": {
     "base_uri": "https://localhost:8080/"
    },
    "id": "w1FDKRqZwH8V",
    "outputId": "6ba4a21a-a0a5-41e5-ed0e-874a74b819ac"
   },
   "outputs": [
    {
     "data": {
      "text/plain": [
       "<AxesSubplot:>"
      ]
     },
     "execution_count": 13,
     "metadata": {},
     "output_type": "execute_result"
    },
    {
     "data": {
      "image/png": "[encoded data removed]",
      "text/plain": [
       "<Figure size 432x288 with 1 Axes>"
      ]
     },
     "metadata": {
      "needs_background": "light"
     },
     "output_type": "display_data"
    }
   ],
   "source": [
    "data['user_id'].hist()"
   ]
  },
  {
   "cell_type": "code",
   "execution_count": 15,
   "metadata": {},
   "outputs": [
    {
     "data": {
      "text/plain": [
       "<AxesSubplot:>"
      ]
     },
     "execution_count": 15,
     "metadata": {},
     "output_type": "execute_result"
    },
    {
     "data": {
      "image/png": "[encoded data removed]",
      "text/plain": [
       "<Figure size 432x288 with 1 Axes>"
      ]
     },
     "metadata": {
      "needs_background": "light"
     },
     "output_type": "display_data"
    }
   ],
   "source": [
    "data['gate_id'].hist()"
   ]
  },
  {
   "cell_type": "code",
   "execution_count": 16,
   "metadata": {
    "colab": {
     "base_uri": "https://localhost:8080/"
    },
    "id": "-l8NzPOIwTZ8",
    "outputId": "dedf183e-919d-458c-8408-9a592cbdb2ef"
   },
   "outputs": [
    {
     "data": {
      "text/plain": [
       "0.0"
      ]
     },
     "execution_count": 16,
     "metadata": {},
     "output_type": "execute_result"
    }
   ],
   "source": [
    "data['gate_id'].isna().sum() / data.shape[0] * 100"
   ]
  },
  {
   "cell_type": "code",
   "execution_count": 25,
   "metadata": {},
   "outputs": [
    {
     "data": {
      "text/plain": [
       "'07'"
      ]
     },
     "execution_count": 25,
     "metadata": {},
     "output_type": "execute_result"
    }
   ],
   "source": [
    "data['timestamp'][0][5:7]"
   ]
  },
  {
   "cell_type": "code",
   "execution_count": 46,
   "metadata": {},
   "outputs": [
    {
     "data": {
      "text/plain": [
       "'2022-07-29 09:08:54'"
      ]
     },
     "execution_count": 46,
     "metadata": {},
     "output_type": "execute_result"
    }
   ],
   "source": [
    "data['timestamp'][0]"
   ]
  },
  {
   "cell_type": "code",
   "execution_count": 48,
   "metadata": {},
   "outputs": [
    {
     "data": {
      "text/plain": [
       "datetime.datetime(2022, 7, 29, 9, 8, 54)"
      ]
     },
     "execution_count": 48,
     "metadata": {},
     "output_type": "execute_result"
    }
   ],
   "source": [
    "# datetime.datetime.strptime(data['timestamp'][0], '%Y-%m-%d %H:%M:%S.%f')\n",
    "datetime.datetime.strptime(data['timestamp'][0], '%Y-%m-%d %H:%M:%S')"
   ]
  },
  {
   "cell_type": "markdown",
   "metadata": {},
   "source": [
    "'2022-07-29 09:08:54'"
   ]
  },
  {
   "cell_type": "code",
   "execution_count": 8,
   "metadata": {},
   "outputs": [],
   "source": [
    "data['date_time'] = [datetime.datetime.strptime(i, '%Y-%m-%d %H:%M:%S') for i in data['timestamp']]"
   ]
  },
  {
   "cell_type": "code",
   "execution_count": 13,
   "metadata": {},
   "outputs": [],
   "source": [
    "data['weekday'] = [i.weekday() for i in data['date_time']]"
   ]
  },
  {
   "cell_type": "code",
   "execution_count": 46,
   "metadata": {},
   "outputs": [],
   "source": [
    "data['weekday_worker'] = [i.weekday() for i in data['date_time']]"
   ]
  },
  {
   "cell_type": "code",
   "execution_count": 49,
   "metadata": {},
   "outputs": [],
   "source": [
    "# Замена значение на определенное\n",
    "data.loc[(data['weekday_worker'] < 5 ), (2)] = int(0)\n",
    "data.loc[(data['weekday_worker'] > 5 ), (2)] = int(1)"
   ]
  },
  {
   "cell_type": "code",
   "execution_count": 5,
   "metadata": {},
   "outputs": [],
   "source": [
    "# data['year'] = [int(i[0:4]) for i in data['timestamp']]\n",
    "# data['month'] = [int(i[5:7]) for i in data['timestamp']]\n",
    "data['date_month'] = [int(i[8:10]) for i in data['timestamp']]\n",
    "data['hour'] = [int(i[11:13]) for i in data['timestamp']]\n",
    "data['minutes'] = [int(i[14:16]) for i in data['timestamp']]"
   ]
  },
  {
   "cell_type": "code",
   "execution_count": 50,
   "metadata": {},
   "outputs": [
    {
     "data": {
      "text/html": [
       "<div>\n",
       "<style scoped>\n",
       "    .dataframe tbody tr th:only-of-type {\n",
       "        vertical-align: middle;\n",
       "    }\n",
       "\n",
       "    .dataframe tbody tr th {\n",
       "        vertical-align: top;\n",
       "    }\n",
       "\n",
       "    .dataframe thead th {\n",
       "        text-align: right;\n",
       "    }\n",
       "</style>\n",
       "<table border=\"1\" class=\"dataframe\">\n",
       "  <thead>\n",
       "    <tr style=\"text-align: right;\">\n",
       "      <th></th>\n",
       "      <th>row_id</th>\n",
       "      <th>user_id</th>\n",
       "      <th>timestamp</th>\n",
       "      <th>gate_id</th>\n",
       "      <th>year</th>\n",
       "      <th>month</th>\n",
       "      <th>date_month</th>\n",
       "      <th>hour</th>\n",
       "      <th>minutes</th>\n",
       "      <th>date_time</th>\n",
       "      <th>weekday</th>\n",
       "      <th>weekday_worker</th>\n",
       "      <th>2</th>\n",
       "    </tr>\n",
       "  </thead>\n",
       "  <tbody>\n",
       "    <tr>\n",
       "      <th>0</th>\n",
       "      <td>0</td>\n",
       "      <td>18</td>\n",
       "      <td>2022-07-29 09:08:54</td>\n",
       "      <td>7</td>\n",
       "      <td>2022</td>\n",
       "      <td>7</td>\n",
       "      <td>29</td>\n",
       "      <td>9</td>\n",
       "      <td>8</td>\n",
       "      <td>2022-07-29 09:08:54</td>\n",
       "      <td>4</td>\n",
       "      <td>4</td>\n",
       "      <td>0.0</td>\n",
       "    </tr>\n",
       "    <tr>\n",
       "      <th>1</th>\n",
       "      <td>1</td>\n",
       "      <td>18</td>\n",
       "      <td>2022-07-29 09:09:54</td>\n",
       "      <td>9</td>\n",
       "      <td>2022</td>\n",
       "      <td>7</td>\n",
       "      <td>29</td>\n",
       "      <td>9</td>\n",
       "      <td>9</td>\n",
       "      <td>2022-07-29 09:09:54</td>\n",
       "      <td>4</td>\n",
       "      <td>4</td>\n",
       "      <td>0.0</td>\n",
       "    </tr>\n",
       "    <tr>\n",
       "      <th>2</th>\n",
       "      <td>2</td>\n",
       "      <td>18</td>\n",
       "      <td>2022-07-29 09:09:54</td>\n",
       "      <td>9</td>\n",
       "      <td>2022</td>\n",
       "      <td>7</td>\n",
       "      <td>29</td>\n",
       "      <td>9</td>\n",
       "      <td>9</td>\n",
       "      <td>2022-07-29 09:09:54</td>\n",
       "      <td>4</td>\n",
       "      <td>4</td>\n",
       "      <td>0.0</td>\n",
       "    </tr>\n",
       "    <tr>\n",
       "      <th>3</th>\n",
       "      <td>3</td>\n",
       "      <td>18</td>\n",
       "      <td>2022-07-29 09:10:06</td>\n",
       "      <td>5</td>\n",
       "      <td>2022</td>\n",
       "      <td>7</td>\n",
       "      <td>29</td>\n",
       "      <td>9</td>\n",
       "      <td>10</td>\n",
       "      <td>2022-07-29 09:10:06</td>\n",
       "      <td>4</td>\n",
       "      <td>4</td>\n",
       "      <td>0.0</td>\n",
       "    </tr>\n",
       "    <tr>\n",
       "      <th>4</th>\n",
       "      <td>4</td>\n",
       "      <td>18</td>\n",
       "      <td>2022-07-29 09:10:08</td>\n",
       "      <td>5</td>\n",
       "      <td>2022</td>\n",
       "      <td>7</td>\n",
       "      <td>29</td>\n",
       "      <td>9</td>\n",
       "      <td>10</td>\n",
       "      <td>2022-07-29 09:10:08</td>\n",
       "      <td>4</td>\n",
       "      <td>4</td>\n",
       "      <td>0.0</td>\n",
       "    </tr>\n",
       "  </tbody>\n",
       "</table>\n",
       "</div>"
      ],
      "text/plain": [
       "   row_id  user_id            timestamp  gate_id  year  month  date_month  \\\n",
       "0       0       18  2022-07-29 09:08:54        7  2022      7          29   \n",
       "1       1       18  2022-07-29 09:09:54        9  2022      7          29   \n",
       "2       2       18  2022-07-29 09:09:54        9  2022      7          29   \n",
       "3       3       18  2022-07-29 09:10:06        5  2022      7          29   \n",
       "4       4       18  2022-07-29 09:10:08        5  2022      7          29   \n",
       "\n",
       "   hour  minutes           date_time  weekday  weekday_worker    2  \n",
       "0     9        8 2022-07-29 09:08:54        4               4  0.0  \n",
       "1     9        9 2022-07-29 09:09:54        4               4  0.0  \n",
       "2     9        9 2022-07-29 09:09:54        4               4  0.0  \n",
       "3     9       10 2022-07-29 09:10:06        4               4  0.0  \n",
       "4     9       10 2022-07-29 09:10:08        4               4  0.0  "
      ]
     },
     "execution_count": 50,
     "metadata": {},
     "output_type": "execute_result"
    }
   ],
   "source": [
    "data.head()"
   ]
  },
  {
   "cell_type": "code",
   "execution_count": 42,
   "metadata": {},
   "outputs": [
    {
     "data": {
      "text/plain": [
       "<AxesSubplot:>"
      ]
     },
     "execution_count": 42,
     "metadata": {},
     "output_type": "execute_result"
    },
    {
     "data": {
      "image/png": "[encoded data removed]",
      "text/plain": [
       "<Figure size 432x288 with 1 Axes>"
      ]
     },
     "metadata": {
      "needs_background": "light"
     },
     "output_type": "display_data"
    }
   ],
   "source": [
    "data['month'].hist()"
   ]
  },
  {
   "cell_type": "code",
   "execution_count": 43,
   "metadata": {},
   "outputs": [
    {
     "data": {
      "text/plain": [
       "<AxesSubplot:>"
      ]
     },
     "execution_count": 43,
     "metadata": {},
     "output_type": "execute_result"
    },
    {
     "data": {
      "image/png": "[encoded data removed]",
      "text/plain": [
       "<Figure size 432x288 with 1 Axes>"
      ]
     },
     "metadata": {
      "needs_background": "light"
     },
     "output_type": "display_data"
    }
   ],
   "source": [
    "data['date_month'].hist()"
   ]
  },
  {
   "cell_type": "code",
   "execution_count": 44,
   "metadata": {},
   "outputs": [
    {
     "data": {
      "text/plain": [
       "<AxesSubplot:>"
      ]
     },
     "execution_count": 44,
     "metadata": {},
     "output_type": "execute_result"
    },
    {
     "data": {
      "image/png": "[encoded data removed]",
      "text/plain": [
       "<Figure size 432x288 with 1 Axes>"
      ]
     },
     "metadata": {
      "needs_background": "light"
     },
     "output_type": "display_data"
    }
   ],
   "source": [
    "data['hour'].hist()"
   ]
  },
  {
   "cell_type": "code",
   "execution_count": 34,
   "metadata": {},
   "outputs": [
    {
     "data": {
      "text/plain": [
       "<AxesSubplot:>"
      ]
     },
     "execution_count": 34,
     "metadata": {},
     "output_type": "execute_result"
    },
    {
     "data": {
      "image/png": "[encoded data removed]",
      "text/plain": [
       "<Figure size 432x288 with 1 Axes>"
      ]
     },
     "metadata": {
      "needs_background": "light"
     },
     "output_type": "display_data"
    }
   ],
   "source": [
    "data['weekday'].hist()"
   ]
  },
  {
   "cell_type": "code",
   "execution_count": 51,
   "metadata": {},
   "outputs": [
    {
     "data": {
      "text/plain": [
       "37    2262\n",
       "55    2238\n",
       "6     2013\n",
       "12    1953\n",
       "19    1793\n",
       "15    1756\n",
       "18    1578\n",
       "47    1341\n",
       "53    1311\n",
       "1     1299\n",
       "33    1285\n",
       "11    1281\n",
       "49    1275\n",
       "0     1250\n",
       "39    1144\n",
       "32    1076\n",
       "54    1070\n",
       "9     1034\n",
       "50     994\n",
       "29     990\n",
       "3      989\n",
       "48     743\n",
       "14     696\n",
       "17     677\n",
       "27     603\n",
       "35     601\n",
       "46     502\n",
       "57     497\n",
       "24     416\n",
       "42     359\n",
       "26     316\n",
       "34     284\n",
       "23     261\n",
       "25     247\n",
       "40     242\n",
       "31     191\n",
       "56     137\n",
       "41     124\n",
       "43     124\n",
       "20     115\n",
       "22      96\n",
       "28      64\n",
       "45      57\n",
       "7       49\n",
       "36      48\n",
       "2       39\n",
       "8       29\n",
       "10      17\n",
       "38      13\n",
       "5       10\n",
       "30      10\n",
       "52       5\n",
       "21       5\n",
       "44       4\n",
       "51       3\n",
       "4        2\n",
       "Name: user_id, dtype: int64"
      ]
     },
     "execution_count": 51,
     "metadata": {},
     "output_type": "execute_result"
    }
   ],
   "source": [
    "data['user_id'].value_counts()"
   ]
  },
  {
   "cell_type": "code",
   "execution_count": 55,
   "metadata": {},
   "outputs": [
    {
     "data": {
      "text/plain": [
       "8     10639\n",
       "9      8394\n",
       "10     7238\n",
       "12     6642\n",
       "11     4042\n",
       "7       563\n",
       "Name: month, dtype: int64"
      ]
     },
     "execution_count": 55,
     "metadata": {},
     "output_type": "execute_result"
    }
   ],
   "source": [
    "data['month'].value_counts()"
   ]
  },
  {
   "cell_type": "code",
   "execution_count": 56,
   "metadata": {},
   "outputs": [
    {
     "data": {
      "text/plain": [
       "5     1850\n",
       "29    1758\n",
       "2     1525\n",
       "26    1476\n",
       "1     1468\n",
       "19    1447\n",
       "22    1421\n",
       "30    1391\n",
       "16    1335\n",
       "7     1329\n",
       "21    1304\n",
       "15    1303\n",
       "9     1294\n",
       "23    1267\n",
       "8     1226\n",
       "3     1181\n",
       "4     1151\n",
       "12    1134\n",
       "18    1108\n",
       "24    1103\n",
       "28    1103\n",
       "17    1101\n",
       "27    1029\n",
       "13    1024\n",
       "20    1017\n",
       "14    1008\n",
       "6      965\n",
       "10     934\n",
       "11     790\n",
       "25     747\n",
       "31     729\n",
       "Name: date_month, dtype: int64"
      ]
     },
     "execution_count": 56,
     "metadata": {},
     "output_type": "execute_result"
    }
   ],
   "source": [
    "data['date_month'].value_counts()"
   ]
  },
  {
   "cell_type": "code",
   "execution_count": 59,
   "metadata": {},
   "outputs": [
    {
     "data": {
      "text/plain": [
       "Timedelta('0 days 00:01:00')"
      ]
     },
     "execution_count": 59,
     "metadata": {},
     "output_type": "execute_result"
    }
   ],
   "source": [
    "data['date_time'][1] - data['date_time'][0]"
   ]
  },
  {
   "cell_type": "code",
   "execution_count": 11,
   "metadata": {},
   "outputs": [
    {
     "data": {
      "text/plain": [
       "4"
      ]
     },
     "execution_count": 11,
     "metadata": {},
     "output_type": "execute_result"
    }
   ],
   "source": [
    "data['date_time'][1].weekday()"
   ]
  },
  {
   "cell_type": "code",
   "execution_count": 10,
   "metadata": {},
   "outputs": [
    {
     "data": {
      "text/plain": [
       "Timestamp('2022-07-29 09:09:54')"
      ]
     },
     "execution_count": 10,
     "metadata": {},
     "output_type": "execute_result"
    }
   ],
   "source": [
    "data['date_time'][1]"
   ]
  },
  {
   "cell_type": "code",
   "execution_count": 23,
   "metadata": {
    "scrolled": true
   },
   "outputs": [
    {
     "data": {
      "text/html": [
       "<div>\n",
       "<style scoped>\n",
       "    .dataframe tbody tr th:only-of-type {\n",
       "        vertical-align: middle;\n",
       "    }\n",
       "\n",
       "    .dataframe tbody tr th {\n",
       "        vertical-align: top;\n",
       "    }\n",
       "\n",
       "    .dataframe thead th {\n",
       "        text-align: right;\n",
       "    }\n",
       "</style>\n",
       "<table border=\"1\" class=\"dataframe\">\n",
       "  <thead>\n",
       "    <tr style=\"text-align: right;\">\n",
       "      <th></th>\n",
       "      <th>row_id</th>\n",
       "      <th>user_id</th>\n",
       "      <th>timestamp</th>\n",
       "      <th>gate_id</th>\n",
       "      <th>year</th>\n",
       "      <th>month</th>\n",
       "      <th>date_month</th>\n",
       "      <th>hour</th>\n",
       "      <th>minutes</th>\n",
       "      <th>date_time</th>\n",
       "      <th>weekday</th>\n",
       "    </tr>\n",
       "  </thead>\n",
       "  <tbody>\n",
       "    <tr>\n",
       "      <th>27630</th>\n",
       "      <td>27630</td>\n",
       "      <td>17</td>\n",
       "      <td>2022-11-04 09:20:52</td>\n",
       "      <td>9</td>\n",
       "      <td>2022</td>\n",
       "      <td>11</td>\n",
       "      <td>4</td>\n",
       "      <td>9</td>\n",
       "      <td>20</td>\n",
       "      <td>2022-11-04 09:20:52</td>\n",
       "      <td>4</td>\n",
       "    </tr>\n",
       "    <tr>\n",
       "      <th>27631</th>\n",
       "      <td>27631</td>\n",
       "      <td>17</td>\n",
       "      <td>2022-11-04 09:20:52</td>\n",
       "      <td>9</td>\n",
       "      <td>2022</td>\n",
       "      <td>11</td>\n",
       "      <td>4</td>\n",
       "      <td>9</td>\n",
       "      <td>20</td>\n",
       "      <td>2022-11-04 09:20:52</td>\n",
       "      <td>4</td>\n",
       "    </tr>\n",
       "    <tr>\n",
       "      <th>27632</th>\n",
       "      <td>27632</td>\n",
       "      <td>17</td>\n",
       "      <td>2022-11-04 09:21:04</td>\n",
       "      <td>5</td>\n",
       "      <td>2022</td>\n",
       "      <td>11</td>\n",
       "      <td>4</td>\n",
       "      <td>9</td>\n",
       "      <td>21</td>\n",
       "      <td>2022-11-04 09:21:04</td>\n",
       "      <td>4</td>\n",
       "    </tr>\n",
       "    <tr>\n",
       "      <th>27633</th>\n",
       "      <td>27633</td>\n",
       "      <td>17</td>\n",
       "      <td>2022-11-04 09:21:06</td>\n",
       "      <td>5</td>\n",
       "      <td>2022</td>\n",
       "      <td>11</td>\n",
       "      <td>4</td>\n",
       "      <td>9</td>\n",
       "      <td>21</td>\n",
       "      <td>2022-11-04 09:21:06</td>\n",
       "      <td>4</td>\n",
       "    </tr>\n",
       "    <tr>\n",
       "      <th>27634</th>\n",
       "      <td>27634</td>\n",
       "      <td>17</td>\n",
       "      <td>2022-11-04 09:21:21</td>\n",
       "      <td>10</td>\n",
       "      <td>2022</td>\n",
       "      <td>11</td>\n",
       "      <td>4</td>\n",
       "      <td>9</td>\n",
       "      <td>21</td>\n",
       "      <td>2022-11-04 09:21:21</td>\n",
       "      <td>4</td>\n",
       "    </tr>\n",
       "    <tr>\n",
       "      <th>...</th>\n",
       "      <td>...</td>\n",
       "      <td>...</td>\n",
       "      <td>...</td>\n",
       "      <td>...</td>\n",
       "      <td>...</td>\n",
       "      <td>...</td>\n",
       "      <td>...</td>\n",
       "      <td>...</td>\n",
       "      <td>...</td>\n",
       "      <td>...</td>\n",
       "      <td>...</td>\n",
       "    </tr>\n",
       "    <tr>\n",
       "      <th>27877</th>\n",
       "      <td>27877</td>\n",
       "      <td>33</td>\n",
       "      <td>2022-11-04 20:50:26</td>\n",
       "      <td>11</td>\n",
       "      <td>2022</td>\n",
       "      <td>11</td>\n",
       "      <td>4</td>\n",
       "      <td>20</td>\n",
       "      <td>50</td>\n",
       "      <td>2022-11-04 20:50:26</td>\n",
       "      <td>4</td>\n",
       "    </tr>\n",
       "    <tr>\n",
       "      <th>27878</th>\n",
       "      <td>27878</td>\n",
       "      <td>33</td>\n",
       "      <td>2022-11-04 20:50:48</td>\n",
       "      <td>6</td>\n",
       "      <td>2022</td>\n",
       "      <td>11</td>\n",
       "      <td>4</td>\n",
       "      <td>20</td>\n",
       "      <td>50</td>\n",
       "      <td>2022-11-04 20:50:48</td>\n",
       "      <td>4</td>\n",
       "    </tr>\n",
       "    <tr>\n",
       "      <th>27879</th>\n",
       "      <td>27879</td>\n",
       "      <td>33</td>\n",
       "      <td>2022-11-04 20:50:49</td>\n",
       "      <td>6</td>\n",
       "      <td>2022</td>\n",
       "      <td>11</td>\n",
       "      <td>4</td>\n",
       "      <td>20</td>\n",
       "      <td>50</td>\n",
       "      <td>2022-11-04 20:50:49</td>\n",
       "      <td>4</td>\n",
       "    </tr>\n",
       "    <tr>\n",
       "      <th>27880</th>\n",
       "      <td>27880</td>\n",
       "      <td>33</td>\n",
       "      <td>2022-11-04 20:50:57</td>\n",
       "      <td>9</td>\n",
       "      <td>2022</td>\n",
       "      <td>11</td>\n",
       "      <td>4</td>\n",
       "      <td>20</td>\n",
       "      <td>50</td>\n",
       "      <td>2022-11-04 20:50:57</td>\n",
       "      <td>4</td>\n",
       "    </tr>\n",
       "    <tr>\n",
       "      <th>27881</th>\n",
       "      <td>27881</td>\n",
       "      <td>33</td>\n",
       "      <td>2022-11-04 20:50:57</td>\n",
       "      <td>9</td>\n",
       "      <td>2022</td>\n",
       "      <td>11</td>\n",
       "      <td>4</td>\n",
       "      <td>20</td>\n",
       "      <td>50</td>\n",
       "      <td>2022-11-04 20:50:57</td>\n",
       "      <td>4</td>\n",
       "    </tr>\n",
       "  </tbody>\n",
       "</table>\n",
       "<p>252 rows × 11 columns</p>\n",
       "</div>"
      ],
      "text/plain": [
       "       row_id  user_id            timestamp  gate_id  year  month  date_month  \\\n",
       "27630   27630       17  2022-11-04 09:20:52        9  2022     11           4   \n",
       "27631   27631       17  2022-11-04 09:20:52        9  2022     11           4   \n",
       "27632   27632       17  2022-11-04 09:21:04        5  2022     11           4   \n",
       "27633   27633       17  2022-11-04 09:21:06        5  2022     11           4   \n",
       "27634   27634       17  2022-11-04 09:21:21       10  2022     11           4   \n",
       "...       ...      ...                  ...      ...   ...    ...         ...   \n",
       "27877   27877       33  2022-11-04 20:50:26       11  2022     11           4   \n",
       "27878   27878       33  2022-11-04 20:50:48        6  2022     11           4   \n",
       "27879   27879       33  2022-11-04 20:50:49        6  2022     11           4   \n",
       "27880   27880       33  2022-11-04 20:50:57        9  2022     11           4   \n",
       "27881   27881       33  2022-11-04 20:50:57        9  2022     11           4   \n",
       "\n",
       "       hour  minutes           date_time  weekday  \n",
       "27630     9       20 2022-11-04 09:20:52        4  \n",
       "27631     9       20 2022-11-04 09:20:52        4  \n",
       "27632     9       21 2022-11-04 09:21:04        4  \n",
       "27633     9       21 2022-11-04 09:21:06        4  \n",
       "27634     9       21 2022-11-04 09:21:21        4  \n",
       "...     ...      ...                 ...      ...  \n",
       "27877    20       50 2022-11-04 20:50:26        4  \n",
       "27878    20       50 2022-11-04 20:50:48        4  \n",
       "27879    20       50 2022-11-04 20:50:49        4  \n",
       "27880    20       50 2022-11-04 20:50:57        4  \n",
       "27881    20       50 2022-11-04 20:50:57        4  \n",
       "\n",
       "[252 rows x 11 columns]"
      ]
     },
     "execution_count": 23,
     "metadata": {},
     "output_type": "execute_result"
    }
   ],
   "source": [
    "# Фильтруем по условию (оставляю только картофель)\n",
    "data.loc[data['timestamp'].str.contains(\"2022-11-04\")== True]"
   ]
  },
  {
   "cell_type": "code",
   "execution_count": 45,
   "metadata": {},
   "outputs": [
    {
     "data": {
      "text/html": [
       "<div>\n",
       "<style scoped>\n",
       "    .dataframe tbody tr th:only-of-type {\n",
       "        vertical-align: middle;\n",
       "    }\n",
       "\n",
       "    .dataframe tbody tr th {\n",
       "        vertical-align: top;\n",
       "    }\n",
       "\n",
       "    .dataframe thead th {\n",
       "        text-align: right;\n",
       "    }\n",
       "</style>\n",
       "<table border=\"1\" class=\"dataframe\">\n",
       "  <thead>\n",
       "    <tr style=\"text-align: right;\">\n",
       "      <th></th>\n",
       "      <th>row_id</th>\n",
       "      <th>user_id</th>\n",
       "      <th>timestamp</th>\n",
       "      <th>gate_id</th>\n",
       "      <th>year</th>\n",
       "      <th>month</th>\n",
       "      <th>date_month</th>\n",
       "      <th>hour</th>\n",
       "      <th>minutes</th>\n",
       "      <th>date_time</th>\n",
       "      <th>weekday</th>\n",
       "    </tr>\n",
       "  </thead>\n",
       "  <tbody>\n",
       "    <tr>\n",
       "      <th>28716</th>\n",
       "      <td>28716</td>\n",
       "      <td>26</td>\n",
       "      <td>2022-11-18 08:09:03</td>\n",
       "      <td>15</td>\n",
       "      <td>2022</td>\n",
       "      <td>11</td>\n",
       "      <td>18</td>\n",
       "      <td>8</td>\n",
       "      <td>9</td>\n",
       "      <td>2022-11-18 08:09:03</td>\n",
       "      <td>4</td>\n",
       "    </tr>\n",
       "    <tr>\n",
       "      <th>28717</th>\n",
       "      <td>28717</td>\n",
       "      <td>26</td>\n",
       "      <td>2022-11-18 08:13:30</td>\n",
       "      <td>15</td>\n",
       "      <td>2022</td>\n",
       "      <td>11</td>\n",
       "      <td>18</td>\n",
       "      <td>8</td>\n",
       "      <td>13</td>\n",
       "      <td>2022-11-18 08:13:30</td>\n",
       "      <td>4</td>\n",
       "    </tr>\n",
       "    <tr>\n",
       "      <th>28718</th>\n",
       "      <td>28718</td>\n",
       "      <td>3</td>\n",
       "      <td>2022-11-18 08:40:22</td>\n",
       "      <td>7</td>\n",
       "      <td>2022</td>\n",
       "      <td>11</td>\n",
       "      <td>18</td>\n",
       "      <td>8</td>\n",
       "      <td>40</td>\n",
       "      <td>2022-11-18 08:40:22</td>\n",
       "      <td>4</td>\n",
       "    </tr>\n",
       "    <tr>\n",
       "      <th>28719</th>\n",
       "      <td>28719</td>\n",
       "      <td>3</td>\n",
       "      <td>2022-11-18 08:41:20</td>\n",
       "      <td>9</td>\n",
       "      <td>2022</td>\n",
       "      <td>11</td>\n",
       "      <td>18</td>\n",
       "      <td>8</td>\n",
       "      <td>41</td>\n",
       "      <td>2022-11-18 08:41:20</td>\n",
       "      <td>4</td>\n",
       "    </tr>\n",
       "    <tr>\n",
       "      <th>28720</th>\n",
       "      <td>28720</td>\n",
       "      <td>3</td>\n",
       "      <td>2022-11-18 08:41:20</td>\n",
       "      <td>9</td>\n",
       "      <td>2022</td>\n",
       "      <td>11</td>\n",
       "      <td>18</td>\n",
       "      <td>8</td>\n",
       "      <td>41</td>\n",
       "      <td>2022-11-18 08:41:20</td>\n",
       "      <td>4</td>\n",
       "    </tr>\n",
       "    <tr>\n",
       "      <th>...</th>\n",
       "      <td>...</td>\n",
       "      <td>...</td>\n",
       "      <td>...</td>\n",
       "      <td>...</td>\n",
       "      <td>...</td>\n",
       "      <td>...</td>\n",
       "      <td>...</td>\n",
       "      <td>...</td>\n",
       "      <td>...</td>\n",
       "      <td>...</td>\n",
       "      <td>...</td>\n",
       "    </tr>\n",
       "    <tr>\n",
       "      <th>29003</th>\n",
       "      <td>29003</td>\n",
       "      <td>0</td>\n",
       "      <td>2022-11-18 21:29:26</td>\n",
       "      <td>4</td>\n",
       "      <td>2022</td>\n",
       "      <td>11</td>\n",
       "      <td>18</td>\n",
       "      <td>21</td>\n",
       "      <td>29</td>\n",
       "      <td>2022-11-18 21:29:26</td>\n",
       "      <td>4</td>\n",
       "    </tr>\n",
       "    <tr>\n",
       "      <th>29004</th>\n",
       "      <td>29004</td>\n",
       "      <td>0</td>\n",
       "      <td>2022-11-18 21:29:34</td>\n",
       "      <td>9</td>\n",
       "      <td>2022</td>\n",
       "      <td>11</td>\n",
       "      <td>18</td>\n",
       "      <td>21</td>\n",
       "      <td>29</td>\n",
       "      <td>2022-11-18 21:29:34</td>\n",
       "      <td>4</td>\n",
       "    </tr>\n",
       "    <tr>\n",
       "      <th>29005</th>\n",
       "      <td>29005</td>\n",
       "      <td>0</td>\n",
       "      <td>2022-11-18 21:29:34</td>\n",
       "      <td>9</td>\n",
       "      <td>2022</td>\n",
       "      <td>11</td>\n",
       "      <td>18</td>\n",
       "      <td>21</td>\n",
       "      <td>29</td>\n",
       "      <td>2022-11-18 21:29:34</td>\n",
       "      <td>4</td>\n",
       "    </tr>\n",
       "    <tr>\n",
       "      <th>29006</th>\n",
       "      <td>29006</td>\n",
       "      <td>57</td>\n",
       "      <td>2022-11-18 21:32:16</td>\n",
       "      <td>4</td>\n",
       "      <td>2022</td>\n",
       "      <td>11</td>\n",
       "      <td>18</td>\n",
       "      <td>21</td>\n",
       "      <td>32</td>\n",
       "      <td>2022-11-18 21:32:16</td>\n",
       "      <td>4</td>\n",
       "    </tr>\n",
       "    <tr>\n",
       "      <th>29007</th>\n",
       "      <td>29007</td>\n",
       "      <td>57</td>\n",
       "      <td>2022-11-18 21:32:17</td>\n",
       "      <td>4</td>\n",
       "      <td>2022</td>\n",
       "      <td>11</td>\n",
       "      <td>18</td>\n",
       "      <td>21</td>\n",
       "      <td>32</td>\n",
       "      <td>2022-11-18 21:32:17</td>\n",
       "      <td>4</td>\n",
       "    </tr>\n",
       "  </tbody>\n",
       "</table>\n",
       "<p>292 rows × 11 columns</p>\n",
       "</div>"
      ],
      "text/plain": [
       "       row_id  user_id            timestamp  gate_id  year  month  date_month  \\\n",
       "28716   28716       26  2022-11-18 08:09:03       15  2022     11          18   \n",
       "28717   28717       26  2022-11-18 08:13:30       15  2022     11          18   \n",
       "28718   28718        3  2022-11-18 08:40:22        7  2022     11          18   \n",
       "28719   28719        3  2022-11-18 08:41:20        9  2022     11          18   \n",
       "28720   28720        3  2022-11-18 08:41:20        9  2022     11          18   \n",
       "...       ...      ...                  ...      ...   ...    ...         ...   \n",
       "29003   29003        0  2022-11-18 21:29:26        4  2022     11          18   \n",
       "29004   29004        0  2022-11-18 21:29:34        9  2022     11          18   \n",
       "29005   29005        0  2022-11-18 21:29:34        9  2022     11          18   \n",
       "29006   29006       57  2022-11-18 21:32:16        4  2022     11          18   \n",
       "29007   29007       57  2022-11-18 21:32:17        4  2022     11          18   \n",
       "\n",
       "       hour  minutes           date_time  weekday  \n",
       "28716     8        9 2022-11-18 08:09:03        4  \n",
       "28717     8       13 2022-11-18 08:13:30        4  \n",
       "28718     8       40 2022-11-18 08:40:22        4  \n",
       "28719     8       41 2022-11-18 08:41:20        4  \n",
       "28720     8       41 2022-11-18 08:41:20        4  \n",
       "...     ...      ...                 ...      ...  \n",
       "29003    21       29 2022-11-18 21:29:26        4  \n",
       "29004    21       29 2022-11-18 21:29:34        4  \n",
       "29005    21       29 2022-11-18 21:29:34        4  \n",
       "29006    21       32 2022-11-18 21:32:16        4  \n",
       "29007    21       32 2022-11-18 21:32:17        4  \n",
       "\n",
       "[292 rows x 11 columns]"
      ]
     },
     "execution_count": 45,
     "metadata": {},
     "output_type": "execute_result"
    }
   ],
   "source": [
    "data.loc[data['timestamp'].str.contains(\"2022-11-18\")== True]"
   ]
  },
  {
   "cell_type": "code",
   "execution_count": 33,
   "metadata": {},
   "outputs": [
    {
     "data": {
      "text/html": [
       "<div>\n",
       "<style scoped>\n",
       "    .dataframe tbody tr th:only-of-type {\n",
       "        vertical-align: middle;\n",
       "    }\n",
       "\n",
       "    .dataframe tbody tr th {\n",
       "        vertical-align: top;\n",
       "    }\n",
       "\n",
       "    .dataframe thead th {\n",
       "        text-align: right;\n",
       "    }\n",
       "</style>\n",
       "<table border=\"1\" class=\"dataframe\">\n",
       "  <thead>\n",
       "    <tr style=\"text-align: right;\">\n",
       "      <th></th>\n",
       "      <th>row_id</th>\n",
       "      <th>user_id</th>\n",
       "      <th>timestamp</th>\n",
       "      <th>gate_id</th>\n",
       "      <th>year</th>\n",
       "      <th>month</th>\n",
       "      <th>date_month</th>\n",
       "      <th>hour</th>\n",
       "      <th>minutes</th>\n",
       "      <th>date_time</th>\n",
       "      <th>weekday</th>\n",
       "    </tr>\n",
       "  </thead>\n",
       "  <tbody>\n",
       "    <tr>\n",
       "      <th>0</th>\n",
       "      <td>0</td>\n",
       "      <td>18</td>\n",
       "      <td>2022-07-29 09:08:54</td>\n",
       "      <td>7</td>\n",
       "      <td>2022</td>\n",
       "      <td>7</td>\n",
       "      <td>29</td>\n",
       "      <td>9</td>\n",
       "      <td>8</td>\n",
       "      <td>2022-07-29 09:08:54</td>\n",
       "      <td>4</td>\n",
       "    </tr>\n",
       "    <tr>\n",
       "      <th>1</th>\n",
       "      <td>1</td>\n",
       "      <td>18</td>\n",
       "      <td>2022-07-29 09:09:54</td>\n",
       "      <td>9</td>\n",
       "      <td>2022</td>\n",
       "      <td>7</td>\n",
       "      <td>29</td>\n",
       "      <td>9</td>\n",
       "      <td>9</td>\n",
       "      <td>2022-07-29 09:09:54</td>\n",
       "      <td>4</td>\n",
       "    </tr>\n",
       "    <tr>\n",
       "      <th>2</th>\n",
       "      <td>2</td>\n",
       "      <td>18</td>\n",
       "      <td>2022-07-29 09:09:54</td>\n",
       "      <td>9</td>\n",
       "      <td>2022</td>\n",
       "      <td>7</td>\n",
       "      <td>29</td>\n",
       "      <td>9</td>\n",
       "      <td>9</td>\n",
       "      <td>2022-07-29 09:09:54</td>\n",
       "      <td>4</td>\n",
       "    </tr>\n",
       "    <tr>\n",
       "      <th>3</th>\n",
       "      <td>3</td>\n",
       "      <td>18</td>\n",
       "      <td>2022-07-29 09:10:06</td>\n",
       "      <td>5</td>\n",
       "      <td>2022</td>\n",
       "      <td>7</td>\n",
       "      <td>29</td>\n",
       "      <td>9</td>\n",
       "      <td>10</td>\n",
       "      <td>2022-07-29 09:10:06</td>\n",
       "      <td>4</td>\n",
       "    </tr>\n",
       "    <tr>\n",
       "      <th>4</th>\n",
       "      <td>4</td>\n",
       "      <td>18</td>\n",
       "      <td>2022-07-29 09:10:08</td>\n",
       "      <td>5</td>\n",
       "      <td>2022</td>\n",
       "      <td>7</td>\n",
       "      <td>29</td>\n",
       "      <td>9</td>\n",
       "      <td>10</td>\n",
       "      <td>2022-07-29 09:10:08</td>\n",
       "      <td>4</td>\n",
       "    </tr>\n",
       "    <tr>\n",
       "      <th>...</th>\n",
       "      <td>...</td>\n",
       "      <td>...</td>\n",
       "      <td>...</td>\n",
       "      <td>...</td>\n",
       "      <td>...</td>\n",
       "      <td>...</td>\n",
       "      <td>...</td>\n",
       "      <td>...</td>\n",
       "      <td>...</td>\n",
       "      <td>...</td>\n",
       "      <td>...</td>\n",
       "    </tr>\n",
       "    <tr>\n",
       "      <th>37513</th>\n",
       "      <td>37513</td>\n",
       "      <td>6</td>\n",
       "      <td>2022-12-31 20:38:56</td>\n",
       "      <td>11</td>\n",
       "      <td>2022</td>\n",
       "      <td>12</td>\n",
       "      <td>31</td>\n",
       "      <td>20</td>\n",
       "      <td>38</td>\n",
       "      <td>2022-12-31 20:38:56</td>\n",
       "      <td>5</td>\n",
       "    </tr>\n",
       "    <tr>\n",
       "      <th>37514</th>\n",
       "      <td>37514</td>\n",
       "      <td>6</td>\n",
       "      <td>2022-12-31 20:39:22</td>\n",
       "      <td>6</td>\n",
       "      <td>2022</td>\n",
       "      <td>12</td>\n",
       "      <td>31</td>\n",
       "      <td>20</td>\n",
       "      <td>39</td>\n",
       "      <td>2022-12-31 20:39:22</td>\n",
       "      <td>5</td>\n",
       "    </tr>\n",
       "    <tr>\n",
       "      <th>37515</th>\n",
       "      <td>37515</td>\n",
       "      <td>6</td>\n",
       "      <td>2022-12-31 20:39:23</td>\n",
       "      <td>6</td>\n",
       "      <td>2022</td>\n",
       "      <td>12</td>\n",
       "      <td>31</td>\n",
       "      <td>20</td>\n",
       "      <td>39</td>\n",
       "      <td>2022-12-31 20:39:23</td>\n",
       "      <td>5</td>\n",
       "    </tr>\n",
       "    <tr>\n",
       "      <th>37516</th>\n",
       "      <td>37516</td>\n",
       "      <td>6</td>\n",
       "      <td>2022-12-31 20:39:31</td>\n",
       "      <td>9</td>\n",
       "      <td>2022</td>\n",
       "      <td>12</td>\n",
       "      <td>31</td>\n",
       "      <td>20</td>\n",
       "      <td>39</td>\n",
       "      <td>2022-12-31 20:39:31</td>\n",
       "      <td>5</td>\n",
       "    </tr>\n",
       "    <tr>\n",
       "      <th>37517</th>\n",
       "      <td>37517</td>\n",
       "      <td>6</td>\n",
       "      <td>2022-12-31 20:39:31</td>\n",
       "      <td>9</td>\n",
       "      <td>2022</td>\n",
       "      <td>12</td>\n",
       "      <td>31</td>\n",
       "      <td>20</td>\n",
       "      <td>39</td>\n",
       "      <td>2022-12-31 20:39:31</td>\n",
       "      <td>5</td>\n",
       "    </tr>\n",
       "  </tbody>\n",
       "</table>\n",
       "<p>37233 rows × 11 columns</p>\n",
       "</div>"
      ],
      "text/plain": [
       "       row_id  user_id            timestamp  gate_id  year  month  date_month  \\\n",
       "0           0       18  2022-07-29 09:08:54        7  2022      7          29   \n",
       "1           1       18  2022-07-29 09:09:54        9  2022      7          29   \n",
       "2           2       18  2022-07-29 09:09:54        9  2022      7          29   \n",
       "3           3       18  2022-07-29 09:10:06        5  2022      7          29   \n",
       "4           4       18  2022-07-29 09:10:08        5  2022      7          29   \n",
       "...       ...      ...                  ...      ...   ...    ...         ...   \n",
       "37513   37513        6  2022-12-31 20:38:56       11  2022     12          31   \n",
       "37514   37514        6  2022-12-31 20:39:22        6  2022     12          31   \n",
       "37515   37515        6  2022-12-31 20:39:23        6  2022     12          31   \n",
       "37516   37516        6  2022-12-31 20:39:31        9  2022     12          31   \n",
       "37517   37517        6  2022-12-31 20:39:31        9  2022     12          31   \n",
       "\n",
       "       hour  minutes           date_time  weekday  \n",
       "0         9        8 2022-07-29 09:08:54        4  \n",
       "1         9        9 2022-07-29 09:09:54        4  \n",
       "2         9        9 2022-07-29 09:09:54        4  \n",
       "3         9       10 2022-07-29 09:10:06        4  \n",
       "4         9       10 2022-07-29 09:10:08        4  \n",
       "...     ...      ...                 ...      ...  \n",
       "37513    20       38 2022-12-31 20:38:56        5  \n",
       "37514    20       39 2022-12-31 20:39:22        5  \n",
       "37515    20       39 2022-12-31 20:39:23        5  \n",
       "37516    20       39 2022-12-31 20:39:31        5  \n",
       "37517    20       39 2022-12-31 20:39:31        5  \n",
       "\n",
       "[37233 rows x 11 columns]"
      ]
     },
     "execution_count": 33,
     "metadata": {},
     "output_type": "execute_result"
    }
   ],
   "source": [
    "data.loc[data['weekday'] < 6]"
   ]
  },
  {
   "cell_type": "code",
   "execution_count": null,
   "metadata": {},
   "outputs": [],
   "source": []
  },
  {
   "cell_type": "code",
   "execution_count": null,
   "metadata": {},
   "outputs": [],
   "source": []
  },
  {
   "cell_type": "code",
   "execution_count": null,
   "metadata": {},
   "outputs": [],
   "source": []
  },
  {
   "cell_type": "code",
   "execution_count": null,
   "metadata": {},
   "outputs": [],
   "source": []
  },
  {
   "cell_type": "code",
   "execution_count": null,
   "metadata": {},
   "outputs": [],
   "source": []
  },
  {
   "cell_type": "code",
   "execution_count": null,
   "metadata": {},
   "outputs": [],
   "source": []
  },
  {
   "cell_type": "code",
   "execution_count": null,
   "metadata": {},
   "outputs": [],
   "source": []
  },
  {
   "cell_type": "code",
   "execution_count": null,
   "metadata": {},
   "outputs": [],
   "source": []
  },
  {
   "cell_type": "code",
   "execution_count": null,
   "metadata": {},
   "outputs": [],
   "source": []
  },
  {
   "cell_type": "code",
   "execution_count": null,
   "metadata": {},
   "outputs": [],
   "source": []
  },
  {
   "cell_type": "code",
   "execution_count": null,
   "metadata": {},
   "outputs": [],
   "source": []
  },
  {
   "cell_type": "code",
   "execution_count": null,
   "metadata": {},
   "outputs": [],
   "source": []
  },
  {
   "cell_type": "code",
   "execution_count": null,
   "metadata": {},
   "outputs": [],
   "source": []
  },
  {
   "cell_type": "code",
   "execution_count": null,
   "metadata": {},
   "outputs": [],
   "source": []
  },
  {
   "cell_type": "code",
   "execution_count": null,
   "metadata": {},
   "outputs": [],
   "source": []
  },
  {
   "cell_type": "code",
   "execution_count": null,
   "metadata": {},
   "outputs": [],
   "source": []
  },
  {
   "cell_type": "code",
   "execution_count": null,
   "metadata": {},
   "outputs": [],
   "source": []
  },
  {
   "cell_type": "code",
   "execution_count": null,
   "metadata": {},
   "outputs": [],
   "source": []
  },
  {
   "cell_type": "code",
   "execution_count": null,
   "metadata": {},
   "outputs": [],
   "source": []
  },
  {
   "cell_type": "code",
   "execution_count": null,
   "metadata": {},
   "outputs": [],
   "source": []
  },
  {
   "cell_type": "code",
   "execution_count": null,
   "metadata": {},
   "outputs": [],
   "source": []
  },
  {
   "cell_type": "code",
   "execution_count": null,
   "metadata": {},
   "outputs": [],
   "source": []
  },
  {
   "cell_type": "code",
   "execution_count": null,
   "metadata": {},
   "outputs": [],
   "source": []
  },
  {
   "cell_type": "code",
   "execution_count": null,
   "metadata": {},
   "outputs": [],
   "source": []
  },
  {
   "cell_type": "code",
   "execution_count": null,
   "metadata": {},
   "outputs": [],
   "source": []
  },
  {
   "cell_type": "code",
   "execution_count": null,
   "metadata": {},
   "outputs": [],
   "source": []
  },
  {
   "cell_type": "code",
   "execution_count": null,
   "metadata": {},
   "outputs": [],
   "source": []
  },
  {
   "cell_type": "code",
   "execution_count": null,
   "metadata": {},
   "outputs": [],
   "source": []
  },
  {
   "cell_type": "code",
   "execution_count": null,
   "metadata": {},
   "outputs": [],
   "source": []
  },
  {
   "cell_type": "code",
   "execution_count": null,
   "metadata": {},
   "outputs": [],
   "source": []
  },
  {
   "cell_type": "code",
   "execution_count": null,
   "metadata": {},
   "outputs": [],
   "source": []
  },
  {
   "cell_type": "code",
   "execution_count": null,
   "metadata": {},
   "outputs": [],
   "source": []
  },
  {
   "cell_type": "code",
   "execution_count": null,
   "metadata": {},
   "outputs": [],
   "source": []
  },
  {
   "cell_type": "code",
   "execution_count": null,
   "metadata": {},
   "outputs": [],
   "source": []
  },
  {
   "cell_type": "code",
   "execution_count": null,
   "metadata": {},
   "outputs": [],
   "source": []
  },
  {
   "cell_type": "code",
   "execution_count": null,
   "metadata": {},
   "outputs": [],
   "source": []
  },
  {
   "cell_type": "code",
   "execution_count": null,
   "metadata": {},
   "outputs": [],
   "source": []
  },
  {
   "cell_type": "code",
   "execution_count": null,
   "metadata": {},
   "outputs": [],
   "source": []
  },
  {
   "cell_type": "code",
   "execution_count": null,
   "metadata": {},
   "outputs": [],
   "source": []
  },
  {
   "cell_type": "code",
   "execution_count": null,
   "metadata": {},
   "outputs": [],
   "source": []
  },
  {
   "cell_type": "code",
   "execution_count": null,
   "metadata": {},
   "outputs": [],
   "source": []
  },
  {
   "cell_type": "code",
   "execution_count": null,
   "metadata": {},
   "outputs": [],
   "source": []
  },
  {
   "cell_type": "code",
   "execution_count": null,
   "metadata": {},
   "outputs": [],
   "source": []
  },
  {
   "cell_type": "code",
   "execution_count": null,
   "metadata": {},
   "outputs": [],
   "source": []
  },
  {
   "cell_type": "markdown",
   "metadata": {},
   "source": []
  },
  {
   "cell_type": "markdown",
   "metadata": {},
   "source": [
    "https://rosstat.gov.ru/storage/mediabank/cpi_ru.pdf\n",
    "\n",
    "\n",
    "Нильсен, Эйлин. Практический анализ временных рядов: прогнозирование со статистикой и машинное обучение. : Пер. с англ. — СПб. : ООО “Диалектика”, 2021. — 544 с. : ил. — Парал. тит. англ. ISBN 978-5-907365-04-9 (рус.)"
   ]
  },
  {
   "cell_type": "code",
   "execution_count": null,
   "metadata": {},
   "outputs": [],
   "source": []
  }
 ],
 "metadata": {
  "colab": {
   "collapsed_sections": [
    "KrbWadohmKDW",
    "6ewkSN9HopdT",
    "nJOi2r0arUPO",
    "yCP03WOquUGV",
    "3WgaOpdsv9Jh",
    "dPkdL2NpxnvE",
    "N4PQ78JB0WW1"
   ],
   "provenance": [],
   "toc_visible": true
  },
  "kernelspec": {
   "display_name": "Python 3 (ipykernel)",
   "language": "python",
   "name": "python3"
  },
  "language_info": {
   "codemirror_mode": {
    "name": "ipython",
    "version": 3
   },
   "file_extension": ".py",
   "mimetype": "text/x-python",
   "name": "python",
   "nbconvert_exporter": "python",
   "pygments_lexer": "ipython3",
   "version": "3.10.5"
  }
 },
 "nbformat": 4,
 "nbformat_minor": 1
}
